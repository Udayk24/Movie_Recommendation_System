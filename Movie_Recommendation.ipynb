{
  "nbformat": 4,
  "nbformat_minor": 0,
  "metadata": {
    "colab": {
      "provenance": []
    },
    "kernelspec": {
      "name": "python3",
      "display_name": "Python 3"
    },
    "language_info": {
      "name": "python"
    }
  },
  "cells": [
    {
      "cell_type": "markdown",
      "source": [
        "#Movie Recommendation System\n"
      ],
      "metadata": {
        "id": "F3SxFNFX2uUV"
      }
    },
    {
      "cell_type": "markdown",
      "source": [
        "##Objective\n",
        "The primary goal of this project is to develop a movie recommendation system based on content-based filtering. The system leverages natural language processing and machine learning techniques to suggest movies similar to a user's input, considering movie features such as genre, keywords, tagline, cast, and director."
      ],
      "metadata": {
        "id": "CGYSHo0X3Nab"
      }
    },
    {
      "cell_type": "markdown",
      "source": [
        "##Data Source\n",
        "Dataset from Github: YBIFoundation\\Dataset\\MoviesRecommendation.csv"
      ],
      "metadata": {
        "id": "KzZGS62a3hTG"
      }
    },
    {
      "cell_type": "markdown",
      "source": [
        "##Import Libraries"
      ],
      "metadata": {
        "id": "CQ9ckaFu4Bif"
      }
    },
    {
      "cell_type": "code",
      "execution_count": 1,
      "metadata": {
        "id": "qHJFhssfJyFe"
      },
      "outputs": [],
      "source": [
        "import pandas as pd"
      ]
    },
    {
      "cell_type": "code",
      "source": [
        "import numpy as np"
      ],
      "metadata": {
        "id": "O_sNmOoinyrd"
      },
      "execution_count": 2,
      "outputs": []
    },
    {
      "cell_type": "code",
      "source": [
        "from sklearn.metrics.pairwise import cosine_similarity"
      ],
      "metadata": {
        "id": "K5IG6JBz0iQS"
      },
      "execution_count": 71,
      "outputs": []
    },
    {
      "cell_type": "code",
      "source": [
        "import difflib"
      ],
      "metadata": {
        "id": "ITcazUc30jZG"
      },
      "execution_count": 72,
      "outputs": []
    },
    {
      "cell_type": "code",
      "source": [
        "from sklearn.feature_extraction.text import TfidfVectorizer\n",
        "tfidf = TfidfVectorizer()"
      ],
      "metadata": {
        "id": "rOR8xy9VePxT"
      },
      "execution_count": 56,
      "outputs": []
    },
    {
      "cell_type": "markdown",
      "source": [
        "##Import Data"
      ],
      "metadata": {
        "id": "113yZDNr4JTX"
      }
    },
    {
      "cell_type": "code",
      "source": [
        "df = pd.read_csv('https://github.com/YBIFoundation/Dataset/raw/main/Movies%20Recommendation.csv')"
      ],
      "metadata": {
        "id": "bFZhbvD3n1B-"
      },
      "execution_count": 57,
      "outputs": []
    },
    {
      "cell_type": "code",
      "source": [
        "df.head()"
      ],
      "metadata": {
        "colab": {
          "base_uri": "https://localhost:8080/",
          "height": 672
        },
        "id": "Zkk2N1yqrP3z",
        "outputId": "a3dcc0c7-6436-4334-8d91-72eba28042c7"
      },
      "execution_count": 58,
      "outputs": [
        {
          "output_type": "execute_result",
          "data": {
            "text/plain": [
              "   Movie_ID      Movie_Title                       Movie_Genre Movie_Language  \\\n",
              "0         1       Four Rooms                      Crime Comedy             en   \n",
              "1         2        Star Wars  Adventure Action Science Fiction             en   \n",
              "2         3     Finding Nemo                  Animation Family             en   \n",
              "3         4     Forrest Gump              Comedy Drama Romance             en   \n",
              "4         5  American Beauty                             Drama             en   \n",
              "\n",
              "   Movie_Budget  Movie_Popularity Movie_Release_Date  Movie_Revenue  \\\n",
              "0       4000000         22.876230         09-12-1995        4300000   \n",
              "1      11000000        126.393695         25-05-1977      775398007   \n",
              "2      94000000         85.688789         30-05-2003      940335536   \n",
              "3      55000000        138.133331         06-07-1994      677945399   \n",
              "4      15000000         80.878605         15-09-1999      356296601   \n",
              "\n",
              "   Movie_Runtime  Movie_Vote  ...  \\\n",
              "0           98.0         6.5  ...   \n",
              "1          121.0         8.1  ...   \n",
              "2          100.0         7.6  ...   \n",
              "3          142.0         8.2  ...   \n",
              "4          122.0         7.9  ...   \n",
              "\n",
              "                                      Movie_Homepage  \\\n",
              "0                                                NaN   \n",
              "1  http://www.starwars.com/films/star-wars-episod...   \n",
              "2              http://movies.disney.com/finding-nemo   \n",
              "3                                                NaN   \n",
              "4                      http://www.dreamworks.com/ab/   \n",
              "\n",
              "                                      Movie_Keywords  \\\n",
              "0          hotel new year's eve witch bet hotel room   \n",
              "1        android galaxy hermit death star lightsaber   \n",
              "2  father son relationship harbor underwater fish...   \n",
              "3  vietnam veteran hippie mentally disabled runni...   \n",
              "4  male nudity female nudity adultery midlife cri...   \n",
              "\n",
              "                                      Movie_Overview  \\\n",
              "0  It's Ted the Bellhop's first night on the job....   \n",
              "1  Princess Leia is captured and held hostage by ...   \n",
              "2  Nemo, an adventurous young clownfish, is unexp...   \n",
              "3  A man with a low IQ has accomplished great thi...   \n",
              "4  Lester Burnham, a depressed suburban father in...   \n",
              "\n",
              "                              Movie_Production_House  \\\n",
              "0  [{\"name\": \"Miramax Films\", \"id\": 14}, {\"name\":...   \n",
              "1  [{\"name\": \"Lucasfilm\", \"id\": 1}, {\"name\": \"Twe...   \n",
              "2     [{\"name\": \"Pixar Animation Studios\", \"id\": 3}]   \n",
              "3          [{\"name\": \"Paramount Pictures\", \"id\": 4}]   \n",
              "4  [{\"name\": \"DreamWorks SKG\", \"id\": 27}, {\"name\"...   \n",
              "\n",
              "                            Movie_Production_Country  \\\n",
              "0  [{\"iso_3166_1\": \"US\", \"name\": \"United States o...   \n",
              "1  [{\"iso_3166_1\": \"US\", \"name\": \"United States o...   \n",
              "2  [{\"iso_3166_1\": \"US\", \"name\": \"United States o...   \n",
              "3  [{\"iso_3166_1\": \"US\", \"name\": \"United States o...   \n",
              "4  [{\"iso_3166_1\": \"US\", \"name\": \"United States o...   \n",
              "\n",
              "                      Movie_Spoken_Language  \\\n",
              "0  [{\"iso_639_1\": \"en\", \"name\": \"English\"}]   \n",
              "1  [{\"iso_639_1\": \"en\", \"name\": \"English\"}]   \n",
              "2  [{\"iso_639_1\": \"en\", \"name\": \"English\"}]   \n",
              "3  [{\"iso_639_1\": \"en\", \"name\": \"English\"}]   \n",
              "4  [{\"iso_639_1\": \"en\", \"name\": \"English\"}]   \n",
              "\n",
              "                                       Movie_Tagline  \\\n",
              "0  Twelve outrageous guests. Four scandalous requ...   \n",
              "1       A long time ago in a galaxy far, far away...   \n",
              "2  There are 3.7 trillion fish in the ocean, they...   \n",
              "3  The world will never be the same, once you've ...   \n",
              "4                                       Look closer.   \n",
              "\n",
              "                                          Movie_Cast  \\\n",
              "0  Tim Roth Antonio Banderas Jennifer Beals Madon...   \n",
              "1  Mark Hamill Harrison Ford Carrie Fisher Peter ...   \n",
              "2  Albert Brooks Ellen DeGeneres Alexander Gould ...   \n",
              "3  Tom Hanks Robin Wright Gary Sinise Mykelti Wil...   \n",
              "4  Kevin Spacey Annette Bening Thora Birch Wes Be...   \n",
              "\n",
              "                                          Movie_Crew   Movie_Director  \n",
              "0  [{'name': 'Allison Anders', 'gender': 1, 'depa...   Allison Anders  \n",
              "1  [{'name': 'George Lucas', 'gender': 2, 'depart...     George Lucas  \n",
              "2  [{'name': 'Andrew Stanton', 'gender': 2, 'depa...   Andrew Stanton  \n",
              "3  [{'name': 'Alan Silvestri', 'gender': 2, 'depa...  Robert Zemeckis  \n",
              "4  [{'name': 'Thomas Newman', 'gender': 2, 'depar...       Sam Mendes  \n",
              "\n",
              "[5 rows x 21 columns]"
            ],
            "text/html": [
              "\n",
              "  <div id=\"df-8df187b7-eebf-4209-93cf-3d06444d9416\" class=\"colab-df-container\">\n",
              "    <div>\n",
              "<style scoped>\n",
              "    .dataframe tbody tr th:only-of-type {\n",
              "        vertical-align: middle;\n",
              "    }\n",
              "\n",
              "    .dataframe tbody tr th {\n",
              "        vertical-align: top;\n",
              "    }\n",
              "\n",
              "    .dataframe thead th {\n",
              "        text-align: right;\n",
              "    }\n",
              "</style>\n",
              "<table border=\"1\" class=\"dataframe\">\n",
              "  <thead>\n",
              "    <tr style=\"text-align: right;\">\n",
              "      <th></th>\n",
              "      <th>Movie_ID</th>\n",
              "      <th>Movie_Title</th>\n",
              "      <th>Movie_Genre</th>\n",
              "      <th>Movie_Language</th>\n",
              "      <th>Movie_Budget</th>\n",
              "      <th>Movie_Popularity</th>\n",
              "      <th>Movie_Release_Date</th>\n",
              "      <th>Movie_Revenue</th>\n",
              "      <th>Movie_Runtime</th>\n",
              "      <th>Movie_Vote</th>\n",
              "      <th>...</th>\n",
              "      <th>Movie_Homepage</th>\n",
              "      <th>Movie_Keywords</th>\n",
              "      <th>Movie_Overview</th>\n",
              "      <th>Movie_Production_House</th>\n",
              "      <th>Movie_Production_Country</th>\n",
              "      <th>Movie_Spoken_Language</th>\n",
              "      <th>Movie_Tagline</th>\n",
              "      <th>Movie_Cast</th>\n",
              "      <th>Movie_Crew</th>\n",
              "      <th>Movie_Director</th>\n",
              "    </tr>\n",
              "  </thead>\n",
              "  <tbody>\n",
              "    <tr>\n",
              "      <th>0</th>\n",
              "      <td>1</td>\n",
              "      <td>Four Rooms</td>\n",
              "      <td>Crime Comedy</td>\n",
              "      <td>en</td>\n",
              "      <td>4000000</td>\n",
              "      <td>22.876230</td>\n",
              "      <td>09-12-1995</td>\n",
              "      <td>4300000</td>\n",
              "      <td>98.0</td>\n",
              "      <td>6.5</td>\n",
              "      <td>...</td>\n",
              "      <td>NaN</td>\n",
              "      <td>hotel new year's eve witch bet hotel room</td>\n",
              "      <td>It's Ted the Bellhop's first night on the job....</td>\n",
              "      <td>[{\"name\": \"Miramax Films\", \"id\": 14}, {\"name\":...</td>\n",
              "      <td>[{\"iso_3166_1\": \"US\", \"name\": \"United States o...</td>\n",
              "      <td>[{\"iso_639_1\": \"en\", \"name\": \"English\"}]</td>\n",
              "      <td>Twelve outrageous guests. Four scandalous requ...</td>\n",
              "      <td>Tim Roth Antonio Banderas Jennifer Beals Madon...</td>\n",
              "      <td>[{'name': 'Allison Anders', 'gender': 1, 'depa...</td>\n",
              "      <td>Allison Anders</td>\n",
              "    </tr>\n",
              "    <tr>\n",
              "      <th>1</th>\n",
              "      <td>2</td>\n",
              "      <td>Star Wars</td>\n",
              "      <td>Adventure Action Science Fiction</td>\n",
              "      <td>en</td>\n",
              "      <td>11000000</td>\n",
              "      <td>126.393695</td>\n",
              "      <td>25-05-1977</td>\n",
              "      <td>775398007</td>\n",
              "      <td>121.0</td>\n",
              "      <td>8.1</td>\n",
              "      <td>...</td>\n",
              "      <td>http://www.starwars.com/films/star-wars-episod...</td>\n",
              "      <td>android galaxy hermit death star lightsaber</td>\n",
              "      <td>Princess Leia is captured and held hostage by ...</td>\n",
              "      <td>[{\"name\": \"Lucasfilm\", \"id\": 1}, {\"name\": \"Twe...</td>\n",
              "      <td>[{\"iso_3166_1\": \"US\", \"name\": \"United States o...</td>\n",
              "      <td>[{\"iso_639_1\": \"en\", \"name\": \"English\"}]</td>\n",
              "      <td>A long time ago in a galaxy far, far away...</td>\n",
              "      <td>Mark Hamill Harrison Ford Carrie Fisher Peter ...</td>\n",
              "      <td>[{'name': 'George Lucas', 'gender': 2, 'depart...</td>\n",
              "      <td>George Lucas</td>\n",
              "    </tr>\n",
              "    <tr>\n",
              "      <th>2</th>\n",
              "      <td>3</td>\n",
              "      <td>Finding Nemo</td>\n",
              "      <td>Animation Family</td>\n",
              "      <td>en</td>\n",
              "      <td>94000000</td>\n",
              "      <td>85.688789</td>\n",
              "      <td>30-05-2003</td>\n",
              "      <td>940335536</td>\n",
              "      <td>100.0</td>\n",
              "      <td>7.6</td>\n",
              "      <td>...</td>\n",
              "      <td>http://movies.disney.com/finding-nemo</td>\n",
              "      <td>father son relationship harbor underwater fish...</td>\n",
              "      <td>Nemo, an adventurous young clownfish, is unexp...</td>\n",
              "      <td>[{\"name\": \"Pixar Animation Studios\", \"id\": 3}]</td>\n",
              "      <td>[{\"iso_3166_1\": \"US\", \"name\": \"United States o...</td>\n",
              "      <td>[{\"iso_639_1\": \"en\", \"name\": \"English\"}]</td>\n",
              "      <td>There are 3.7 trillion fish in the ocean, they...</td>\n",
              "      <td>Albert Brooks Ellen DeGeneres Alexander Gould ...</td>\n",
              "      <td>[{'name': 'Andrew Stanton', 'gender': 2, 'depa...</td>\n",
              "      <td>Andrew Stanton</td>\n",
              "    </tr>\n",
              "    <tr>\n",
              "      <th>3</th>\n",
              "      <td>4</td>\n",
              "      <td>Forrest Gump</td>\n",
              "      <td>Comedy Drama Romance</td>\n",
              "      <td>en</td>\n",
              "      <td>55000000</td>\n",
              "      <td>138.133331</td>\n",
              "      <td>06-07-1994</td>\n",
              "      <td>677945399</td>\n",
              "      <td>142.0</td>\n",
              "      <td>8.2</td>\n",
              "      <td>...</td>\n",
              "      <td>NaN</td>\n",
              "      <td>vietnam veteran hippie mentally disabled runni...</td>\n",
              "      <td>A man with a low IQ has accomplished great thi...</td>\n",
              "      <td>[{\"name\": \"Paramount Pictures\", \"id\": 4}]</td>\n",
              "      <td>[{\"iso_3166_1\": \"US\", \"name\": \"United States o...</td>\n",
              "      <td>[{\"iso_639_1\": \"en\", \"name\": \"English\"}]</td>\n",
              "      <td>The world will never be the same, once you've ...</td>\n",
              "      <td>Tom Hanks Robin Wright Gary Sinise Mykelti Wil...</td>\n",
              "      <td>[{'name': 'Alan Silvestri', 'gender': 2, 'depa...</td>\n",
              "      <td>Robert Zemeckis</td>\n",
              "    </tr>\n",
              "    <tr>\n",
              "      <th>4</th>\n",
              "      <td>5</td>\n",
              "      <td>American Beauty</td>\n",
              "      <td>Drama</td>\n",
              "      <td>en</td>\n",
              "      <td>15000000</td>\n",
              "      <td>80.878605</td>\n",
              "      <td>15-09-1999</td>\n",
              "      <td>356296601</td>\n",
              "      <td>122.0</td>\n",
              "      <td>7.9</td>\n",
              "      <td>...</td>\n",
              "      <td>http://www.dreamworks.com/ab/</td>\n",
              "      <td>male nudity female nudity adultery midlife cri...</td>\n",
              "      <td>Lester Burnham, a depressed suburban father in...</td>\n",
              "      <td>[{\"name\": \"DreamWorks SKG\", \"id\": 27}, {\"name\"...</td>\n",
              "      <td>[{\"iso_3166_1\": \"US\", \"name\": \"United States o...</td>\n",
              "      <td>[{\"iso_639_1\": \"en\", \"name\": \"English\"}]</td>\n",
              "      <td>Look closer.</td>\n",
              "      <td>Kevin Spacey Annette Bening Thora Birch Wes Be...</td>\n",
              "      <td>[{'name': 'Thomas Newman', 'gender': 2, 'depar...</td>\n",
              "      <td>Sam Mendes</td>\n",
              "    </tr>\n",
              "  </tbody>\n",
              "</table>\n",
              "<p>5 rows × 21 columns</p>\n",
              "</div>\n",
              "    <div class=\"colab-df-buttons\">\n",
              "\n",
              "  <div class=\"colab-df-container\">\n",
              "    <button class=\"colab-df-convert\" onclick=\"convertToInteractive('df-8df187b7-eebf-4209-93cf-3d06444d9416')\"\n",
              "            title=\"Convert this dataframe to an interactive table.\"\n",
              "            style=\"display:none;\">\n",
              "\n",
              "  <svg xmlns=\"http://www.w3.org/2000/svg\" height=\"24px\" viewBox=\"0 -960 960 960\">\n",
              "    <path d=\"M120-120v-720h720v720H120Zm60-500h600v-160H180v160Zm220 220h160v-160H400v160Zm0 220h160v-160H400v160ZM180-400h160v-160H180v160Zm440 0h160v-160H620v160ZM180-180h160v-160H180v160Zm440 0h160v-160H620v160Z\"/>\n",
              "  </svg>\n",
              "    </button>\n",
              "\n",
              "  <style>\n",
              "    .colab-df-container {\n",
              "      display:flex;\n",
              "      gap: 12px;\n",
              "    }\n",
              "\n",
              "    .colab-df-convert {\n",
              "      background-color: #E8F0FE;\n",
              "      border: none;\n",
              "      border-radius: 50%;\n",
              "      cursor: pointer;\n",
              "      display: none;\n",
              "      fill: #1967D2;\n",
              "      height: 32px;\n",
              "      padding: 0 0 0 0;\n",
              "      width: 32px;\n",
              "    }\n",
              "\n",
              "    .colab-df-convert:hover {\n",
              "      background-color: #E2EBFA;\n",
              "      box-shadow: 0px 1px 2px rgba(60, 64, 67, 0.3), 0px 1px 3px 1px rgba(60, 64, 67, 0.15);\n",
              "      fill: #174EA6;\n",
              "    }\n",
              "\n",
              "    .colab-df-buttons div {\n",
              "      margin-bottom: 4px;\n",
              "    }\n",
              "\n",
              "    [theme=dark] .colab-df-convert {\n",
              "      background-color: #3B4455;\n",
              "      fill: #D2E3FC;\n",
              "    }\n",
              "\n",
              "    [theme=dark] .colab-df-convert:hover {\n",
              "      background-color: #434B5C;\n",
              "      box-shadow: 0px 1px 3px 1px rgba(0, 0, 0, 0.15);\n",
              "      filter: drop-shadow(0px 1px 2px rgba(0, 0, 0, 0.3));\n",
              "      fill: #FFFFFF;\n",
              "    }\n",
              "  </style>\n",
              "\n",
              "    <script>\n",
              "      const buttonEl =\n",
              "        document.querySelector('#df-8df187b7-eebf-4209-93cf-3d06444d9416 button.colab-df-convert');\n",
              "      buttonEl.style.display =\n",
              "        google.colab.kernel.accessAllowed ? 'block' : 'none';\n",
              "\n",
              "      async function convertToInteractive(key) {\n",
              "        const element = document.querySelector('#df-8df187b7-eebf-4209-93cf-3d06444d9416');\n",
              "        const dataTable =\n",
              "          await google.colab.kernel.invokeFunction('convertToInteractive',\n",
              "                                                    [key], {});\n",
              "        if (!dataTable) return;\n",
              "\n",
              "        const docLinkHtml = 'Like what you see? Visit the ' +\n",
              "          '<a target=\"_blank\" href=https://colab.research.google.com/notebooks/data_table.ipynb>data table notebook</a>'\n",
              "          + ' to learn more about interactive tables.';\n",
              "        element.innerHTML = '';\n",
              "        dataTable['output_type'] = 'display_data';\n",
              "        await google.colab.output.renderOutput(dataTable, element);\n",
              "        const docLink = document.createElement('div');\n",
              "        docLink.innerHTML = docLinkHtml;\n",
              "        element.appendChild(docLink);\n",
              "      }\n",
              "    </script>\n",
              "  </div>\n",
              "\n",
              "\n",
              "<div id=\"df-1f98efef-795a-471f-b3b2-13eaacfe0445\">\n",
              "  <button class=\"colab-df-quickchart\" onclick=\"quickchart('df-1f98efef-795a-471f-b3b2-13eaacfe0445')\"\n",
              "            title=\"Suggest charts\"\n",
              "            style=\"display:none;\">\n",
              "\n",
              "<svg xmlns=\"http://www.w3.org/2000/svg\" height=\"24px\"viewBox=\"0 0 24 24\"\n",
              "     width=\"24px\">\n",
              "    <g>\n",
              "        <path d=\"M19 3H5c-1.1 0-2 .9-2 2v14c0 1.1.9 2 2 2h14c1.1 0 2-.9 2-2V5c0-1.1-.9-2-2-2zM9 17H7v-7h2v7zm4 0h-2V7h2v10zm4 0h-2v-4h2v4z\"/>\n",
              "    </g>\n",
              "</svg>\n",
              "  </button>\n",
              "\n",
              "<style>\n",
              "  .colab-df-quickchart {\n",
              "      --bg-color: #E8F0FE;\n",
              "      --fill-color: #1967D2;\n",
              "      --hover-bg-color: #E2EBFA;\n",
              "      --hover-fill-color: #174EA6;\n",
              "      --disabled-fill-color: #AAA;\n",
              "      --disabled-bg-color: #DDD;\n",
              "  }\n",
              "\n",
              "  [theme=dark] .colab-df-quickchart {\n",
              "      --bg-color: #3B4455;\n",
              "      --fill-color: #D2E3FC;\n",
              "      --hover-bg-color: #434B5C;\n",
              "      --hover-fill-color: #FFFFFF;\n",
              "      --disabled-bg-color: #3B4455;\n",
              "      --disabled-fill-color: #666;\n",
              "  }\n",
              "\n",
              "  .colab-df-quickchart {\n",
              "    background-color: var(--bg-color);\n",
              "    border: none;\n",
              "    border-radius: 50%;\n",
              "    cursor: pointer;\n",
              "    display: none;\n",
              "    fill: var(--fill-color);\n",
              "    height: 32px;\n",
              "    padding: 0;\n",
              "    width: 32px;\n",
              "  }\n",
              "\n",
              "  .colab-df-quickchart:hover {\n",
              "    background-color: var(--hover-bg-color);\n",
              "    box-shadow: 0 1px 2px rgba(60, 64, 67, 0.3), 0 1px 3px 1px rgba(60, 64, 67, 0.15);\n",
              "    fill: var(--button-hover-fill-color);\n",
              "  }\n",
              "\n",
              "  .colab-df-quickchart-complete:disabled,\n",
              "  .colab-df-quickchart-complete:disabled:hover {\n",
              "    background-color: var(--disabled-bg-color);\n",
              "    fill: var(--disabled-fill-color);\n",
              "    box-shadow: none;\n",
              "  }\n",
              "\n",
              "  .colab-df-spinner {\n",
              "    border: 2px solid var(--fill-color);\n",
              "    border-color: transparent;\n",
              "    border-bottom-color: var(--fill-color);\n",
              "    animation:\n",
              "      spin 1s steps(1) infinite;\n",
              "  }\n",
              "\n",
              "  @keyframes spin {\n",
              "    0% {\n",
              "      border-color: transparent;\n",
              "      border-bottom-color: var(--fill-color);\n",
              "      border-left-color: var(--fill-color);\n",
              "    }\n",
              "    20% {\n",
              "      border-color: transparent;\n",
              "      border-left-color: var(--fill-color);\n",
              "      border-top-color: var(--fill-color);\n",
              "    }\n",
              "    30% {\n",
              "      border-color: transparent;\n",
              "      border-left-color: var(--fill-color);\n",
              "      border-top-color: var(--fill-color);\n",
              "      border-right-color: var(--fill-color);\n",
              "    }\n",
              "    40% {\n",
              "      border-color: transparent;\n",
              "      border-right-color: var(--fill-color);\n",
              "      border-top-color: var(--fill-color);\n",
              "    }\n",
              "    60% {\n",
              "      border-color: transparent;\n",
              "      border-right-color: var(--fill-color);\n",
              "    }\n",
              "    80% {\n",
              "      border-color: transparent;\n",
              "      border-right-color: var(--fill-color);\n",
              "      border-bottom-color: var(--fill-color);\n",
              "    }\n",
              "    90% {\n",
              "      border-color: transparent;\n",
              "      border-bottom-color: var(--fill-color);\n",
              "    }\n",
              "  }\n",
              "</style>\n",
              "\n",
              "  <script>\n",
              "    async function quickchart(key) {\n",
              "      const quickchartButtonEl =\n",
              "        document.querySelector('#' + key + ' button');\n",
              "      quickchartButtonEl.disabled = true;  // To prevent multiple clicks.\n",
              "      quickchartButtonEl.classList.add('colab-df-spinner');\n",
              "      try {\n",
              "        const charts = await google.colab.kernel.invokeFunction(\n",
              "            'suggestCharts', [key], {});\n",
              "      } catch (error) {\n",
              "        console.error('Error during call to suggestCharts:', error);\n",
              "      }\n",
              "      quickchartButtonEl.classList.remove('colab-df-spinner');\n",
              "      quickchartButtonEl.classList.add('colab-df-quickchart-complete');\n",
              "    }\n",
              "    (() => {\n",
              "      let quickchartButtonEl =\n",
              "        document.querySelector('#df-1f98efef-795a-471f-b3b2-13eaacfe0445 button');\n",
              "      quickchartButtonEl.style.display =\n",
              "        google.colab.kernel.accessAllowed ? 'block' : 'none';\n",
              "    })();\n",
              "  </script>\n",
              "</div>\n",
              "    </div>\n",
              "  </div>\n"
            ]
          },
          "metadata": {},
          "execution_count": 58
        }
      ]
    },
    {
      "cell_type": "markdown",
      "source": [
        "##Describing Data"
      ],
      "metadata": {
        "id": "O07jceN15NKc"
      }
    },
    {
      "cell_type": "code",
      "source": [
        "df.info()"
      ],
      "metadata": {
        "colab": {
          "base_uri": "https://localhost:8080/"
        },
        "id": "91Js7dMGrogP",
        "outputId": "3549a39c-cfc1-4fa2-be53-9cc66fd03df6"
      },
      "execution_count": 59,
      "outputs": [
        {
          "output_type": "stream",
          "name": "stdout",
          "text": [
            "<class 'pandas.core.frame.DataFrame'>\n",
            "RangeIndex: 4760 entries, 0 to 4759\n",
            "Data columns (total 21 columns):\n",
            " #   Column                    Non-Null Count  Dtype  \n",
            "---  ------                    --------------  -----  \n",
            " 0   Movie_ID                  4760 non-null   int64  \n",
            " 1   Movie_Title               4760 non-null   object \n",
            " 2   Movie_Genre               4760 non-null   object \n",
            " 3   Movie_Language            4760 non-null   object \n",
            " 4   Movie_Budget              4760 non-null   int64  \n",
            " 5   Movie_Popularity          4760 non-null   float64\n",
            " 6   Movie_Release_Date        4760 non-null   object \n",
            " 7   Movie_Revenue             4760 non-null   int64  \n",
            " 8   Movie_Runtime             4758 non-null   float64\n",
            " 9   Movie_Vote                4760 non-null   float64\n",
            " 10  Movie_Vote_Count          4760 non-null   int64  \n",
            " 11  Movie_Homepage            1699 non-null   object \n",
            " 12  Movie_Keywords            4373 non-null   object \n",
            " 13  Movie_Overview            4757 non-null   object \n",
            " 14  Movie_Production_House    4760 non-null   object \n",
            " 15  Movie_Production_Country  4760 non-null   object \n",
            " 16  Movie_Spoken_Language     4760 non-null   object \n",
            " 17  Movie_Tagline             3942 non-null   object \n",
            " 18  Movie_Cast                4733 non-null   object \n",
            " 19  Movie_Crew                4760 non-null   object \n",
            " 20  Movie_Director            4738 non-null   object \n",
            "dtypes: float64(3), int64(4), object(14)\n",
            "memory usage: 781.1+ KB\n"
          ]
        }
      ]
    },
    {
      "cell_type": "code",
      "source": [
        "df.shape"
      ],
      "metadata": {
        "colab": {
          "base_uri": "https://localhost:8080/"
        },
        "id": "E_F9A8B9sf8G",
        "outputId": "cbd75355-46e6-4db1-957d-819aedd14a2a"
      },
      "execution_count": 60,
      "outputs": [
        {
          "output_type": "execute_result",
          "data": {
            "text/plain": [
              "(4760, 21)"
            ]
          },
          "metadata": {},
          "execution_count": 60
        }
      ]
    },
    {
      "cell_type": "code",
      "source": [
        "df.columns"
      ],
      "metadata": {
        "colab": {
          "base_uri": "https://localhost:8080/"
        },
        "id": "hD-L4Bu-sjid",
        "outputId": "88313736-7e9c-4800-819e-0bb05c456737"
      },
      "execution_count": 61,
      "outputs": [
        {
          "output_type": "execute_result",
          "data": {
            "text/plain": [
              "Index(['Movie_ID', 'Movie_Title', 'Movie_Genre', 'Movie_Language',\n",
              "       'Movie_Budget', 'Movie_Popularity', 'Movie_Release_Date',\n",
              "       'Movie_Revenue', 'Movie_Runtime', 'Movie_Vote', 'Movie_Vote_Count',\n",
              "       'Movie_Homepage', 'Movie_Keywords', 'Movie_Overview',\n",
              "       'Movie_Production_House', 'Movie_Production_Country',\n",
              "       'Movie_Spoken_Language', 'Movie_Tagline', 'Movie_Cast', 'Movie_Crew',\n",
              "       'Movie_Director'],\n",
              "      dtype='object')"
            ]
          },
          "metadata": {},
          "execution_count": 61
        }
      ]
    },
    {
      "cell_type": "markdown",
      "source": [
        "##Data Preprocessing"
      ],
      "metadata": {
        "id": "bz_RF21q5bq5"
      }
    },
    {
      "cell_type": "code",
      "source": [
        "df_features = df[['Movie_Genre','Movie_Keywords','Movie_Tagline','Movie_Cast','Movie_Director']].fillna('')"
      ],
      "metadata": {
        "id": "TfMjZhhIXM3C"
      },
      "execution_count": 62,
      "outputs": []
    },
    {
      "cell_type": "code",
      "source": [
        "df_features.shape"
      ],
      "metadata": {
        "colab": {
          "base_uri": "https://localhost:8080/"
        },
        "id": "s25hJ9t0cNKz",
        "outputId": "8b065036-96d7-4286-e43d-7748696539a1"
      },
      "execution_count": 63,
      "outputs": [
        {
          "output_type": "execute_result",
          "data": {
            "text/plain": [
              "(4760, 5)"
            ]
          },
          "metadata": {},
          "execution_count": 63
        }
      ]
    },
    {
      "cell_type": "code",
      "source": [
        "df_features"
      ],
      "metadata": {
        "colab": {
          "base_uri": "https://localhost:8080/",
          "height": 580
        },
        "id": "bl-FsY7Wciku",
        "outputId": "8da9ebf5-1333-4935-9405-ed02dd81bf02"
      },
      "execution_count": 64,
      "outputs": [
        {
          "output_type": "execute_result",
          "data": {
            "text/plain": [
              "                           Movie_Genre  \\\n",
              "0                         Crime Comedy   \n",
              "1     Adventure Action Science Fiction   \n",
              "2                     Animation Family   \n",
              "3                 Comedy Drama Romance   \n",
              "4                                Drama   \n",
              "...                                ...   \n",
              "4755                            Horror   \n",
              "4756               Comedy Family Drama   \n",
              "4757                    Thriller Drama   \n",
              "4758                            Family   \n",
              "4759                       Documentary   \n",
              "\n",
              "                                         Movie_Keywords  \\\n",
              "0             hotel new year's eve witch bet hotel room   \n",
              "1           android galaxy hermit death star lightsaber   \n",
              "2     father son relationship harbor underwater fish...   \n",
              "3     vietnam veteran hippie mentally disabled runni...   \n",
              "4     male nudity female nudity adultery midlife cri...   \n",
              "...                                                 ...   \n",
              "4755                                                      \n",
              "4756                                                      \n",
              "4757                     christian film sex trafficking   \n",
              "4758                                                      \n",
              "4759  music actors legendary perfomer classic hollyw...   \n",
              "\n",
              "                                          Movie_Tagline  \\\n",
              "0     Twelve outrageous guests. Four scandalous requ...   \n",
              "1          A long time ago in a galaxy far, far away...   \n",
              "2     There are 3.7 trillion fish in the ocean, they...   \n",
              "3     The world will never be the same, once you've ...   \n",
              "4                                          Look closer.   \n",
              "...                                                 ...   \n",
              "4755                The hot spot where Satan's waitin'.   \n",
              "4756           It’s better to stand out than to fit in.   \n",
              "4757           She never knew it could happen to her...   \n",
              "4758                                                      \n",
              "4759                                                      \n",
              "\n",
              "                                             Movie_Cast     Movie_Director  \n",
              "0     Tim Roth Antonio Banderas Jennifer Beals Madon...     Allison Anders  \n",
              "1     Mark Hamill Harrison Ford Carrie Fisher Peter ...       George Lucas  \n",
              "2     Albert Brooks Ellen DeGeneres Alexander Gould ...     Andrew Stanton  \n",
              "3     Tom Hanks Robin Wright Gary Sinise Mykelti Wil...    Robert Zemeckis  \n",
              "4     Kevin Spacey Annette Bening Thora Birch Wes Be...         Sam Mendes  \n",
              "...                                                 ...                ...  \n",
              "4755  Lisa Hart Carroll Michael Des Barres Paul Drak...         Pece Dingo  \n",
              "4756  Roni Akurati Brighton Sharbino Jason Lee Anjul...       Frank Lotito  \n",
              "4757  Nicole Smolen Kim Baldwin Ariana Stephens Brys...       Jaco Booyens  \n",
              "4758                                                                        \n",
              "4759                                    Tony Oppedisano  Simon Napier-Bell  \n",
              "\n",
              "[4760 rows x 5 columns]"
            ],
            "text/html": [
              "\n",
              "  <div id=\"df-9665e4b2-1e2d-4ddb-bb1b-88014662ab38\" class=\"colab-df-container\">\n",
              "    <div>\n",
              "<style scoped>\n",
              "    .dataframe tbody tr th:only-of-type {\n",
              "        vertical-align: middle;\n",
              "    }\n",
              "\n",
              "    .dataframe tbody tr th {\n",
              "        vertical-align: top;\n",
              "    }\n",
              "\n",
              "    .dataframe thead th {\n",
              "        text-align: right;\n",
              "    }\n",
              "</style>\n",
              "<table border=\"1\" class=\"dataframe\">\n",
              "  <thead>\n",
              "    <tr style=\"text-align: right;\">\n",
              "      <th></th>\n",
              "      <th>Movie_Genre</th>\n",
              "      <th>Movie_Keywords</th>\n",
              "      <th>Movie_Tagline</th>\n",
              "      <th>Movie_Cast</th>\n",
              "      <th>Movie_Director</th>\n",
              "    </tr>\n",
              "  </thead>\n",
              "  <tbody>\n",
              "    <tr>\n",
              "      <th>0</th>\n",
              "      <td>Crime Comedy</td>\n",
              "      <td>hotel new year's eve witch bet hotel room</td>\n",
              "      <td>Twelve outrageous guests. Four scandalous requ...</td>\n",
              "      <td>Tim Roth Antonio Banderas Jennifer Beals Madon...</td>\n",
              "      <td>Allison Anders</td>\n",
              "    </tr>\n",
              "    <tr>\n",
              "      <th>1</th>\n",
              "      <td>Adventure Action Science Fiction</td>\n",
              "      <td>android galaxy hermit death star lightsaber</td>\n",
              "      <td>A long time ago in a galaxy far, far away...</td>\n",
              "      <td>Mark Hamill Harrison Ford Carrie Fisher Peter ...</td>\n",
              "      <td>George Lucas</td>\n",
              "    </tr>\n",
              "    <tr>\n",
              "      <th>2</th>\n",
              "      <td>Animation Family</td>\n",
              "      <td>father son relationship harbor underwater fish...</td>\n",
              "      <td>There are 3.7 trillion fish in the ocean, they...</td>\n",
              "      <td>Albert Brooks Ellen DeGeneres Alexander Gould ...</td>\n",
              "      <td>Andrew Stanton</td>\n",
              "    </tr>\n",
              "    <tr>\n",
              "      <th>3</th>\n",
              "      <td>Comedy Drama Romance</td>\n",
              "      <td>vietnam veteran hippie mentally disabled runni...</td>\n",
              "      <td>The world will never be the same, once you've ...</td>\n",
              "      <td>Tom Hanks Robin Wright Gary Sinise Mykelti Wil...</td>\n",
              "      <td>Robert Zemeckis</td>\n",
              "    </tr>\n",
              "    <tr>\n",
              "      <th>4</th>\n",
              "      <td>Drama</td>\n",
              "      <td>male nudity female nudity adultery midlife cri...</td>\n",
              "      <td>Look closer.</td>\n",
              "      <td>Kevin Spacey Annette Bening Thora Birch Wes Be...</td>\n",
              "      <td>Sam Mendes</td>\n",
              "    </tr>\n",
              "    <tr>\n",
              "      <th>...</th>\n",
              "      <td>...</td>\n",
              "      <td>...</td>\n",
              "      <td>...</td>\n",
              "      <td>...</td>\n",
              "      <td>...</td>\n",
              "    </tr>\n",
              "    <tr>\n",
              "      <th>4755</th>\n",
              "      <td>Horror</td>\n",
              "      <td></td>\n",
              "      <td>The hot spot where Satan's waitin'.</td>\n",
              "      <td>Lisa Hart Carroll Michael Des Barres Paul Drak...</td>\n",
              "      <td>Pece Dingo</td>\n",
              "    </tr>\n",
              "    <tr>\n",
              "      <th>4756</th>\n",
              "      <td>Comedy Family Drama</td>\n",
              "      <td></td>\n",
              "      <td>It’s better to stand out than to fit in.</td>\n",
              "      <td>Roni Akurati Brighton Sharbino Jason Lee Anjul...</td>\n",
              "      <td>Frank Lotito</td>\n",
              "    </tr>\n",
              "    <tr>\n",
              "      <th>4757</th>\n",
              "      <td>Thriller Drama</td>\n",
              "      <td>christian film sex trafficking</td>\n",
              "      <td>She never knew it could happen to her...</td>\n",
              "      <td>Nicole Smolen Kim Baldwin Ariana Stephens Brys...</td>\n",
              "      <td>Jaco Booyens</td>\n",
              "    </tr>\n",
              "    <tr>\n",
              "      <th>4758</th>\n",
              "      <td>Family</td>\n",
              "      <td></td>\n",
              "      <td></td>\n",
              "      <td></td>\n",
              "      <td></td>\n",
              "    </tr>\n",
              "    <tr>\n",
              "      <th>4759</th>\n",
              "      <td>Documentary</td>\n",
              "      <td>music actors legendary perfomer classic hollyw...</td>\n",
              "      <td></td>\n",
              "      <td>Tony Oppedisano</td>\n",
              "      <td>Simon Napier-Bell</td>\n",
              "    </tr>\n",
              "  </tbody>\n",
              "</table>\n",
              "<p>4760 rows × 5 columns</p>\n",
              "</div>\n",
              "    <div class=\"colab-df-buttons\">\n",
              "\n",
              "  <div class=\"colab-df-container\">\n",
              "    <button class=\"colab-df-convert\" onclick=\"convertToInteractive('df-9665e4b2-1e2d-4ddb-bb1b-88014662ab38')\"\n",
              "            title=\"Convert this dataframe to an interactive table.\"\n",
              "            style=\"display:none;\">\n",
              "\n",
              "  <svg xmlns=\"http://www.w3.org/2000/svg\" height=\"24px\" viewBox=\"0 -960 960 960\">\n",
              "    <path d=\"M120-120v-720h720v720H120Zm60-500h600v-160H180v160Zm220 220h160v-160H400v160Zm0 220h160v-160H400v160ZM180-400h160v-160H180v160Zm440 0h160v-160H620v160ZM180-180h160v-160H180v160Zm440 0h160v-160H620v160Z\"/>\n",
              "  </svg>\n",
              "    </button>\n",
              "\n",
              "  <style>\n",
              "    .colab-df-container {\n",
              "      display:flex;\n",
              "      gap: 12px;\n",
              "    }\n",
              "\n",
              "    .colab-df-convert {\n",
              "      background-color: #E8F0FE;\n",
              "      border: none;\n",
              "      border-radius: 50%;\n",
              "      cursor: pointer;\n",
              "      display: none;\n",
              "      fill: #1967D2;\n",
              "      height: 32px;\n",
              "      padding: 0 0 0 0;\n",
              "      width: 32px;\n",
              "    }\n",
              "\n",
              "    .colab-df-convert:hover {\n",
              "      background-color: #E2EBFA;\n",
              "      box-shadow: 0px 1px 2px rgba(60, 64, 67, 0.3), 0px 1px 3px 1px rgba(60, 64, 67, 0.15);\n",
              "      fill: #174EA6;\n",
              "    }\n",
              "\n",
              "    .colab-df-buttons div {\n",
              "      margin-bottom: 4px;\n",
              "    }\n",
              "\n",
              "    [theme=dark] .colab-df-convert {\n",
              "      background-color: #3B4455;\n",
              "      fill: #D2E3FC;\n",
              "    }\n",
              "\n",
              "    [theme=dark] .colab-df-convert:hover {\n",
              "      background-color: #434B5C;\n",
              "      box-shadow: 0px 1px 3px 1px rgba(0, 0, 0, 0.15);\n",
              "      filter: drop-shadow(0px 1px 2px rgba(0, 0, 0, 0.3));\n",
              "      fill: #FFFFFF;\n",
              "    }\n",
              "  </style>\n",
              "\n",
              "    <script>\n",
              "      const buttonEl =\n",
              "        document.querySelector('#df-9665e4b2-1e2d-4ddb-bb1b-88014662ab38 button.colab-df-convert');\n",
              "      buttonEl.style.display =\n",
              "        google.colab.kernel.accessAllowed ? 'block' : 'none';\n",
              "\n",
              "      async function convertToInteractive(key) {\n",
              "        const element = document.querySelector('#df-9665e4b2-1e2d-4ddb-bb1b-88014662ab38');\n",
              "        const dataTable =\n",
              "          await google.colab.kernel.invokeFunction('convertToInteractive',\n",
              "                                                    [key], {});\n",
              "        if (!dataTable) return;\n",
              "\n",
              "        const docLinkHtml = 'Like what you see? Visit the ' +\n",
              "          '<a target=\"_blank\" href=https://colab.research.google.com/notebooks/data_table.ipynb>data table notebook</a>'\n",
              "          + ' to learn more about interactive tables.';\n",
              "        element.innerHTML = '';\n",
              "        dataTable['output_type'] = 'display_data';\n",
              "        await google.colab.output.renderOutput(dataTable, element);\n",
              "        const docLink = document.createElement('div');\n",
              "        docLink.innerHTML = docLinkHtml;\n",
              "        element.appendChild(docLink);\n",
              "      }\n",
              "    </script>\n",
              "  </div>\n",
              "\n",
              "\n",
              "<div id=\"df-84450701-80b0-4598-8209-26256b8ae348\">\n",
              "  <button class=\"colab-df-quickchart\" onclick=\"quickchart('df-84450701-80b0-4598-8209-26256b8ae348')\"\n",
              "            title=\"Suggest charts\"\n",
              "            style=\"display:none;\">\n",
              "\n",
              "<svg xmlns=\"http://www.w3.org/2000/svg\" height=\"24px\"viewBox=\"0 0 24 24\"\n",
              "     width=\"24px\">\n",
              "    <g>\n",
              "        <path d=\"M19 3H5c-1.1 0-2 .9-2 2v14c0 1.1.9 2 2 2h14c1.1 0 2-.9 2-2V5c0-1.1-.9-2-2-2zM9 17H7v-7h2v7zm4 0h-2V7h2v10zm4 0h-2v-4h2v4z\"/>\n",
              "    </g>\n",
              "</svg>\n",
              "  </button>\n",
              "\n",
              "<style>\n",
              "  .colab-df-quickchart {\n",
              "      --bg-color: #E8F0FE;\n",
              "      --fill-color: #1967D2;\n",
              "      --hover-bg-color: #E2EBFA;\n",
              "      --hover-fill-color: #174EA6;\n",
              "      --disabled-fill-color: #AAA;\n",
              "      --disabled-bg-color: #DDD;\n",
              "  }\n",
              "\n",
              "  [theme=dark] .colab-df-quickchart {\n",
              "      --bg-color: #3B4455;\n",
              "      --fill-color: #D2E3FC;\n",
              "      --hover-bg-color: #434B5C;\n",
              "      --hover-fill-color: #FFFFFF;\n",
              "      --disabled-bg-color: #3B4455;\n",
              "      --disabled-fill-color: #666;\n",
              "  }\n",
              "\n",
              "  .colab-df-quickchart {\n",
              "    background-color: var(--bg-color);\n",
              "    border: none;\n",
              "    border-radius: 50%;\n",
              "    cursor: pointer;\n",
              "    display: none;\n",
              "    fill: var(--fill-color);\n",
              "    height: 32px;\n",
              "    padding: 0;\n",
              "    width: 32px;\n",
              "  }\n",
              "\n",
              "  .colab-df-quickchart:hover {\n",
              "    background-color: var(--hover-bg-color);\n",
              "    box-shadow: 0 1px 2px rgba(60, 64, 67, 0.3), 0 1px 3px 1px rgba(60, 64, 67, 0.15);\n",
              "    fill: var(--button-hover-fill-color);\n",
              "  }\n",
              "\n",
              "  .colab-df-quickchart-complete:disabled,\n",
              "  .colab-df-quickchart-complete:disabled:hover {\n",
              "    background-color: var(--disabled-bg-color);\n",
              "    fill: var(--disabled-fill-color);\n",
              "    box-shadow: none;\n",
              "  }\n",
              "\n",
              "  .colab-df-spinner {\n",
              "    border: 2px solid var(--fill-color);\n",
              "    border-color: transparent;\n",
              "    border-bottom-color: var(--fill-color);\n",
              "    animation:\n",
              "      spin 1s steps(1) infinite;\n",
              "  }\n",
              "\n",
              "  @keyframes spin {\n",
              "    0% {\n",
              "      border-color: transparent;\n",
              "      border-bottom-color: var(--fill-color);\n",
              "      border-left-color: var(--fill-color);\n",
              "    }\n",
              "    20% {\n",
              "      border-color: transparent;\n",
              "      border-left-color: var(--fill-color);\n",
              "      border-top-color: var(--fill-color);\n",
              "    }\n",
              "    30% {\n",
              "      border-color: transparent;\n",
              "      border-left-color: var(--fill-color);\n",
              "      border-top-color: var(--fill-color);\n",
              "      border-right-color: var(--fill-color);\n",
              "    }\n",
              "    40% {\n",
              "      border-color: transparent;\n",
              "      border-right-color: var(--fill-color);\n",
              "      border-top-color: var(--fill-color);\n",
              "    }\n",
              "    60% {\n",
              "      border-color: transparent;\n",
              "      border-right-color: var(--fill-color);\n",
              "    }\n",
              "    80% {\n",
              "      border-color: transparent;\n",
              "      border-right-color: var(--fill-color);\n",
              "      border-bottom-color: var(--fill-color);\n",
              "    }\n",
              "    90% {\n",
              "      border-color: transparent;\n",
              "      border-bottom-color: var(--fill-color);\n",
              "    }\n",
              "  }\n",
              "</style>\n",
              "\n",
              "  <script>\n",
              "    async function quickchart(key) {\n",
              "      const quickchartButtonEl =\n",
              "        document.querySelector('#' + key + ' button');\n",
              "      quickchartButtonEl.disabled = true;  // To prevent multiple clicks.\n",
              "      quickchartButtonEl.classList.add('colab-df-spinner');\n",
              "      try {\n",
              "        const charts = await google.colab.kernel.invokeFunction(\n",
              "            'suggestCharts', [key], {});\n",
              "      } catch (error) {\n",
              "        console.error('Error during call to suggestCharts:', error);\n",
              "      }\n",
              "      quickchartButtonEl.classList.remove('colab-df-spinner');\n",
              "      quickchartButtonEl.classList.add('colab-df-quickchart-complete');\n",
              "    }\n",
              "    (() => {\n",
              "      let quickchartButtonEl =\n",
              "        document.querySelector('#df-84450701-80b0-4598-8209-26256b8ae348 button');\n",
              "      quickchartButtonEl.style.display =\n",
              "        google.colab.kernel.accessAllowed ? 'block' : 'none';\n",
              "    })();\n",
              "  </script>\n",
              "</div>\n",
              "    </div>\n",
              "  </div>\n"
            ]
          },
          "metadata": {},
          "execution_count": 64
        }
      ]
    },
    {
      "cell_type": "code",
      "source": [
        "x = df_features['Movie_Genre']+' '+df_features['Movie_Keywords']+' '+df_features['Movie_Tagline']+' '+df_features['Movie_Director']"
      ],
      "metadata": {
        "id": "x8gUQtvudSnY"
      },
      "execution_count": 65,
      "outputs": []
    },
    {
      "cell_type": "code",
      "source": [
        "x"
      ],
      "metadata": {
        "colab": {
          "base_uri": "https://localhost:8080/"
        },
        "id": "QJ4Yo3CIdcJn",
        "outputId": "444a4f2c-7720-4586-eead-9e2c70ae856c"
      },
      "execution_count": 66,
      "outputs": [
        {
          "output_type": "execute_result",
          "data": {
            "text/plain": [
              "0       Crime Comedy hotel new year's eve witch bet ho...\n",
              "1       Adventure Action Science Fiction android galax...\n",
              "2       Animation Family father son relationship harbo...\n",
              "3       Comedy Drama Romance vietnam veteran hippie me...\n",
              "4       Drama male nudity female nudity adultery midli...\n",
              "                              ...                        \n",
              "4755    Horror  The hot spot where Satan's waitin'. Pe...\n",
              "4756    Comedy Family Drama  It’s better to stand out ...\n",
              "4757    Thriller Drama christian film sex trafficking ...\n",
              "4758                                            Family   \n",
              "4759    Documentary music actors legendary perfomer cl...\n",
              "Length: 4760, dtype: object"
            ]
          },
          "metadata": {},
          "execution_count": 66
        }
      ]
    },
    {
      "cell_type": "code",
      "source": [
        "x.shape"
      ],
      "metadata": {
        "colab": {
          "base_uri": "https://localhost:8080/"
        },
        "id": "NDP8cDRNebYK",
        "outputId": "ecb2c0c5-f07f-48b5-d0b5-f8ec456d3451"
      },
      "execution_count": 67,
      "outputs": [
        {
          "output_type": "execute_result",
          "data": {
            "text/plain": [
              "(4760,)"
            ]
          },
          "metadata": {},
          "execution_count": 67
        }
      ]
    },
    {
      "cell_type": "code",
      "source": [
        "x = tfidf.fit_transform(x)"
      ],
      "metadata": {
        "id": "IjbrBPcheil5"
      },
      "execution_count": 68,
      "outputs": []
    },
    {
      "cell_type": "code",
      "source": [
        "x.shape"
      ],
      "metadata": {
        "colab": {
          "base_uri": "https://localhost:8080/"
        },
        "id": "LPHP9Zr9emQz",
        "outputId": "27dc8cbe-00e8-465d-c61b-da61424522ad"
      },
      "execution_count": 69,
      "outputs": [
        {
          "output_type": "execute_result",
          "data": {
            "text/plain": [
              "(4760, 9666)"
            ]
          },
          "metadata": {},
          "execution_count": 69
        }
      ]
    },
    {
      "cell_type": "code",
      "source": [
        "print(x)"
      ],
      "metadata": {
        "colab": {
          "base_uri": "https://localhost:8080/"
        },
        "id": "OAo2cBoyeonA",
        "outputId": "d68a6dbc-a457-40c2-dc83-070756149783"
      },
      "execution_count": 70,
      "outputs": [
        {
          "output_type": "stream",
          "name": "stdout",
          "text": [
            "  (0, 376)\t0.18272810724070418\n",
            "  (0, 316)\t0.19632202064896634\n",
            "  (0, 5024)\t0.09373465698968353\n",
            "  (0, 6094)\t0.06761788284030082\n",
            "  (0, 9426)\t0.19090152648212289\n",
            "  (0, 3256)\t0.09303304831704608\n",
            "  (0, 9401)\t0.11559559866313328\n",
            "  (0, 4521)\t0.1443365785980048\n",
            "  (0, 8543)\t0.1065109136318404\n",
            "  (0, 6131)\t0.0786972588733094\n",
            "  (0, 2203)\t0.1375276201579133\n",
            "  (0, 3175)\t0.12385671298754733\n",
            "  (0, 4023)\t0.21434670508652215\n",
            "  (0, 4253)\t0.15944969524116445\n",
            "  (0, 866)\t0.21315961343110615\n",
            "  (0, 5106)\t0.16963506748686155\n",
            "  (0, 6133)\t0.08935032151608546\n",
            "  (0, 374)\t0.08264227113134892\n",
            "  (0, 7062)\t0.21315961343110615\n",
            "  (0, 7448)\t0.21315961343110615\n",
            "  (0, 3296)\t0.15847233257383517\n",
            "  (0, 3724)\t0.20331025305114117\n",
            "  (0, 6209)\t0.20331025305114117\n",
            "  (0, 8864)\t0.19090152648212289\n",
            "  (0, 7244)\t0.15847233257383517\n",
            "  :\t:\n",
            "  (4757, 1975)\t0.26800244457573114\n",
            "  (4757, 3821)\t0.29309239322653075\n",
            "  (4757, 7673)\t0.22148093071406288\n",
            "  (4757, 7622)\t0.20123579506754563\n",
            "  (4757, 3145)\t0.168092031177192\n",
            "  (4757, 4761)\t0.31653219908433233\n",
            "  (4757, 3948)\t0.2305741747626342\n",
            "  (4757, 8597)\t0.10300110054376047\n",
            "  (4757, 8644)\t0.1312593706509848\n",
            "  (4757, 4404)\t0.15447322365698812\n",
            "  (4757, 5939)\t0.1957451067341251\n",
            "  (4757, 2565)\t0.07636984555550978\n",
            "  (4758, 3012)\t1.0\n",
            "  (4759, 5864)\t0.3489795931696709\n",
            "  (4759, 7786)\t0.3489795931696709\n",
            "  (4759, 6411)\t0.3489795931696709\n",
            "  (4759, 166)\t0.3328544664486442\n",
            "  (4759, 4946)\t0.3125392093504262\n",
            "  (4759, 1692)\t0.2891632535235492\n",
            "  (4759, 865)\t0.29915789158688394\n",
            "  (4759, 4053)\t0.27159180538281574\n",
            "  (4759, 7777)\t0.255466678661789\n",
            "  (4759, 2500)\t0.1881896442203568\n",
            "  (4759, 3313)\t0.22790059245772076\n",
            "  (4759, 5811)\t0.16333000721915777\n"
          ]
        }
      ]
    },
    {
      "cell_type": "markdown",
      "source": [
        "##Modeling"
      ],
      "metadata": {
        "id": "-qq2LkAu5jSx"
      }
    },
    {
      "cell_type": "code",
      "source": [
        "Similarity_Score = cosine_similarity(x)"
      ],
      "metadata": {
        "id": "x2zhzKpd0Z96"
      },
      "execution_count": 73,
      "outputs": []
    },
    {
      "cell_type": "code",
      "source": [
        "Similarity_Score"
      ],
      "metadata": {
        "colab": {
          "base_uri": "https://localhost:8080/"
        },
        "id": "yvUfvR3J0txU",
        "outputId": "a7057e01-7664-4919-d6ed-8b93a390a23a"
      },
      "execution_count": 74,
      "outputs": [
        {
          "output_type": "execute_result",
          "data": {
            "text/plain": [
              "array([[1.        , 0.01723123, 0.04583093, ..., 0.        , 0.        ,\n",
              "        0.        ],\n",
              "       [0.01723123, 1.        , 0.01127435, ..., 0.        , 0.        ,\n",
              "        0.        ],\n",
              "       [0.04583093, 0.01127435, 1.        , ..., 0.        , 0.09498713,\n",
              "        0.        ],\n",
              "       ...,\n",
              "       [0.        , 0.        , 0.        , ..., 1.        , 0.        ,\n",
              "        0.        ],\n",
              "       [0.        , 0.        , 0.09498713, ..., 0.        , 1.        ,\n",
              "        0.        ],\n",
              "       [0.        , 0.        , 0.        , ..., 0.        , 0.        ,\n",
              "        1.        ]])"
            ]
          },
          "metadata": {},
          "execution_count": 74
        }
      ]
    },
    {
      "cell_type": "code",
      "source": [
        "Similarity_Score.shape"
      ],
      "metadata": {
        "colab": {
          "base_uri": "https://localhost:8080/"
        },
        "id": "61jjsTt10wwm",
        "outputId": "0c24ad74-47ba-4051-e69c-13c92c4b788e"
      },
      "execution_count": 75,
      "outputs": [
        {
          "output_type": "execute_result",
          "data": {
            "text/plain": [
              "(4760, 4760)"
            ]
          },
          "metadata": {},
          "execution_count": 75
        }
      ]
    },
    {
      "cell_type": "markdown",
      "source": [
        "##Prediction based on input by user"
      ],
      "metadata": {
        "id": "Dw1kZBYn5rfX"
      }
    },
    {
      "cell_type": "code",
      "source": [
        "Favourite_Movie_Name = input('Enter your current favourite movie name : ')"
      ],
      "metadata": {
        "colab": {
          "base_uri": "https://localhost:8080/"
        },
        "id": "xO8vGSk40w2l",
        "outputId": "1b1c0eb5-7980-4622-aed0-e12372576129"
      },
      "execution_count": 94,
      "outputs": [
        {
          "name": "stdout",
          "output_type": "stream",
          "text": [
            "Enter your current favourite movie name : star wars\n"
          ]
        }
      ]
    },
    {
      "cell_type": "code",
      "source": [
        "All_Movies_Title_List = df['Movie_Title'].tolist()"
      ],
      "metadata": {
        "id": "y9Gns7fs1IkE"
      },
      "execution_count": 95,
      "outputs": []
    },
    {
      "cell_type": "code",
      "source": [
        "Movie_Recommendation = difflib.get_close_matches(Favourite_Movie_Name, All_Movies_Title_List)"
      ],
      "metadata": {
        "id": "V2pQZtmD1MT9"
      },
      "execution_count": 96,
      "outputs": []
    },
    {
      "cell_type": "code",
      "source": [
        "print(Movie_Recommendation)"
      ],
      "metadata": {
        "colab": {
          "base_uri": "https://localhost:8080/"
        },
        "id": "sjAeS3gY1PAD",
        "outputId": "3244f3da-412a-44c8-df14-9046218793fd"
      },
      "execution_count": 97,
      "outputs": [
        {
          "output_type": "stream",
          "name": "stdout",
          "text": [
            "['Star Wars']\n"
          ]
        }
      ]
    },
    {
      "cell_type": "code",
      "source": [
        "Close_Match = Movie_Recommendation[0]"
      ],
      "metadata": {
        "id": "fKZXNqpp1Sia"
      },
      "execution_count": 98,
      "outputs": []
    },
    {
      "cell_type": "code",
      "source": [
        "print(Close_Match)"
      ],
      "metadata": {
        "colab": {
          "base_uri": "https://localhost:8080/"
        },
        "id": "31QIrbV81Wvt",
        "outputId": "2648c1ed-a873-4871-e08f-f58d852baef7"
      },
      "execution_count": 99,
      "outputs": [
        {
          "output_type": "stream",
          "name": "stdout",
          "text": [
            "Star Wars\n"
          ]
        }
      ]
    },
    {
      "cell_type": "code",
      "source": [
        "Index_of_Close_Match_Movie = df[df.Movie_Title == Close_Match]['Movie_ID'].values[0]"
      ],
      "metadata": {
        "id": "8-j4aNxm1ZwD"
      },
      "execution_count": 100,
      "outputs": []
    },
    {
      "cell_type": "code",
      "source": [
        "print(Index_of_Close_Match_Movie)"
      ],
      "metadata": {
        "colab": {
          "base_uri": "https://localhost:8080/"
        },
        "id": "sPyfLYGr1cEl",
        "outputId": "fbd40448-d3a7-4a35-8342-0ec32ea9abb2"
      },
      "execution_count": 101,
      "outputs": [
        {
          "output_type": "stream",
          "name": "stdout",
          "text": [
            "2\n"
          ]
        }
      ]
    },
    {
      "cell_type": "code",
      "source": [
        "Recommendation_Score = list(enumerate(Similarity_Score[Index_of_Close_Match_Movie]))"
      ],
      "metadata": {
        "id": "sDOEbHOs1fLQ"
      },
      "execution_count": 102,
      "outputs": []
    },
    {
      "cell_type": "code",
      "source": [
        "print(Recommendation_Score)"
      ],
      "metadata": {
        "colab": {
          "base_uri": "https://localhost:8080/"
        },
        "id": "4Wgq2mlW1iTH",
        "outputId": "88ea30f0-60b5-43e1-d8ae-ff6a34484654"
      },
      "execution_count": 103,
      "outputs": [
        {
          "output_type": "stream",
          "name": "stdout",
          "text": [
            "[(0, 0.045830934084954554), (1, 0.011274348352070819), (2, 1.0), (3, 0.014676946430384837), (4, 0.0), (5, 0.0), (6, 0.026803498384208608), (7, 0.03273227179437856), (8, 0.0), (9, 0.005426303413476344), (10, 0.027728053042969467), (11, 0.005898071062297188), (12, 0.006754134135618732), (13, 0.0), (14, 0.11184266910146456), (15, 0.0), (16, 0.0), (17, 0.0), (18, 0.005634384320678318), (19, 0.0), (20, 0.0), (21, 0.0), (22, 0.04538226208254131), (23, 0.0), (24, 0.05787597149330078), (25, 0.01803388067086491), (26, 0.01794080589996335), (27, 0.05493450369867333), (28, 0.005975826193273931), (29, 0.0240358153017253), (30, 0.026016416899615067), (31, 0.0), (32, 0.016737057634357122), (33, 0.023595740567800744), (34, 0.0), (35, 0.01577905555131449), (36, 0.0), (37, 0.01616125019515528), (38, 0.007384202708402788), (39, 0.011783478224979146), (40, 0.0), (41, 0.0), (42, 0.0), (43, 0.03376772270363138), (44, 0.025552888350109375), (45, 0.015082294398915019), (46, 0.0), (47, 0.0), (48, 0.007031858043314356), (49, 0.0), (50, 0.017097774410565515), (51, 0.0), (52, 0.021800611988216586), (53, 0.07742090398153015), (54, 0.016934375397783336), (55, 0.0), (56, 0.012345791056103452), (57, 0.051071227920616996), (58, 0.051728928713982325), (59, 0.022225982152275513), (60, 0.00497879279994851), (61, 0.017577938248412903), (62, 0.0), (63, 0.0), (64, 0.025109523067169112), (65, 0.005983562575270543), (66, 0.0), (67, 0.015499169357852116), (68, 0.0), (69, 0.02742169662790129), (70, 0.041315252601716555), (71, 0.0), (72, 0.005588050339399018), (73, 0.03235190153898944), (74, 0.013902569554489699), (75, 0.03188274028722362), (76, 0.010908852492429868), (77, 0.0), (78, 0.004925575233813123), (79, 0.05629499338472477), (80, 0.021251431839237955), (81, 0.0), (82, 0.020399646365977367), (83, 0.006389254796555556), (84, 0.005826819933748033), (85, 0.016543231604249392), (86, 0.04808237990134239), (87, 0.01221706154775171), (88, 0.01472790098782591), (89, 0.030193428768938727), (90, 0.0), (91, 0.06303223557793623), (92, 0.012254169879209012), (93, 0.0), (94, 0.02403407918095551), (95, 0.0), (96, 0.045318433172229125), (97, 0.005118772678477169), (98, 0.0), (99, 0.0), (100, 0.027985600796618323), (101, 0.014224261828277492), (102, 0.022206816115083412), (103, 0.0), (104, 0.0060036762840133436), (105, 0.006721612684611338), (106, 0.13419807722886093), (107, 0.0), (108, 0.055085017393954674), (109, 0.026060307400504083), (110, 0.02583205882897767), (111, 0.0), (112, 0.006335267079477614), (113, 0.010322543492268339), (114, 0.03310994086573568), (115, 0.0), (116, 0.0), (117, 0.01154235188126627), (118, 0.0), (119, 0.011181803634570876), (120, 0.012658728481659939), (121, 0.04207794424648203), (122, 0.022497268826240403), (123, 0.006434250320359005), (124, 0.010620957583249288), (125, 0.020515198176199168), (126, 0.0), (127, 0.0), (128, 0.0), (129, 0.015231366932340408), (130, 0.0802083065038414), (131, 0.006005854767838361), (132, 0.033193255419270165), (133, 0.06703116369528019), (134, 0.0), (135, 0.012327623372087282), (136, 0.0), (137, 0.04805597235384691), (138, 0.006062814986034523), (139, 0.0), (140, 0.09082967309647738), (141, 0.015108677472436443), (142, 0.013578132975237142), (143, 0.01486978022089711), (144, 0.09383430105713456), (145, 0.0), (146, 0.09643267126773682), (147, 0.0), (148, 0.00526493019947481), (149, 0.04304959404440867), (150, 0.018252931669200643), (151, 0.0), (152, 0.018477620422523842), (153, 0.02301529309213808), (154, 0.014826757197823398), (155, 0.06061777892520979), (156, 0.016147985242813336), (157, 0.0), (158, 0.0), (159, 0.01029167468573672), (160, 0.027324416512221717), (161, 0.01407820685946738), (162, 0.019864351169669343), (163, 0.0), (164, 0.026781923292597144), (165, 0.06223239249606702), (166, 0.004866317624107453), (167, 0.0370264112238777), (168, 0.01619155071280433), (169, 0.023945463007545836), (170, 0.04442787979669674), (171, 0.006137563712219871), (172, 0.015579623981869397), (173, 0.07977269224616665), (174, 0.0), (175, 0.01923295989444427), (176, 0.02098345711328405), (177, 0.03964652523516114), (178, 0.06831113975339918), (179, 0.0958855723472894), (180, 0.0), (181, 0.0), (182, 0.06126253035777801), (183, 0.010451105597175143), (184, 0.019142435887776588), (185, 0.1031418170583612), (186, 0.02177526084032001), (187, 0.03241187093245947), (188, 0.05224909784155697), (189, 0.006690342848768658), (190, 0.0), (191, 0.023334315160807105), (192, 0.034252188200792566), (193, 0.016898571619290318), (194, 0.009942084513174456), (195, 0.005233197980263071), (196, 0.0), (197, 0.0), (198, 0.10217887629680839), (199, 0.010068039667178716), (200, 0.022091747332671986), (201, 0.02492912102049629), (202, 0.04393970389474865), (203, 0.024345566871037103), (204, 0.0), (205, 0.0), (206, 0.0), (207, 0.0), (208, 0.03028134722931751), (209, 0.006258044636277409), (210, 0.0), (211, 0.006544888382251704), (212, 0.05044848699945399), (213, 0.0), (214, 0.015961151448838338), (215, 0.0053590527289635705), (216, 0.023360110936132796), (217, 0.07057512400842512), (218, 0.0114536316049304), (219, 0.05546515730816317), (220, 0.014238522010604554), (221, 0.012158532384056776), (222, 0.01474050606518395), (223, 0.018700012568614286), (224, 0.0), (225, 0.022344976733815664), (226, 0.0), (227, 0.0), (228, 0.017214762307975813), (229, 0.0), (230, 0.08687083229813147), (231, 0.05921953658695033), (232, 0.026516321498420124), (233, 0.017781570416670073), (234, 0.005147692487891894), (235, 0.0), (236, 0.0), (237, 0.014691936727134577), (238, 0.0), (239, 0.07600702420965419), (240, 0.01791846537040316), (241, 0.0), (242, 0.010513050360316155), (243, 0.008064458185671239), (244, 0.0), (245, 0.03165992488079208), (246, 0.0), (247, 0.1839234097207056), (248, 0.0), (249, 0.014961124239455099), (250, 0.006951585690289396), (251, 0.020892488895593163), (252, 0.0), (253, 0.0), (254, 0.021630961522693094), (255, 0.0), (256, 0.04617340086694323), (257, 0.009116348120811113), (258, 0.0), (259, 0.012547837321246256), (260, 0.006071291431033268), (261, 0.005829312981603213), (262, 0.0), (263, 0.016471233942827925), (264, 0.00620183306397039), (265, 0.05601111956440532), (266, 0.022802633535994682), (267, 0.0), (268, 0.0), (269, 0.05010887450421039), (270, 0.05473911870018259), (271, 0.022162912274597435), (272, 0.0066017251586854885), (273, 0.018628184523528456), (274, 0.0), (275, 0.0), (276, 0.015285795510710277), (277, 0.04489045577275131), (278, 0.0), (279, 0.03301384583660336), (280, 0.005923828360189764), (281, 0.0), (282, 0.0), (283, 0.0), (284, 0.01876878449915457), (285, 0.011797382405279395), (286, 0.08544862503543162), (287, 0.01734829986719308), (288, 0.010735464538804381), (289, 0.0), (290, 0.0), (291, 0.005516468856442773), (292, 0.02311934674808242), (293, 0.13398728672063773), (294, 0.0049285621190219), (295, 0.0), (296, 0.0), (297, 0.024286094242319367), (298, 0.03168750238064348), (299, 0.016652684459458268), (300, 0.010179473564214588), (301, 0.018293058266144434), (302, 0.0), (303, 0.0), (304, 0.020832874517180043), (305, 0.00600660729206261), (306, 0.011139023114824507), (307, 0.0), (308, 0.01270141677005593), (309, 0.03388936227592618), (310, 0.011956233438426025), (311, 0.013183339404685001), (312, 0.02925627804736643), (313, 0.0), (314, 0.0), (315, 0.01785346594393024), (316, 0.0), (317, 0.026251981914007842), (318, 0.0), (319, 0.019805387938112845), (320, 0.0), (321, 0.0), (322, 0.0), (323, 0.0), (324, 0.04784661304685571), (325, 0.0), (326, 0.0), (327, 0.03139629704023962), (328, 0.03483909953042444), (329, 0.0), (330, 0.018735645815219092), (331, 0.0), (332, 0.0), (333, 0.011317763641939512), (334, 0.029665881587210032), (335, 0.036785996437418755), (336, 0.02066392399092184), (337, 0.017414895542274753), (338, 0.023330384949370637), (339, 0.013359707020882391), (340, 0.012244512946178406), (341, 0.026069169195948948), (342, 0.022346956175137128), (343, 0.006292813597149946), (344, 0.04184155406382287), (345, 0.02856747156083389), (346, 0.06095020253106806), (347, 0.09087555954924241), (348, 0.005947306235048103), (349, 0.016369747414543143), (350, 0.0), (351, 0.02927673647944462), (352, 0.0395480322530296), (353, 0.0059100983842586465), (354, 0.005503429263939863), (355, 0.03984463172680507), (356, 0.07091148979383205), (357, 0.010487667745924955), (358, 0.02324967231822365), (359, 0.016771121016776146), (360, 0.0), (361, 0.07984145661127683), (362, 0.0960992216697588), (363, 0.05360522565615558), (364, 0.0), (365, 0.037851971174764264), (366, 0.0), (367, 0.0), (368, 0.0075495353971763105), (369, 0.016398775248411594), (370, 0.0), (371, 0.0066431148258373745), (372, 0.01179377241618565), (373, 0.026836584575659427), (374, 0.0), (375, 0.0), (376, 0.0), (377, 0.014009456450056622), (378, 0.02748338079997717), (379, 0.0), (380, 0.0077134238299974844), (381, 0.014763546961996969), (382, 0.0), (383, 0.009691041919050842), (384, 0.024885208197553972), (385, 0.0), (386, 0.0), (387, 0.005453946879044783), (388, 0.0055347423257534455), (389, 0.0), (390, 0.020839186118435892), (391, 0.047913320883968526), (392, 0.06585515754460346), (393, 0.015369637329967318), (394, 0.0), (395, 0.01915117696800009), (396, 0.015454392590824633), (397, 0.0), (398, 0.0), (399, 0.0), (400, 0.019293831013832186), (401, 0.01043582478142232), (402, 0.0), (403, 0.022029819236620847), (404, 0.03514280422420322), (405, 0.012219516127654902), (406, 0.0), (407, 0.022088951110113), (408, 0.005549167576082032), (409, 0.027666983690434604), (410, 0.050933579778211585), (411, 0.005546323121701909), (412, 0.009197503011757577), (413, 0.011887651946515277), (414, 0.0), (415, 0.02558991637126631), (416, 0.0055495861676283535), (417, 0.005256596010171453), (418, 0.013052250647286826), (419, 0.0), (420, 0.007011403252143716), (421, 0.0711722223629721), (422, 0.0), (423, 0.03153045282741799), (424, 0.007404648896726925), (425, 0.007340636487032444), (426, 0.0055036482882295365), (427, 0.006419302319090904), (428, 0.011124745611687588), (429, 0.0), (430, 0.015045087059386703), (431, 0.0), (432, 0.017271089143258832), (433, 0.013737298153270598), (434, 0.03180477312211511), (435, 0.039515329489420964), (436, 0.0), (437, 0.07050527529476001), (438, 0.019564216788255415), (439, 0.006033351183409683), (440, 0.010334533421014877), (441, 0.02430712395316515), (442, 0.005006403228413536), (443, 0.028950199804298492), (444, 0.01979032898642533), (445, 0.0), (446, 0.04776499861039314), (447, 0.0), (448, 0.022007331248492426), (449, 0.016354988483141906), (450, 0.0), (451, 0.030429406823820136), (452, 0.013730395150997271), (453, 0.024153584515049693), (454, 0.02060176945647149), (455, 0.040199579382091136), (456, 0.0), (457, 0.025240678815755785), (458, 0.0), (459, 0.012201798879166016), (460, 0.011413263879373891), (461, 0.06059107683685194), (462, 0.0), (463, 0.0), (464, 0.020058664654534958), (465, 0.028821550278612225), (466, 0.01819014957509481), (467, 0.018326213478593808), (468, 0.0), (469, 0.04098802088237554), (470, 0.013339134869831003), (471, 0.0), (472, 0.023938551247579883), (473, 0.019147142177650463), (474, 0.0), (475, 0.0), (476, 0.0), (477, 0.027599823765594146), (478, 0.0), (479, 0.02425772342129892), (480, 0.0), (481, 0.0), (482, 0.0), (483, 0.007217177017613745), (484, 0.010569384754482167), (485, 0.0), (486, 0.024430094632914165), (487, 0.0), (488, 0.08063360300139388), (489, 0.023494633150440015), (490, 0.010949028516852559), (491, 0.007656882424714921), (492, 0.0052111757451297714), (493, 0.0), (494, 0.013633498548007791), (495, 0.02958075346763737), (496, 0.02519948835907547), (497, 0.016406875876989517), (498, 0.06237482132775728), (499, 0.0), (500, 0.01142753158860031), (501, 0.0412476897494953), (502, 0.0), (503, 0.0), (504, 0.0333161397289828), (505, 0.0), (506, 0.0), (507, 0.005572003712870597), (508, 0.06199545303780403), (509, 0.0), (510, 0.022225108190474123), (511, 0.015007882992870744), (512, 0.007210408682257705), (513, 0.0), (514, 0.0), (515, 0.0), (516, 0.0), (517, 0.03369181055887794), (518, 0.0), (519, 0.028220616786307252), (520, 0.019112292958709913), (521, 0.005388486012407541), (522, 0.010696213499603965), (523, 0.01314097782893019), (524, 0.048660215176851124), (525, 0.006374707865514933), (526, 0.0), (527, 0.03220512888836028), (528, 0.01144451741000395), (529, 0.006136069355570688), (530, 0.0841338201500591), (531, 0.0), (532, 0.027526309583223784), (533, 0.0), (534, 0.0), (535, 0.0), (536, 0.0), (537, 0.020602912598544628), (538, 0.03171326335927821), (539, 0.01680454090735503), (540, 0.010617245516539588), (541, 0.02258539426404501), (542, 0.008247406984256562), (543, 0.0), (544, 0.0), (545, 0.016660870616913424), (546, 0.0765918219737253), (547, 0.02031308302394351), (548, 0.0876272780858676), (549, 0.04434330412656026), (550, 0.0), (551, 0.0063033141447245275), (552, 0.0), (553, 0.007603659715709507), (554, 0.0), (555, 0.030293844286562982), (556, 0.0), (557, 0.02220620770498024), (558, 0.0), (559, 0.023175643088884892), (560, 0.0480561766077422), (561, 0.04298732243911435), (562, 0.07141317262898667), (563, 0.0), (564, 0.0), (565, 0.0), (566, 0.07602870547308344), (567, 0.04959227447577869), (568, 0.029797791210356687), (569, 0.03767059922501692), (570, 0.0), (571, 0.0), (572, 0.0), (573, 0.0), (574, 0.0), (575, 0.004935497140137525), (576, 0.012708665499940815), (577, 0.020486612829656324), (578, 0.042867293680002506), (579, 0.0), (580, 0.0), (581, 0.0), (582, 0.019299915297967467), (583, 0.005296833002505198), (584, 0.10018789995978276), (585, 0.02314877016452193), (586, 0.0), (587, 0.0), (588, 0.006420312378227862), (589, 0.0), (590, 0.005285709443104737), (591, 0.0), (592, 0.0), (593, 0.0), (594, 0.01051990857093981), (595, 0.0), (596, 0.0), (597, 0.04225411300166993), (598, 0.0), (599, 0.006441542790773826), (600, 0.025061590938412953), (601, 0.0), (602, 0.0), (603, 0.00646838372336561), (604, 0.016106984039225877), (605, 0.011395754066313758), (606, 0.0), (607, 0.013401615120383945), (608, 0.0), (609, 0.032720831814842366), (610, 0.027217444360781728), (611, 0.015450109541355672), (612, 0.019856978781696528), (613, 0.006273369336398255), (614, 0.006986851469225089), (615, 0.033920893217926365), (616, 0.0), (617, 0.0), (618, 0.021559024599131095), (619, 0.01795979588758366), (620, 0.0449608139833643), (621, 0.05488694847656472), (622, 0.04327148326566756), (623, 0.0), (624, 0.02368125238297888), (625, 0.0), (626, 0.0), (627, 0.0), (628, 0.017163187949451535), (629, 0.03560400474011344), (630, 0.02013121712097613), (631, 0.006364029648766792), (632, 0.0), (633, 0.0), (634, 0.0), (635, 0.014045854290207103), (636, 0.0), (637, 0.019520410736756606), (638, 0.0), (639, 0.018566890732096143), (640, 0.04403780149951154), (641, 0.02170308266730545), (642, 0.019463532671675915), (643, 0.07515495542769503), (644, 0.007244435571909588), (645, 0.0), (646, 0.04256520948210087), (647, 0.012502927156513324), (648, 0.030490689773472947), (649, 0.0), (650, 0.0), (651, 0.07479848325592517), (652, 0.0), (653, 0.014343633679797478), (654, 0.006701251091311011), (655, 0.0), (656, 0.02544189186090109), (657, 0.03948099156578239), (658, 0.0), (659, 0.0), (660, 0.0), (661, 0.005471951163169866), (662, 0.04732544306150949), (663, 0.02841128573942963), (664, 0.027339931536249706), (665, 0.08026238455715588), (666, 0.00705305000928653), (667, 0.0), (668, 0.013896241929159905), (669, 0.005508132398743124), (670, 0.022324177670012796), (671, 0.02644574097364666), (672, 0.01739451817538729), (673, 0.0), (674, 0.020953053069093414), (675, 0.007076204883649505), (676, 0.016748808878225007), (677, 0.006550171808753219), (678, 0.024468035588946436), (679, 0.0), (680, 0.00616137473854238), (681, 0.007562529614022705), (682, 0.0), (683, 0.026912267787453), (684, 0.011848342072336778), (685, 0.012653678447473189), (686, 0.012460160642125573), (687, 0.00753766357314267), (688, 0.0), (689, 0.024146803812259556), (690, 0.04385503919708631), (691, 0.11429204580353733), (692, 0.024768818726317268), (693, 0.019594630506397478), (694, 0.0), (695, 0.08004062446668576), (696, 0.023282108419559303), (697, 0.017253259288351967), (698, 0.012633661766615392), (699, 0.051727135758033144), (700, 0.01860516986981581), (701, 0.007310022819997056), (702, 0.015514346476860003), (703, 0.04807012597487249), (704, 0.0), (705, 0.11570656143312666), (706, 0.05264643101836332), (707, 0.0), (708, 0.0470649995178044), (709, 0.1742194068316649), (710, 0.0), (711, 0.0), (712, 0.02643743815721164), (713, 0.010439430724440778), (714, 0.01914600018603975), (715, 0.013652823253874817), (716, 0.0), (717, 0.05380206145254553), (718, 0.0), (719, 0.014016872368359393), (720, 0.013306860390844581), (721, 0.0), (722, 0.005782522668720086), (723, 0.013926829722628278), (724, 0.07565472807495287), (725, 0.013853814519676072), (726, 0.013580975047225856), (727, 0.01138277433402976), (728, 0.0248604392051481), (729, 0.0), (730, 0.05154236569642441), (731, 0.0491713948191497), (732, 0.011508279338891902), (733, 0.01070486873979989), (734, 0.0), (735, 0.0), (736, 0.0058696395702279676), (737, 0.02703636235541715), (738, 0.008920464113619249), (739, 0.0), (740, 0.030136551857010217), (741, 0.0), (742, 0.03914514337500413), (743, 0.0), (744, 0.02049566896471998), (745, 0.022539364259629012), (746, 0.0), (747, 0.007027067915792262), (748, 0.006287939031810626), (749, 0.011631594858193624), (750, 0.023201904296719977), (751, 0.0), (752, 0.11591343054736522), (753, 0.0), (754, 0.0), (755, 0.016778964090621646), (756, 0.089306919563836), (757, 0.01220346972669424), (758, 0.0), (759, 0.0), (760, 0.0), (761, 0.0), (762, 0.021705677088508842), (763, 0.025087816566876454), (764, 0.0), (765, 0.006369487489324421), (766, 0.0), (767, 0.006335288845946425), (768, 0.031628042107658), (769, 0.039392502119629094), (770, 0.0), (771, 0.0), (772, 0.0), (773, 0.01530024417121765), (774, 0.0), (775, 0.019249494625517186), (776, 0.005639955258561265), (777, 0.0), (778, 0.006749996311249488), (779, 0.005902280920767055), (780, 0.07478419405039345), (781, 0.017820955254294318), (782, 0.006008113015861296), (783, 0.0), (784, 0.0), (785, 0.034982856758191835), (786, 0.043393836128089766), (787, 0.04197255262650976), (788, 0.0052099093196261975), (789, 0.009288754710736863), (790, 0.01904296290366753), (791, 0.0), (792, 0.020963101920076367), (793, 0.01712819732711316), (794, 0.1130691221589009), (795, 0.0), (796, 0.0), (797, 0.02245907667917416), (798, 0.03190213054383427), (799, 0.0), (800, 0.0), (801, 0.0), (802, 0.023315795240690027), (803, 0.015326977848598084), (804, 0.03257835062506965), (805, 0.03183918483738652), (806, 0.04943052698002248), (807, 0.026020410781946356), (808, 0.0), (809, 0.0), (810, 0.03298375356695551), (811, 0.02065645388166534), (812, 0.017173572716182254), (813, 0.014572926300424928), (814, 0.0), (815, 0.06938397278730249), (816, 0.0), (817, 0.02719963319381851), (818, 0.0), (819, 0.04304528993777045), (820, 0.024790044357038743), (821, 0.04266004810698101), (822, 0.013092009625843243), (823, 0.0), (824, 0.015219458875894192), (825, 0.0), (826, 0.0), (827, 0.02566788830621583), (828, 0.0), (829, 0.03228855456480841), (830, 0.0), (831, 0.03133215717165978), (832, 0.00665069488995704), (833, 0.015170158625093102), (834, 0.01659855093700173), (835, 0.01527408356769515), (836, 0.027818987690302846), (837, 0.0), (838, 0.01916489110661225), (839, 0.07995203567454161), (840, 0.016626064477449798), (841, 0.0), (842, 0.0), (843, 0.01347454591639091), (844, 0.0), (845, 0.0), (846, 0.04522027179489757), (847, 0.02957331424801594), (848, 0.0), (849, 0.0184265244332411), (850, 0.05018560774862268), (851, 0.0), (852, 0.0318875945161015), (853, 0.06537328444204984), (854, 0.04284812924225595), (855, 0.0636826053924249), (856, 0.03223385798573422), (857, 0.0), (858, 0.010687510402817473), (859, 0.009985378516744917), (860, 0.0), (861, 0.024425625683329243), (862, 0.06318255127429395), (863, 0.0), (864, 0.0060180639768709935), (865, 0.0), (866, 0.005746795961684524), (867, 0.0), (868, 0.01440859205702483), (869, 0.0), (870, 0.005982000530032321), (871, 0.0), (872, 0.01931554963540122), (873, 0.0), (874, 0.024844018919193838), (875, 0.0), (876, 0.0), (877, 0.0), (878, 0.020359877155658186), (879, 0.024876981565784086), (880, 0.02693314050539067), (881, 0.075350821023785), (882, 0.05770351559423449), (883, 0.006040958146612291), (884, 0.0), (885, 0.005458521526743049), (886, 0.0), (887, 0.04957737285231032), (888, 0.0), (889, 0.0), (890, 0.023538463227071076), (891, 0.05050002580237391), (892, 0.023439692962718046), (893, 0.045372052528671755), (894, 0.05606810250454085), (895, 0.026810354719653984), (896, 0.0), (897, 0.006525614754647271), (898, 0.010650352556130829), (899, 0.03181505612639129), (900, 0.031566813384929476), (901, 0.020508996265078613), (902, 0.0), (903, 0.0), (904, 0.0092190866638618), (905, 0.0261335023608788), (906, 0.03381423749707677), (907, 0.00580826523598777), (908, 0.0065546669161238545), (909, 0.03297999241974262), (910, 0.0), (911, 0.07655897413416367), (912, 0.05955403010115069), (913, 0.00672966209680348), (914, 0.0), (915, 0.05950500327406401), (916, 0.005353895494780521), (917, 0.0), (918, 0.006391145535687988), (919, 0.00675264141237955), (920, 0.02837793958469876), (921, 0.0), (922, 0.0), (923, 0.02483319819655884), (924, 0.02183872761642172), (925, 0.0), (926, 0.0), (927, 0.0), (928, 0.05882290311077408), (929, 0.010991560320782313), (930, 0.013292709682228466), (931, 0.05502967291704752), (932, 0.06568247999339205), (933, 0.0), (934, 0.010258052085830551), (935, 0.032338122736777566), (936, 0.029695371173989994), (937, 0.0), (938, 0.02423760621648772), (939, 0.015610532727380886), (940, 0.0069880190416994935), (941, 0.0), (942, 0.0), (943, 0.0), (944, 0.015831250957061), (945, 0.020621903125498726), (946, 0.07905864726685614), (947, 0.0), (948, 0.008095895267898303), (949, 0.0), (950, 0.0), (951, 0.0), (952, 0.0), (953, 0.0540394862347523), (954, 0.0), (955, 0.0), (956, 0.0), (957, 0.04316912240671999), (958, 0.026878953388020096), (959, 0.0), (960, 0.0), (961, 0.029701316157044404), (962, 0.02374232404455494), (963, 0.011805391946352732), (964, 0.0), (965, 0.0), (966, 0.021000805416738277), (967, 0.0), (968, 0.0), (969, 0.0), (970, 0.004702797865404214), (971, 0.024630634958906605), (972, 0.0), (973, 0.02967629655332822), (974, 0.006177494484050411), (975, 0.01968219225223208), (976, 0.0), (977, 0.012962379740168652), (978, 0.020648125256907443), (979, 0.0), (980, 0.026812108372824713), (981, 0.02168114747479309), (982, 0.01383595174173551), (983, 0.0), (984, 0.0), (985, 0.029315515630293876), (986, 0.0), (987, 0.0), (988, 0.0773589769408912), (989, 0.11489269033471249), (990, 0.0), (991, 0.02957699172343328), (992, 0.0), (993, 0.0061349621012232606), (994, 0.0487644161854107), (995, 0.042001760296608376), (996, 0.0), (997, 0.01147375283228812), (998, 0.021505579059094802), (999, 0.0), (1000, 0.016887673536970987), (1001, 0.03138286576180262), (1002, 0.01095509072796683), (1003, 0.0), (1004, 0.05832707896540508), (1005, 0.009429281175169406), (1006, 0.025903333267165946), (1007, 0.0), (1008, 0.03623682891151808), (1009, 0.09862951544408616), (1010, 0.062474781212521466), (1011, 0.042484141558586284), (1012, 0.0), (1013, 0.011891916089832135), (1014, 0.028348856899350263), (1015, 0.0), (1016, 0.054766175037462894), (1017, 0.0), (1018, 0.0227179869324685), (1019, 0.0), (1020, 0.0), (1021, 0.05127432564817615), (1022, 0.021575793781561874), (1023, 0.01989268606984285), (1024, 0.0), (1025, 0.046727714432921647), (1026, 0.02753590905611157), (1027, 0.0), (1028, 0.01795322376241475), (1029, 0.022949535962965267), (1030, 0.0), (1031, 0.007030799671549403), (1032, 0.0), (1033, 0.0120986496217452), (1034, 0.0), (1035, 0.006779891569348101), (1036, 0.0), (1037, 0.0), (1038, 0.0900852011552514), (1039, 0.010857907893368247), (1040, 0.01951577710851963), (1041, 0.08429158141854895), (1042, 0.03481105474795627), (1043, 0.006850844745710205), (1044, 0.0), (1045, 0.04614085448315382), (1046, 0.09314444323257774), (1047, 0.006251719190067565), (1048, 0.006687156627148938), (1049, 0.026183875633971523), (1050, 0.06278805094737465), (1051, 0.0), (1052, 0.005656817389430842), (1053, 0.0), (1054, 0.005826642744102812), (1055, 0.0), (1056, 0.007229534727075613), (1057, 0.0), (1058, 0.0), (1059, 0.005868227850618054), (1060, 0.02752626085818717), (1061, 0.0), (1062, 0.014551956712174201), (1063, 0.0), (1064, 0.0), (1065, 0.0), (1066, 0.011273057023713362), (1067, 0.05402668552020308), (1068, 0.021405578758733033), (1069, 0.0), (1070, 0.0), (1071, 0.028085017488244716), (1072, 0.12462794252217854), (1073, 0.016722371910629374), (1074, 0.0), (1075, 0.0), (1076, 0.037895628716886266), (1077, 0.025539684693309465), (1078, 0.0), (1079, 0.06726508170079071), (1080, 0.05354584357420922), (1081, 0.03516018857839163), (1082, 0.06644917337276006), (1083, 0.0), (1084, 0.028652498285098166), (1085, 0.030693129718472566), (1086, 0.0), (1087, 0.012193819914129206), (1088, 0.029508711319082042), (1089, 0.01999293734042975), (1090, 0.04283169216251785), (1091, 0.0), (1092, 0.0), (1093, 0.020058782496507405), (1094, 0.03187299531716529), (1095, 0.011259175304674731), (1096, 0.0), (1097, 0.0), (1098, 0.0), (1099, 0.0), (1100, 0.014568410795841072), (1101, 0.04947254358513254), (1102, 0.0), (1103, 0.040504481732404146), (1104, 0.02658584668831085), (1105, 0.029270769819656407), (1106, 0.017286102251963992), (1107, 0.08675286526795276), (1108, 0.0), (1109, 0.035247370842892596), (1110, 0.0), (1111, 0.012221747606142575), (1112, 0.017281862661039774), (1113, 0.01196203755077721), (1114, 0.045067739229110074), (1115, 0.017517769653917707), (1116, 0.033092607051715295), (1117, 0.016483939989636494), (1118, 0.028238301307556182), (1119, 0.0), (1120, 0.0047323078062572795), (1121, 0.0), (1122, 0.024169311372358167), (1123, 0.0), (1124, 0.0), (1125, 0.0), (1126, 0.0), (1127, 0.022169051559627517), (1128, 0.0), (1129, 0.029317351219801054), (1130, 0.03767931375929526), (1131, 0.0), (1132, 0.041709866768400265), (1133, 0.013937580325852355), (1134, 0.03601095192243407), (1135, 0.015969562935397835), (1136, 0.009937689855778935), (1137, 0.03733719452332394), (1138, 0.0), (1139, 0.0), (1140, 0.006383450123483044), (1141, 0.012744077181134204), (1142, 0.01265874293664708), (1143, 0.0), (1144, 0.014631101603417383), (1145, 0.0), (1146, 0.005937018503266759), (1147, 0.0), (1148, 0.0), (1149, 0.0), (1150, 0.006647318513737639), (1151, 0.0), (1152, 0.0414406624427389), (1153, 0.01401187026221401), (1154, 0.0), (1155, 0.03276080344805507), (1156, 0.0), (1157, 0.020040755830033584), (1158, 0.0), (1159, 0.0), (1160, 0.0), (1161, 0.022696529240346888), (1162, 0.030438571880866083), (1163, 0.0), (1164, 0.0), (1165, 0.0314391801985763), (1166, 0.05335587566874879), (1167, 0.0), (1168, 0.019839593121152105), (1169, 0.0), (1170, 0.005902100662561379), (1171, 0.027974454093684775), (1172, 0.01653984855288599), (1173, 0.005207636975682063), (1174, 0.0), (1175, 0.017758138651738847), (1176, 0.09383458584518238), (1177, 0.0), (1178, 0.06080767311023058), (1179, 0.006071395767459717), (1180, 0.06498284673186529), (1181, 0.0), (1182, 0.1437696247558918), (1183, 0.0), (1184, 0.0), (1185, 0.0061747140226796225), (1186, 0.005194847726158205), (1187, 0.0), (1188, 0.0), (1189, 0.0), (1190, 0.0), (1191, 0.011697838532245857), (1192, 0.012367736181336242), (1193, 0.0), (1194, 0.004955255915410629), (1195, 0.08160587120760103), (1196, 0.010486765033681365), (1197, 0.01759473562566201), (1198, 0.03243679365836298), (1199, 0.0), (1200, 0.0), (1201, 0.0), (1202, 0.056306856029756956), (1203, 0.0), (1204, 0.011581905304872214), (1205, 0.0), (1206, 0.015541638448386588), (1207, 0.04726707023389415), (1208, 0.009531129637437475), (1209, 0.015489408051188749), (1210, 0.08051871961329558), (1211, 0.03577851460413201), (1212, 0.07725672749917727), (1213, 0.012634330837525364), (1214, 0.034223819538184465), (1215, 0.03364844484150837), (1216, 0.04132929990447158), (1217, 0.01785779656949275), (1218, 0.005679486679770033), (1219, 0.014380383020956438), (1220, 0.004748139794059465), (1221, 0.00536783024567762), (1222, 0.022649124650605784), (1223, 0.04927858737132002), (1224, 0.0), (1225, 0.0), (1226, 0.054372271599947036), (1227, 0.01660624109179171), (1228, 0.019326192474047023), (1229, 0.0), (1230, 0.0), (1231, 0.017366517134480206), (1232, 0.01860894144531817), (1233, 0.0), (1234, 0.0), (1235, 0.02682662628641245), (1236, 0.0), (1237, 0.03315404196798364), (1238, 0.006469467880014583), (1239, 0.0064686996173241), (1240, 0.0), (1241, 0.00938748346431572), (1242, 0.03316741373939855), (1243, 0.0), (1244, 0.0), (1245, 0.012841220634515298), (1246, 0.04548376064537664), (1247, 0.015974421283954147), (1248, 0.012462117984136038), (1249, 0.011235655149499178), (1250, 0.03270432895208249), (1251, 0.0565365625287869), (1252, 0.0), (1253, 0.03427683651514482), (1254, 0.06625858230313927), (1255, 0.04157616272965229), (1256, 0.0), (1257, 0.012478548639586291), (1258, 0.0), (1259, 0.04451072649639895), (1260, 0.0), (1261, 0.0), (1262, 0.006662248343458139), (1263, 0.01630485002354812), (1264, 0.0), (1265, 0.0), (1266, 0.006489706177556704), (1267, 0.019604612589654444), (1268, 0.009243551126109672), (1269, 0.018164971808306615), (1270, 0.011228996046813787), (1271, 0.0), (1272, 0.0), (1273, 0.005904509258061268), (1274, 0.0057061583910102), (1275, 0.0), (1276, 0.1499249678954277), (1277, 0.014290764858062771), (1278, 0.03303365659908917), (1279, 0.08023799530194806), (1280, 0.0), (1281, 0.0), (1282, 0.06434482902514121), (1283, 0.0), (1284, 0.06766986192980821), (1285, 0.018765753435728377), (1286, 0.0), (1287, 0.0), (1288, 0.02203895385738627), (1289, 0.0), (1290, 0.0), (1291, 0.05002266581763768), (1292, 0.016677265254336916), (1293, 0.0), (1294, 0.0), (1295, 0.04115934644264294), (1296, 0.04026098579599571), (1297, 0.00603540604547805), (1298, 0.021527034460342095), (1299, 0.0), (1300, 0.008807254438136401), (1301, 0.037484409716281315), (1302, 0.0), (1303, 0.0), (1304, 0.011614024009096833), (1305, 0.10504494654242683), (1306, 0.02219969188981047), (1307, 0.03874534938896445), (1308, 0.015323002748811368), (1309, 0.0), (1310, 0.009522990563184994), (1311, 0.0), (1312, 0.005346474880507477), (1313, 0.0), (1314, 0.031075849618354086), (1315, 0.049563100611243), (1316, 0.0), (1317, 0.0), (1318, 0.0), (1319, 0.1432365040945076), (1320, 0.0), (1321, 0.03749708907639736), (1322, 0.00601934653550421), (1323, 0.01778491752260534), (1324, 0.0), (1325, 0.0), (1326, 0.0), (1327, 0.14577452134913163), (1328, 0.012466486961080405), (1329, 0.01171412459566603), (1330, 0.022810930633958042), (1331, 0.0), (1332, 0.0), (1333, 0.05263143242315313), (1334, 0.013478222547142772), (1335, 0.0), (1336, 0.05453424932841247), (1337, 0.0), (1338, 0.006110990429018538), (1339, 0.026426554682110415), (1340, 0.0), (1341, 0.022405985385602786), (1342, 0.0), (1343, 0.007746990867323685), (1344, 0.027788002298575067), (1345, 0.018194671899240622), (1346, 0.00614467658882712), (1347, 0.006148874014541252), (1348, 0.0), (1349, 0.00664756519301759), (1350, 0.0), (1351, 0.024762233343019406), (1352, 0.020240744350919798), (1353, 0.029010415154941394), (1354, 0.029054134173246378), (1355, 0.0), (1356, 0.013399366846904565), (1357, 0.0), (1358, 0.011295210453552819), (1359, 0.0), (1360, 0.006172054094226144), (1361, 0.011502574437059933), (1362, 0.0), (1363, 0.0), (1364, 0.0254682510107335), (1365, 0.06874284042100237), (1366, 0.034451749318925945), (1367, 0.031564853555897665), (1368, 0.02942059217187376), (1369, 0.01663985550585896), (1370, 0.010310973985608445), (1371, 0.0), (1372, 0.02230879286715287), (1373, 0.033058670656760436), (1374, 0.020220019304257028), (1375, 0.005483457270326747), (1376, 0.023872338937561306), (1377, 0.004514388093609785), (1378, 0.0), (1379, 0.020098537204120283), (1380, 0.006689749329828951), (1381, 0.0075211367552286265), (1382, 0.0), (1383, 0.06529103120915111), (1384, 0.00529978119346724), (1385, 0.017222648491287643), (1386, 0.0), (1387, 0.01500385569642447), (1388, 0.0), (1389, 0.050358783114983846), (1390, 0.03159507922511493), (1391, 0.0), (1392, 0.017324922252767223), (1393, 0.013677089492353158), (1394, 0.014208459623250158), (1395, 0.004595477674766092), (1396, 0.01343382996812233), (1397, 0.021713493169992246), (1398, 0.0), (1399, 0.0), (1400, 0.0), (1401, 0.04274331023431574), (1402, 0.033103823532239014), (1403, 0.028237847994030008), (1404, 0.017901787757998028), (1405, 0.07739089709457625), (1406, 0.016478627239662848), (1407, 0.027154666857897754), (1408, 0.0), (1409, 0.1007839567389271), (1410, 0.01932813300500529), (1411, 0.020790218968269124), (1412, 0.054444203140507116), (1413, 0.012095593567838183), (1414, 0.016042196527504313), (1415, 0.0), (1416, 0.0), (1417, 0.0), (1418, 0.008613090441156273), (1419, 0.01279756128151022), (1420, 0.01820934773144683), (1421, 0.021483129759919513), (1422, 0.005710924986105475), (1423, 0.024815858829178146), (1424, 0.0), (1425, 0.01749450042387706), (1426, 0.006797422403388219), (1427, 0.0), (1428, 0.024295413509480442), (1429, 0.0), (1430, 0.036254603124938736), (1431, 0.021323607199371923), (1432, 0.0), (1433, 0.08986796777030481), (1434, 0.0), (1435, 0.0), (1436, 0.006120360540197738), (1437, 0.0), (1438, 0.0), (1439, 0.0), (1440, 0.01784924235311511), (1441, 0.0), (1442, 0.022079051850189074), (1443, 0.030154894934637598), (1444, 0.0), (1445, 0.017987462158007544), (1446, 0.005940862598945645), (1447, 0.02416503933230212), (1448, 0.0), (1449, 0.0), (1450, 0.07126829970554611), (1451, 0.036566607442168914), (1452, 0.0), (1453, 0.022122126469008886), (1454, 0.05476466701041865), (1455, 0.0), (1456, 0.034308329149463024), (1457, 0.0), (1458, 0.022694351720755096), (1459, 0.06818934736883854), (1460, 0.03416090657326721), (1461, 0.03281201885931663), (1462, 0.0), (1463, 0.01698341422605241), (1464, 0.0226006174113935), (1465, 0.026443107954705083), (1466, 0.014344820741043273), (1467, 0.028775876036951448), (1468, 0.053995226635359134), (1469, 0.0), (1470, 0.0), (1471, 0.008309095922785276), (1472, 0.03657688009579947), (1473, 0.1701699335044824), (1474, 0.041605741014049444), (1475, 0.018740138005098172), (1476, 0.0), (1477, 0.13320275621634062), (1478, 0.0499017825256124), (1479, 0.019161057878705524), (1480, 0.027040533257129188), (1481, 0.05934468887901634), (1482, 0.0285946823752632), (1483, 0.0), (1484, 0.04632047543540311), (1485, 0.020066837483996458), (1486, 0.00690979669438853), (1487, 0.04600066999878783), (1488, 0.02173039909778869), (1489, 0.02727154958701703), (1490, 0.0), (1491, 0.0), (1492, 0.038448407706083154), (1493, 0.023751420411191132), (1494, 0.027480217575195733), (1495, 0.05799301459435978), (1496, 0.07210011334451881), (1497, 0.0), (1498, 0.0), (1499, 0.0), (1500, 0.01704784586302908), (1501, 0.02305900466160037), (1502, 0.007303115211447073), (1503, 0.037429896160940376), (1504, 0.0), (1505, 0.06057348745734733), (1506, 0.010773920119621857), (1507, 0.017733460807751598), (1508, 0.0), (1509, 0.013378026499157114), (1510, 0.006118700866971314), (1511, 0.028740027485583436), (1512, 0.0), (1513, 0.01292267751929171), (1514, 0.0), (1515, 0.0063510449796770055), (1516, 0.0), (1517, 0.012021957567869787), (1518, 0.0), (1519, 0.0), (1520, 0.05161404597659169), (1521, 0.029775614407806066), (1522, 0.02404283873248998), (1523, 0.08007246182291443), (1524, 0.1243298448522987), (1525, 0.011749196536450804), (1526, 0.027544578533193444), (1527, 0.0), (1528, 0.0), (1529, 0.06879367863945009), (1530, 0.004650357331219513), (1531, 0.012443261868851571), (1532, 0.017416151534752365), (1533, 0.0), (1534, 0.0), (1535, 0.0047526786275733784), (1536, 0.0), (1537, 0.031176477425552056), (1538, 0.04172599179861063), (1539, 0.029327490669303867), (1540, 0.0), (1541, 0.01127554450454785), (1542, 0.023626426234495217), (1543, 0.016013244031996204), (1544, 0.09474281871437515), (1545, 0.0), (1546, 0.00570075653906053), (1547, 0.0), (1548, 0.008438519690278127), (1549, 0.012953389162626313), (1550, 0.04517920734703), (1551, 0.006070778358723949), (1552, 0.04475360926258884), (1553, 0.011189652673691942), (1554, 0.0), (1555, 0.051758403598047016), (1556, 0.0), (1557, 0.11788953114292851), (1558, 0.020373501182951618), (1559, 0.03125503186396311), (1560, 0.0), (1561, 0.050718207531169526), (1562, 0.04276696900384503), (1563, 0.0156384435073406), (1564, 0.049272226733772184), (1565, 0.005560043842338628), (1566, 0.0), (1567, 0.013893443237020053), (1568, 0.05616658235859902), (1569, 0.040727053384377356), (1570, 0.0), (1571, 0.004956794429499107), (1572, 0.020606923071120498), (1573, 0.0), (1574, 0.01924433112018803), (1575, 0.02793453165718379), (1576, 0.01783956947655115), (1577, 0.02353293430665328), (1578, 0.0698632652887143), (1579, 0.01625135624486743), (1580, 0.01511367129416322), (1581, 0.007814598667640902), (1582, 0.02758151567676077), (1583, 0.0075458066797630475), (1584, 0.09116461830036571), (1585, 0.0), (1586, 0.030096773951387462), (1587, 0.006196376042363335), (1588, 0.019851848157094308), (1589, 0.0), (1590, 0.0), (1591, 0.0), (1592, 0.023042815800237967), (1593, 0.0), (1594, 0.06193189164368474), (1595, 0.0052995957978979255), (1596, 0.0), (1597, 0.020948689024479262), (1598, 0.01134790014613702), (1599, 0.013171243723240722), (1600, 0.05404687988373681), (1601, 0.024980048927139065), (1602, 0.050864808827461624), (1603, 0.017947569377825677), (1604, 0.032192766388572026), (1605, 0.0), (1606, 0.05147303283373651), (1607, 0.029658813057346398), (1608, 0.009861103164594931), (1609, 0.020114496700535334), (1610, 0.03045494694920935), (1611, 0.0), (1612, 0.0), (1613, 0.01882872109742321), (1614, 0.025682945147120724), (1615, 0.015157105476608167), (1616, 0.02578308226491574), (1617, 0.03093725232482397), (1618, 0.0), (1619, 0.0075925515687957955), (1620, 0.005526405423112119), (1621, 0.018209739143171397), (1622, 0.0), (1623, 0.0), (1624, 0.0), (1625, 0.018003821557697235), (1626, 0.022378087905818748), (1627, 0.017741405939054565), (1628, 0.0), (1629, 0.04883102824689961), (1630, 0.01159868741540352), (1631, 0.0), (1632, 0.02026545446186187), (1633, 0.0), (1634, 0.06934354411423171), (1635, 0.0), (1636, 0.0061616532327079575), (1637, 0.0), (1638, 0.0), (1639, 0.0), (1640, 0.040090051090866254), (1641, 0.0), (1642, 0.00545853657288536), (1643, 0.03871593158764746), (1644, 0.0), (1645, 0.028072433694624074), (1646, 0.07787112394577375), (1647, 0.07275084209973431), (1648, 0.00932760975795043), (1649, 0.012196834534244012), (1650, 0.010975390004667037), (1651, 0.0), (1652, 0.03427412039005189), (1653, 0.006025347260755881), (1654, 0.016894606553911205), (1655, 0.03298292495056887), (1656, 0.0), (1657, 0.0), (1658, 0.0), (1659, 0.0), (1660, 0.006628878003565251), (1661, 0.0), (1662, 0.017459566789445668), (1663, 0.027138601020487187), (1664, 0.02967580223899599), (1665, 0.0), (1666, 0.02755344346587777), (1667, 0.016308015639968063), (1668, 0.011457386882789284), (1669, 0.008164128027199114), (1670, 0.012567931645466582), (1671, 0.0), (1672, 0.01787966290841428), (1673, 0.100210716077263), (1674, 0.0), (1675, 0.017351359294549232), (1676, 0.05969028673960048), (1677, 0.029985527532413923), (1678, 0.018396624793367462), (1679, 0.029350913392618708), (1680, 0.022399557529289023), (1681, 0.007089428873314449), (1682, 0.05061487432192474), (1683, 0.01597316283013286), (1684, 0.010092366948921254), (1685, 0.0), (1686, 0.020055869490565623), (1687, 0.0066661666968260876), (1688, 0.012192967732404653), (1689, 0.012245019078989842), (1690, 0.025374800906785337), (1691, 0.00956307314401606), (1692, 0.02691408821790228), (1693, 0.0), (1694, 0.04293169525868552), (1695, 0.02676235931141063), (1696, 0.01720290171101861), (1697, 0.011105182394269936), (1698, 0.019741001436619585), (1699, 0.018916088306495462), (1700, 0.11931780957293617), (1701, 0.02622382914685825), (1702, 0.006375973274537103), (1703, 0.0), (1704, 0.03173115235284391), (1705, 0.0), (1706, 0.03320709351745557), (1707, 0.004692453664517419), (1708, 0.0), (1709, 0.017365286035424744), (1710, 0.005541919510683884), (1711, 0.04468557559723904), (1712, 0.03717969274715677), (1713, 0.014987007131138793), (1714, 0.26320444597156134), (1715, 0.06769787054965087), (1716, 0.007323913858011125), (1717, 0.0), (1718, 0.02133034420003236), (1719, 0.005023710154614558), (1720, 0.052518427445942345), (1721, 0.02229207038511057), (1722, 0.0), (1723, 0.017803223098388152), (1724, 0.019461161313670552), (1725, 0.026986123492755167), (1726, 0.06168854806405054), (1727, 0.0), (1728, 0.0), (1729, 0.0), (1730, 0.0), (1731, 0.012517797449605078), (1732, 0.0), (1733, 0.0), (1734, 0.020503253514347956), (1735, 0.0), (1736, 0.0), (1737, 0.12388300574121527), (1738, 0.005377773303394382), (1739, 0.0), (1740, 0.0), (1741, 0.017140097054942783), (1742, 0.005433494662833035), (1743, 0.05360590890542196), (1744, 0.01104830887654538), (1745, 0.0), (1746, 0.011234217908142906), (1747, 0.0), (1748, 0.0), (1749, 0.0), (1750, 0.0), (1751, 0.0062296814354363085), (1752, 0.0), (1753, 0.0), (1754, 0.0), (1755, 0.044604143536151414), (1756, 0.005664267940997142), (1757, 0.012842968339064271), (1758, 0.22227134619735622), (1759, 0.016396848712097095), (1760, 0.04827154670074493), (1761, 0.0), (1762, 0.048076216717155965), (1763, 0.011773870343849724), (1764, 0.052162813519112484), (1765, 0.0), (1766, 0.013342864650339865), (1767, 0.0), (1768, 0.02517311982359101), (1769, 0.03213009435912234), (1770, 0.0), (1771, 0.07552156316996753), (1772, 0.005326341594434105), (1773, 0.0), (1774, 0.02483500415123365), (1775, 0.0), (1776, 0.02879485073637748), (1777, 0.013614563560502946), (1778, 0.06682063930905759), (1779, 0.020255779555829526), (1780, 0.0), (1781, 0.009427440083231766), (1782, 0.005115764199267645), (1783, 0.010571843406300605), (1784, 0.04080896118459501), (1785, 0.0), (1786, 0.0), (1787, 0.04274685302047907), (1788, 0.02260149413613143), (1789, 0.06830082822700673), (1790, 0.0), (1791, 0.021151073822397105), (1792, 0.0), (1793, 0.005419679237316849), (1794, 0.005534477169857796), (1795, 0.0), (1796, 0.0), (1797, 0.01742315549500577), (1798, 0.006702502767737634), (1799, 0.0541471552408161), (1800, 0.02888293754499519), (1801, 0.0), (1802, 0.016072557257143565), (1803, 0.0), (1804, 0.032311067970466185), (1805, 0.0), (1806, 0.0), (1807, 0.006422246651841494), (1808, 0.027187097304403197), (1809, 0.019533289506349666), (1810, 0.11128271600104364), (1811, 0.01785932383173391), (1812, 0.050057661548755315), (1813, 0.01756573945157334), (1814, 0.04255323393768698), (1815, 0.0), (1816, 0.03558809605906602), (1817, 0.055743878001958715), (1818, 0.027566805033204553), (1819, 0.0), (1820, 0.049007836584698865), (1821, 0.018159326198416845), (1822, 0.0), (1823, 0.011286949898948023), (1824, 0.05615906323035401), (1825, 0.01176629403427949), (1826, 0.0), (1827, 0.01509546189476852), (1828, 0.03393377363925283), (1829, 0.0), (1830, 0.00978995463801322), (1831, 0.0), (1832, 0.0), (1833, 0.06818400075789352), (1834, 0.0), (1835, 0.0), (1836, 0.0), (1837, 0.02888550474668879), (1838, 0.0), (1839, 0.012108286429037933), (1840, 0.0), (1841, 0.035815111286337666), (1842, 0.036761614531404765), (1843, 0.047380125513812196), (1844, 0.0486009825794663), (1845, 0.03331358737649456), (1846, 0.027532790643490977), (1847, 0.0), (1848, 0.0), (1849, 0.03150607354394858), (1850, 0.02356851098610937), (1851, 0.006645535883614646), (1852, 0.0203960724516641), (1853, 0.0), (1854, 0.010706389297376818), (1855, 0.06214335422138669), (1856, 0.0), (1857, 0.006949726487186939), (1858, 0.007200273534691133), (1859, 0.02112972224718969), (1860, 0.10938338897475476), (1861, 0.06198068984381725), (1862, 0.0), (1863, 0.010182670986225474), (1864, 0.029507187109538095), (1865, 0.011459262939193336), (1866, 0.0), (1867, 0.0), (1868, 0.0), (1869, 0.01516915072734657), (1870, 0.0), (1871, 0.024005627641573147), (1872, 0.0), (1873, 0.024862459936096384), (1874, 0.0), (1875, 0.016807413164713347), (1876, 0.02977261687453815), (1877, 0.02395154929713507), (1878, 0.02341662357595109), (1879, 0.0), (1880, 0.0), (1881, 0.019925637964930694), (1882, 0.0), (1883, 0.028532079123465365), (1884, 0.0), (1885, 0.0), (1886, 0.1276637336855593), (1887, 0.0071538962722224346), (1888, 0.00556867836994375), (1889, 0.011206727136080431), (1890, 0.0), (1891, 0.0), (1892, 0.0), (1893, 0.006631848739469181), (1894, 0.0), (1895, 0.0051307391252725446), (1896, 0.006393678994770283), (1897, 0.019123052932946902), (1898, 0.01068987804306127), (1899, 0.021034402911460102), (1900, 0.0), (1901, 0.0), (1902, 0.0293064616003838), (1903, 0.09084902633085017), (1904, 0.0), (1905, 0.0), (1906, 0.0), (1907, 0.0068530001342051875), (1908, 0.005742576311301509), (1909, 0.0), (1910, 0.03903156739061393), (1911, 0.036543549025494226), (1912, 0.016752515890510536), (1913, 0.011233318449863316), (1914, 0.047237578203543), (1915, 0.011095278460465582), (1916, 0.0), (1917, 0.0), (1918, 0.0), (1919, 0.010988335166339283), (1920, 0.0659651848376731), (1921, 0.013975226298048688), (1922, 0.0), (1923, 0.0), (1924, 0.0), (1925, 0.03684351322049616), (1926, 0.052488998877987), (1927, 0.07987288169657877), (1928, 0.00699162407091818), (1929, 0.0), (1930, 0.0), (1931, 0.03734823537973026), (1932, 0.013376248721673763), (1933, 0.05104677529385012), (1934, 0.015728545847248133), (1935, 0.05163198703635028), (1936, 0.01156975180275439), (1937, 0.06045302655722311), (1938, 0.019126196573933437), (1939, 0.0), (1940, 0.0), (1941, 0.0), (1942, 0.01820127414954853), (1943, 0.00910690122744335), (1944, 0.05846304598136047), (1945, 0.0), (1946, 0.0), (1947, 0.0), (1948, 0.03836418477034595), (1949, 0.0), (1950, 0.06957382342438731), (1951, 0.028789803225879578), (1952, 0.006490538231330797), (1953, 0.018333634739160873), (1954, 0.031965644761631766), (1955, 0.011349730187054256), (1956, 0.0), (1957, 0.025821044414782033), (1958, 0.037861876227296795), (1959, 0.0844575534025204), (1960, 0.0), (1961, 0.03520803424091905), (1962, 0.0), (1963, 0.012617205541010668), (1964, 0.09899150035805371), (1965, 0.0), (1966, 0.0), (1967, 0.012530766297724403), (1968, 0.007346009322649894), (1969, 0.021887144409230914), (1970, 0.0), (1971, 0.0046019849417298034), (1972, 0.06495681847319629), (1973, 0.020375904160894458), (1974, 0.09024716871066435), (1975, 0.0), (1976, 0.0), (1977, 0.012042084273906508), (1978, 0.010947542276272983), (1979, 0.049819486397367274), (1980, 0.0), (1981, 0.00468389255674257), (1982, 0.015686261380550928), (1983, 0.0), (1984, 0.0055607350957670295), (1985, 0.006601250287992665), (1986, 0.005984405979677237), (1987, 0.011886442839431981), (1988, 0.0059447534768121155), (1989, 0.0), (1990, 0.005512481819133703), (1991, 0.0), (1992, 0.033664967513013414), (1993, 0.03941278872150318), (1994, 0.006033332631526437), (1995, 0.0), (1996, 0.03773810392765385), (1997, 0.013410928065875094), (1998, 0.023824758482021532), (1999, 0.03631430420644427), (2000, 0.03898516026516452), (2001, 0.0), (2002, 0.0), (2003, 0.005733140792662017), (2004, 0.0), (2005, 0.01042534071763736), (2006, 0.008981948948785639), (2007, 0.023072251678966222), (2008, 0.0), (2009, 0.02102339248545373), (2010, 0.0), (2011, 0.0), (2012, 0.007391297573519074), (2013, 0.010805752285539854), (2014, 0.03447880357604677), (2015, 0.006255590350469251), (2016, 0.025020629674163082), (2017, 0.011974166318450842), (2018, 0.01931983719429206), (2019, 0.0320112281640995), (2020, 0.0055971137181836965), (2021, 0.0), (2022, 0.03181811229718331), (2023, 0.005613081181644626), (2024, 0.0), (2025, 0.0), (2026, 0.021634314175516395), (2027, 0.0211810451558961), (2028, 0.0), (2029, 0.006111931602889878), (2030, 0.03236916206476992), (2031, 0.016797737845421157), (2032, 0.007536733834587455), (2033, 0.0), (2034, 0.024900834991199005), (2035, 0.010918642030882147), (2036, 0.02163053765172862), (2037, 0.048946992167869255), (2038, 0.018881831018751013), (2039, 0.03811335947258877), (2040, 0.03890154163026017), (2041, 0.08924461418177404), (2042, 0.0), (2043, 0.03003149534919183), (2044, 0.0), (2045, 0.006150943506295135), (2046, 0.01821738153958572), (2047, 0.00995328153557985), (2048, 0.0), (2049, 0.014579386218823053), (2050, 0.02883922019512369), (2051, 0.022113924556287332), (2052, 0.0134066973807354), (2053, 0.020406951860323895), (2054, 0.0), (2055, 0.033749957885632606), (2056, 0.006217281527800355), (2057, 0.0), (2058, 0.010325448919801885), (2059, 0.0), (2060, 0.05544441025829333), (2061, 0.012193971914633598), (2062, 0.024636867188709097), (2063, 0.0), (2064, 0.014994557292801712), (2065, 0.010424473621887587), (2066, 0.0), (2067, 0.0), (2068, 0.0), (2069, 0.0), (2070, 0.02201871171904239), (2071, 0.010969063510422797), (2072, 0.006878307983301998), (2073, 0.053625478369296195), (2074, 0.0206207352458496), (2075, 0.0), (2076, 0.004644350204585498), (2077, 0.0), (2078, 0.004554332812118571), (2079, 0.007067432458692989), (2080, 0.0), (2081, 0.0), (2082, 0.012531725537198269), (2083, 0.0), (2084, 0.0), (2085, 0.02529167290181408), (2086, 0.04372693307871646), (2087, 0.01211321160568495), (2088, 0.018074484845248758), (2089, 0.0), (2090, 0.0), (2091, 0.040488066835767375), (2092, 0.02145066827508376), (2093, 0.0), (2094, 0.005465871041326338), (2095, 0.03173760330161936), (2096, 0.0), (2097, 0.0), (2098, 0.1498809308847658), (2099, 0.030587566619482705), (2100, 0.051362567292755054), (2101, 0.0), (2102, 0.03660593339850973), (2103, 0.018348833681195595), (2104, 0.046505594383303143), (2105, 0.0), (2106, 0.0), (2107, 0.016876121871073447), (2108, 0.0), (2109, 0.040417777301593606), (2110, 0.0), (2111, 0.08906660194591812), (2112, 0.0068107584061882056), (2113, 0.07054014740378506), (2114, 0.052253613691982545), (2115, 0.0), (2116, 0.05040208658254196), (2117, 0.02854232400489136), (2118, 0.03735899677590489), (2119, 0.0212069298491192), (2120, 0.0), (2121, 0.06468319156304894), (2122, 0.013164248627940354), (2123, 0.0), (2124, 0.0), (2125, 0.010022609569582936), (2126, 0.006033884512101979), (2127, 0.005349819444773154), (2128, 0.005812642152317214), (2129, 0.02408578125391394), (2130, 0.0), (2131, 0.0059694877917909365), (2132, 0.0), (2133, 0.0), (2134, 0.0), (2135, 0.17659918813061784), (2136, 0.0), (2137, 0.0), (2138, 0.021850639010894072), (2139, 0.006221863629876009), (2140, 0.0243640973830746), (2141, 0.0), (2142, 0.0), (2143, 0.021335855093729986), (2144, 0.019189064672997178), (2145, 0.011282752010028993), (2146, 0.0), (2147, 0.0062404069644889405), (2148, 0.0), (2149, 0.019526099955371277), (2150, 0.031040270323284932), (2151, 0.0), (2152, 0.0), (2153, 0.03191777869748276), (2154, 0.01503120318929816), (2155, 0.03616665170354492), (2156, 0.020577581066045098), (2157, 0.04872951297320398), (2158, 0.01663331910904777), (2159, 0.018664241053355565), (2160, 0.010909352693548171), (2161, 0.04332407292018273), (2162, 0.0), (2163, 0.0), (2164, 0.0), (2165, 0.0), (2166, 0.0), (2167, 0.03436927287186433), (2168, 0.0), (2169, 0.006274290571237399), (2170, 0.020109328613361992), (2171, 0.033716038168564985), (2172, 0.0), (2173, 0.0), (2174, 0.014546210377788409), (2175, 0.015372377811196634), (2176, 0.013228225424188127), (2177, 0.023190847166950895), (2178, 0.006263974859515596), (2179, 0.0), (2180, 0.007550172892314828), (2181, 0.0), (2182, 0.0), (2183, 0.038845549277363965), (2184, 0.0), (2185, 0.04386089460085684), (2186, 0.0), (2187, 0.0), (2188, 0.0), (2189, 0.0), (2190, 0.042111571262933384), (2191, 0.012762564949290213), (2192, 0.016886504997540595), (2193, 0.00643110083024392), (2194, 0.0), (2195, 0.03119263201159767), (2196, 0.05174675764761607), (2197, 0.07099795453837382), (2198, 0.01822355000933002), (2199, 0.018594940644145536), (2200, 0.0229728656785509), (2201, 0.055586078945389), (2202, 0.0), (2203, 0.0), (2204, 0.015203035262078814), (2205, 0.0), (2206, 0.04625211628765137), (2207, 0.0324947696366873), (2208, 0.0), (2209, 0.0), (2210, 0.029613226941761113), (2211, 0.032170881835436566), (2212, 0.0), (2213, 0.0), (2214, 0.0), (2215, 0.010826035166347838), (2216, 0.0), (2217, 0.0), (2218, 0.07109783874364027), (2219, 0.0), (2220, 0.018551160214709803), (2221, 0.022271994819409294), (2222, 0.0292203583201701), (2223, 0.01361311204644037), (2224, 0.011255916533494701), (2225, 0.0), (2226, 0.01658179883024929), (2227, 0.04349800597547161), (2228, 0.0), (2229, 0.0), (2230, 0.0), (2231, 0.0), (2232, 0.0), (2233, 0.007188673619149664), (2234, 0.0941953576748504), (2235, 0.03284593028468057), (2236, 0.03064077905584737), (2237, 0.037202528355709974), (2238, 0.0), (2239, 0.01648826970536152), (2240, 0.0), (2241, 0.0), (2242, 0.0), (2243, 0.0), (2244, 0.0), (2245, 0.03831072048283066), (2246, 0.03200039689833692), (2247, 0.0), (2248, 0.0), (2249, 0.0), (2250, 0.0833638570028869), (2251, 0.0), (2252, 0.014242459763640053), (2253, 0.0), (2254, 0.017810939611401996), (2255, 0.0), (2256, 0.0), (2257, 0.024287586626251842), (2258, 0.0), (2259, 0.018865661948182223), (2260, 0.013555944323580357), (2261, 0.01336003737497611), (2262, 0.027782244750842535), (2263, 0.09196171279773978), (2264, 0.12716913713667571), (2265, 0.014225434919465318), (2266, 0.07271050657396655), (2267, 0.03901278443518178), (2268, 0.02178612676399125), (2269, 0.014360097247681048), (2270, 0.0), (2271, 0.0), (2272, 0.0), (2273, 0.0), (2274, 0.02375810733328907), (2275, 0.0), (2276, 0.0), (2277, 0.006533911013225951), (2278, 0.006288453277651367), (2279, 0.0), (2280, 0.0), (2281, 0.0190000914980477), (2282, 0.0), (2283, 0.02019176341924745), (2284, 0.043244678269819606), (2285, 0.010261186918280001), (2286, 0.0), (2287, 0.009914167788936652), (2288, 0.0), (2289, 0.0), (2290, 0.01176194301776185), (2291, 0.004867937238449853), (2292, 0.08414187676502488), (2293, 0.0), (2294, 0.0048831955274390515), (2295, 0.0), (2296, 0.013655603362580508), (2297, 0.030695567177033874), (2298, 0.0), (2299, 0.0), (2300, 0.0), (2301, 0.020478852900351265), (2302, 0.0), (2303, 0.006285886911397781), (2304, 0.0), (2305, 0.0), (2306, 0.0), (2307, 0.0), (2308, 0.0), (2309, 0.0), (2310, 0.0), (2311, 0.01872950460350712), (2312, 0.0), (2313, 0.0), (2314, 0.0), (2315, 0.0), (2316, 0.06231141329901695), (2317, 0.021921658962613166), (2318, 0.010637261900770436), (2319, 0.011448758160886597), (2320, 0.01485438450245979), (2321, 0.0), (2322, 0.1394475689311069), (2323, 0.0), (2324, 0.0), (2325, 0.0), (2326, 0.020031318305415345), (2327, 0.044343971484722425), (2328, 0.0), (2329, 0.07088046654341375), (2330, 0.007530227574004765), (2331, 0.024100622861811142), (2332, 0.05347725028704028), (2333, 0.0), (2334, 0.0064123532090135564), (2335, 0.13370597893759084), (2336, 0.0), (2337, 0.01299255603850984), (2338, 0.010833861842830148), (2339, 0.00711787385292117), (2340, 0.07052913229929106), (2341, 0.0), (2342, 0.0), (2343, 0.0), (2344, 0.0), (2345, 0.0), (2346, 0.0), (2347, 0.011792402494474568), (2348, 0.0), (2349, 0.0), (2350, 0.0), (2351, 0.02220637787027627), (2352, 0.039642083669404436), (2353, 0.05580064880841877), (2354, 0.017205932045102897), (2355, 0.0), (2356, 0.0), (2357, 0.0), (2358, 0.012471717723080844), (2359, 0.10232799836817082), (2360, 0.060261268251131164), (2361, 0.0), (2362, 0.0), (2363, 0.0), (2364, 0.008206889471927532), (2365, 0.053789668955679694), (2366, 0.017824226666611678), (2367, 0.03970311318110606), (2368, 0.04594073196223971), (2369, 0.0), (2370, 0.08223197005562222), (2371, 0.013435560611902729), (2372, 0.05766860439813054), (2373, 0.0), (2374, 0.0), (2375, 0.019745679831798806), (2376, 0.013020443811499435), (2377, 0.004463927422941487), (2378, 0.02054070800199064), (2379, 0.028658693044401728), (2380, 0.0), (2381, 0.014269573828036291), (2382, 0.0), (2383, 0.0), (2384, 0.0), (2385, 0.0), (2386, 0.0), (2387, 0.024095627727716323), (2388, 0.0), (2389, 0.010442577715546422), (2390, 0.035232095200656295), (2391, 0.03199042822313688), (2392, 0.0), (2393, 0.09331833561886829), (2394, 0.0), (2395, 0.0), (2396, 0.0), (2397, 0.0), (2398, 0.04833400639753066), (2399, 0.012570794387923405), (2400, 0.0), (2401, 0.013992537818452512), (2402, 0.019662700857420296), (2403, 0.0), (2404, 0.0), (2405, 0.022162536152911923), (2406, 0.056857144977845275), (2407, 0.0), (2408, 0.05049435138547059), (2409, 0.01947091155140351), (2410, 0.0), (2411, 0.0), (2412, 0.015777545227266744), (2413, 0.02408531414501733), (2414, 0.04066900508572474), (2415, 0.0), (2416, 0.005973797840267954), (2417, 0.0), (2418, 0.0069896819714245426), (2419, 0.011745394799859246), (2420, 0.0), (2421, 0.0316223279597245), (2422, 0.011873248988476082), (2423, 0.027919245401033358), (2424, 0.0), (2425, 0.0), (2426, 0.0), (2427, 0.015804270594334976), (2428, 0.0), (2429, 0.0), (2430, 0.03795039398405329), (2431, 0.0067668665301359445), (2432, 0.006535365182630683), (2433, 0.17105071798087565), (2434, 0.0), (2435, 0.010751062440777953), (2436, 0.0073211232850138915), (2437, 0.0), (2438, 0.0), (2439, 0.0), (2440, 0.0489900693794584), (2441, 0.013224344731915133), (2442, 0.03462347614735873), (2443, 0.03430981747907964), (2444, 0.0), (2445, 0.08384895862076103), (2446, 0.005751209677139762), (2447, 0.004837133060188104), (2448, 0.019256462736763777), (2449, 0.011776193974279044), (2450, 0.05715780314748524), (2451, 0.033651395962256705), (2452, 0.0), (2453, 0.0), (2454, 0.0), (2455, 0.0), (2456, 0.012229505230336463), (2457, 0.04584840376435763), (2458, 0.0), (2459, 0.02360650031411822), (2460, 0.017086851772528274), (2461, 0.010911760450789445), (2462, 0.036409486672555606), (2463, 0.006718176894078805), (2464, 0.0), (2465, 0.024142854471303325), (2466, 0.013311190199926489), (2467, 0.0), (2468, 0.0), (2469, 0.0), (2470, 0.009417958063791738), (2471, 0.0), (2472, 0.018474538826226166), (2473, 0.05970362372851438), (2474, 0.012499287145632608), (2475, 0.0), (2476, 0.0), (2477, 0.0), (2478, 0.0), (2479, 0.03019558088286355), (2480, 0.03370597014129187), (2481, 0.01833156787893696), (2482, 0.005135707619270746), (2483, 0.0), (2484, 0.03918542886180354), (2485, 0.041582660592378154), (2486, 0.007429288973593253), (2487, 0.0059047852446879314), (2488, 0.0), (2489, 0.0), (2490, 0.0), (2491, 0.005590452480422481), (2492, 0.012532176656486827), (2493, 0.0), (2494, 0.035255119790026844), (2495, 0.0), (2496, 0.021373121094670343), (2497, 0.005765092979322041), (2498, 0.012588392877299733), (2499, 0.0), (2500, 0.0), (2501, 0.006540102775909765), (2502, 0.0), (2503, 0.005954276663827532), (2504, 0.03271945514588698), (2505, 0.0), (2506, 0.0), (2507, 0.06957172499127236), (2508, 0.0), (2509, 0.03203846724731036), (2510, 0.06986159131495562), (2511, 0.006310042908909863), (2512, 0.0), (2513, 0.01684008897250689), (2514, 0.04064519195027424), (2515, 0.0), (2516, 0.03283930232912286), (2517, 0.06340319940722641), (2518, 0.006923656759418764), (2519, 0.0), (2520, 0.013282399907713564), (2521, 0.04908574641658102), (2522, 0.0), (2523, 0.0), (2524, 0.01455485143586943), (2525, 0.027953555402660313), (2526, 0.020640714035937514), (2527, 0.0), (2528, 0.015206908611326802), (2529, 0.0), (2530, 0.016245979381548453), (2531, 0.020964079553577132), (2532, 0.07866513061221203), (2533, 0.021613676942940672), (2534, 0.006682507465487794), (2535, 0.0), (2536, 0.0), (2537, 0.0), (2538, 0.007004876370934185), (2539, 0.024659664771133506), (2540, 0.01275552525948386), (2541, 0.04819049410562828), (2542, 0.0), (2543, 0.0), (2544, 0.020097738329307814), (2545, 0.0), (2546, 0.006523366302015509), (2547, 0.008500621256532977), (2548, 0.026472518757521313), (2549, 0.0156883420329046), (2550, 0.0158969745131497), (2551, 0.0), (2552, 0.017166819921976655), (2553, 0.0730076414203322), (2554, 0.041169580079818205), (2555, 0.013306132998442731), (2556, 0.0), (2557, 0.0), (2558, 0.0), (2559, 0.0), (2560, 0.07977812344242266), (2561, 0.0), (2562, 0.028089797365761546), (2563, 0.03803241726473749), (2564, 0.0), (2565, 0.0), (2566, 0.0), (2567, 0.0), (2568, 0.10377063101760331), (2569, 0.0), (2570, 0.06775741473617738), (2571, 0.006184965097402491), (2572, 0.0), (2573, 0.014098176553127133), (2574, 0.01858098416634296), (2575, 0.0), (2576, 0.0), (2577, 0.02598316500536735), (2578, 0.024901939405218343), (2579, 0.04196485503378938), (2580, 0.049659683062597215), (2581, 0.01015658620191778), (2582, 0.022783116538129783), (2583, 0.059387539140925), (2584, 0.043177606669611346), (2585, 0.034137050592926675), (2586, 0.020821236951313278), (2587, 0.0049967825874843545), (2588, 0.05095574003034769), (2589, 0.0379839066392305), (2590, 0.009899825520451752), (2591, 0.13825576420098137), (2592, 0.026262190326584844), (2593, 0.010929473618621139), (2594, 0.021412985471188604), (2595, 0.022795008331770318), (2596, 0.0), (2597, 0.0), (2598, 0.0), (2599, 0.0), (2600, 0.0), (2601, 0.015210184508108245), (2602, 0.0), (2603, 0.029476288037103702), (2604, 0.013623364397980998), (2605, 0.0), (2606, 0.0), (2607, 0.0), (2608, 0.005474414653394206), (2609, 0.00640285888298865), (2610, 0.006151764629776784), (2611, 0.0684774446673014), (2612, 0.03549075974444834), (2613, 0.0), (2614, 0.011380066029597728), (2615, 0.04355546099150541), (2616, 0.020794916256771656), (2617, 0.009466017702018784), (2618, 0.026614709443935916), (2619, 0.0), (2620, 0.0), (2621, 0.0), (2622, 0.015235401960063982), (2623, 0.0), (2624, 0.0), (2625, 0.02128741293879429), (2626, 0.024245402882414974), (2627, 0.004929375503333665), (2628, 0.0), (2629, 0.0), (2630, 0.0), (2631, 0.007765785150148431), (2632, 0.026297076096668707), (2633, 0.026079651841129262), (2634, 0.04426914509536463), (2635, 0.0), (2636, 0.03597085238935818), (2637, 0.03505576495559111), (2638, 0.008846185066282545), (2639, 0.0), (2640, 0.006288608158601566), (2641, 0.0), (2642, 0.0402962902867907), (2643, 0.027351774466567925), (2644, 0.01715252061390429), (2645, 0.007985378466972368), (2646, 0.051847248707132865), (2647, 0.027803740161208294), (2648, 0.0), (2649, 0.0), (2650, 0.011841227572007826), (2651, 0.0), (2652, 0.03346658572465699), (2653, 0.04295300294492915), (2654, 0.11215465201357298), (2655, 0.0), (2656, 0.030446001703580083), (2657, 0.0), (2658, 0.0), (2659, 0.0), (2660, 0.05545862220557147), (2661, 0.047870809746360515), (2662, 0.0), (2663, 0.034216246237582515), (2664, 0.0), (2665, 0.02620772375956709), (2666, 0.05389875398355097), (2667, 0.0), (2668, 0.03787640135716025), (2669, 0.0), (2670, 0.0), (2671, 0.009626141908795167), (2672, 0.020849775495003383), (2673, 0.01974305488250875), (2674, 0.0), (2675, 0.007363148267803498), (2676, 0.0), (2677, 0.024065399509035287), (2678, 0.0), (2679, 0.0), (2680, 0.012134678809256986), (2681, 0.0), (2682, 0.01792443659291146), (2683, 0.037213060638255094), (2684, 0.0), (2685, 0.017454526726464), (2686, 0.011703226387384705), (2687, 0.01549866865860003), (2688, 0.026551532936351114), (2689, 0.006588477260455142), (2690, 0.0), (2691, 0.006196748825755986), (2692, 0.0), (2693, 0.0), (2694, 0.0), (2695, 0.0), (2696, 0.02811802171090468), (2697, 0.017443698116702062), (2698, 0.019376064790069283), (2699, 0.0), (2700, 0.0), (2701, 0.0), (2702, 0.0), (2703, 0.0), (2704, 0.061515471940044975), (2705, 0.0), (2706, 0.005875835002346852), (2707, 0.0), (2708, 0.035907496038682776), (2709, 0.0), (2710, 0.07721997362262296), (2711, 0.0), (2712, 0.029074944445306547), (2713, 0.0061908256267409825), (2714, 0.0), (2715, 0.03916466895461679), (2716, 0.0), (2717, 0.10361277835224625), (2718, 0.0), (2719, 0.07262808780040203), (2720, 0.07060357673944623), (2721, 0.009115389367709666), (2722, 0.0), (2723, 0.03006578841286723), (2724, 0.01003717750489533), (2725, 0.023687486600539546), (2726, 0.0), (2727, 0.0), (2728, 0.0), (2729, 0.04738336297340149), (2730, 0.025233759431339927), (2731, 0.0), (2732, 0.03130257080005562), (2733, 0.05315653838955327), (2734, 0.03764371632094331), (2735, 0.0), (2736, 0.0), (2737, 0.0), (2738, 0.0), (2739, 0.007652682816037493), (2740, 0.0074195032842636925), (2741, 0.03252680207587645), (2742, 0.0), (2743, 0.0), (2744, 0.0), (2745, 0.0), (2746, 0.03146608078764631), (2747, 0.10453383275110853), (2748, 0.0), (2749, 0.04262208567355725), (2750, 0.014014562859777263), (2751, 0.014032269471234251), (2752, 0.0853767316406335), (2753, 0.06726396543048013), (2754, 0.0), (2755, 0.03264097842139487), (2756, 0.015950364211124193), (2757, 0.0), (2758, 0.008851913841936005), (2759, 0.08812152088853849), (2760, 0.034158015572354886), (2761, 0.018258067956392683), (2762, 0.029218551444990352), (2763, 0.022127104280190955), (2764, 0.0), (2765, 0.01110869729789599), (2766, 0.05241540774259821), (2767, 0.0), (2768, 0.0), (2769, 0.0), (2770, 0.027078773645307343), (2771, 0.013257304350411095), (2772, 0.019526165469495326), (2773, 0.0), (2774, 0.004331694648073288), (2775, 0.0), (2776, 0.01574138815843842), (2777, 0.006103676858133944), (2778, 0.0), (2779, 0.0), (2780, 0.0), (2781, 0.04098194023066867), (2782, 0.06642470640945616), (2783, 0.0), (2784, 0.006262992479551973), (2785, 0.008104547456070251), (2786, 0.0), (2787, 0.0), (2788, 0.03371411565269231), (2789, 0.06044503609634401), (2790, 0.006342942191388971), (2791, 0.011097278094368978), (2792, 0.006963833709797755), (2793, 0.028175503606193204), (2794, 0.0), (2795, 0.0), (2796, 0.0), (2797, 0.0), (2798, 0.012432316606540145), (2799, 0.012119148968800213), (2800, 0.0), (2801, 0.015297095799424053), (2802, 0.0), (2803, 0.0), (2804, 0.016735039040629354), (2805, 0.005161811503417267), (2806, 0.01491925331633565), (2807, 0.021197382258196718), (2808, 0.005899998696366974), (2809, 0.10685279519968519), (2810, 0.014073715909275246), (2811, 0.0), (2812, 0.01688253573322271), (2813, 0.09459112189745648), (2814, 0.05843417746637933), (2815, 0.0), (2816, 0.007379146831294724), (2817, 0.02070197816260148), (2818, 0.0), (2819, 0.0), (2820, 0.0), (2821, 0.036116477727489125), (2822, 0.01604432985827296), (2823, 0.0), (2824, 0.07613629766944176), (2825, 0.0), (2826, 0.013665609509177707), (2827, 0.0), (2828, 0.0), (2829, 0.018834946538375984), (2830, 0.0), (2831, 0.05679985249719671), (2832, 0.0), (2833, 0.0), (2834, 0.008791958019765577), (2835, 0.10248096312918231), (2836, 0.026259968834636917), (2837, 0.0), (2838, 0.0), (2839, 0.015538442303316021), (2840, 0.037649001191486724), (2841, 0.019568046007388873), (2842, 0.004894663968135003), (2843, 0.0), (2844, 0.03738831799380054), (2845, 0.011605043578940755), (2846, 0.0), (2847, 0.0), (2848, 0.0), (2849, 0.0), (2850, 0.0), (2851, 0.05199058387860429), (2852, 0.0540144977197355), (2853, 0.0), (2854, 0.0828111527910496), (2855, 0.005485422129787041), (2856, 0.06275951671866913), (2857, 0.030697035399586917), (2858, 0.0), (2859, 0.005554676374658625), (2860, 0.0), (2861, 0.0), (2862, 0.011509367912193737), (2863, 0.0), (2864, 0.05690396586690331), (2865, 0.01735750495505463), (2866, 0.0), (2867, 0.025988264893752958), (2868, 0.0), (2869, 0.0), (2870, 0.0), (2871, 0.0), (2872, 0.0), (2873, 0.022376541184804716), (2874, 0.005282000914971028), (2875, 0.0), (2876, 0.019568746951623275), (2877, 0.0), (2878, 0.023870535476865715), (2879, 0.0), (2880, 0.0), (2881, 0.0), (2882, 0.021362657101097082), (2883, 0.0), (2884, 0.05498192568607599), (2885, 0.034659122805554936), (2886, 0.0), (2887, 0.01358998724425069), (2888, 0.0), (2889, 0.0), (2890, 0.0), (2891, 0.0), (2892, 0.0056733530386267154), (2893, 0.0), (2894, 0.0), (2895, 0.0), (2896, 0.012381122683867101), (2897, 0.14378343540226363), (2898, 0.0), (2899, 0.029174024115662767), (2900, 0.0), (2901, 0.02203526654106997), (2902, 0.0), (2903, 0.0), (2904, 0.019171508793415087), (2905, 0.0), (2906, 0.005460174497816068), (2907, 0.0), (2908, 0.04824007588251093), (2909, 0.010243754674338959), (2910, 0.005281727696435063), (2911, 0.006586925898379547), (2912, 0.013382179464597419), (2913, 0.0), (2914, 0.0), (2915, 0.021320851608022804), (2916, 0.04202715311316073), (2917, 0.0), (2918, 0.017864456432151544), (2919, 0.0), (2920, 0.00550768564851382), (2921, 0.06163393705527232), (2922, 0.0), (2923, 0.0), (2924, 0.03221653907476829), (2925, 0.05644502075935083), (2926, 0.0), (2927, 0.042304936290861885), (2928, 0.0), (2929, 0.028182534008585294), (2930, 0.0), (2931, 0.019533157282794714), (2932, 0.0), (2933, 0.00589204604468284), (2934, 0.0), (2935, 0.012171132756367484), (2936, 0.0), (2937, 0.0), (2938, 0.11273653934951651), (2939, 0.0), (2940, 0.006971059577178237), (2941, 0.0), (2942, 0.017176765607463205), (2943, 0.0), (2944, 0.012977386575162491), (2945, 0.0), (2946, 0.0), (2947, 0.0), (2948, 0.0), (2949, 0.0), (2950, 0.0), (2951, 0.037049595060668225), (2952, 0.031005942820608735), (2953, 0.0), (2954, 0.02353660345087011), (2955, 0.0), (2956, 0.0), (2957, 0.05476523226848327), (2958, 0.01629013050081439), (2959, 0.0), (2960, 0.0), (2961, 0.0), (2962, 0.04316761887783362), (2963, 0.006758174130412133), (2964, 0.04228792789801254), (2965, 0.05040168677680611), (2966, 0.0), (2967, 0.0), (2968, 0.0), (2969, 0.0050076918948075986), (2970, 0.0), (2971, 0.0), (2972, 0.01048459803974395), (2973, 0.0), (2974, 0.0), (2975, 0.010245516150157912), (2976, 0.023151455580136898), (2977, 0.006309282443995027), (2978, 0.0), (2979, 0.0), (2980, 0.028210715003757235), (2981, 0.022839533706287236), (2982, 0.026814671011304976), (2983, 0.0), (2984, 0.0), (2985, 0.009954544855930534), (2986, 0.0), (2987, 0.0), (2988, 0.0), (2989, 0.0), (2990, 0.0), (2991, 0.0), (2992, 0.005855159073997252), (2993, 0.0), (2994, 0.0), (2995, 0.0), (2996, 0.028694314857598602), (2997, 0.0), (2998, 0.024113642150504655), (2999, 0.019012780141017795), (3000, 0.015093309980021334), (3001, 0.0), (3002, 0.0), (3003, 0.064786094392785), (3004, 0.0), (3005, 0.0), (3006, 0.0), (3007, 0.0), (3008, 0.0), (3009, 0.0), (3010, 0.024010538711220067), (3011, 0.005974775160017242), (3012, 0.0), (3013, 0.0), (3014, 0.013555581318005985), (3015, 0.0), (3016, 0.0), (3017, 0.0), (3018, 0.006088360937999044), (3019, 0.0), (3020, 0.0), (3021, 0.0), (3022, 0.033488169502867385), (3023, 0.0), (3024, 0.034921388069409816), (3025, 0.0), (3026, 0.0), (3027, 0.07812896807259179), (3028, 0.02349921789830573), (3029, 0.0), (3030, 0.0), (3031, 0.0), (3032, 0.0), (3033, 0.017710779227033846), (3034, 0.021149874272619343), (3035, 0.0), (3036, 0.0), (3037, 0.0), (3038, 0.0), (3039, 0.008783569341323095), (3040, 0.0), (3041, 0.0), (3042, 0.0), (3043, 0.02783196285043311), (3044, 0.0), (3045, 0.025018367842008928), (3046, 0.005702741595182344), (3047, 0.048284081232104314), (3048, 0.0), (3049, 0.0), (3050, 0.0), (3051, 0.0), (3052, 0.0), (3053, 0.005649288420307793), (3054, 0.0), (3055, 0.0), (3056, 0.0), (3057, 0.04417801005329566), (3058, 0.011118167635640898), (3059, 0.0), (3060, 0.018317924051206334), (3061, 0.0), (3062, 0.0), (3063, 0.0), (3064, 0.0), (3065, 0.028886558608084596), (3066, 0.016625933744295898), (3067, 0.0), (3068, 0.0), (3069, 0.0), (3070, 0.0), (3071, 0.005521714004142301), (3072, 0.0), (3073, 0.012375956412911643), (3074, 0.08199817310915693), (3075, 0.0), (3076, 0.0), (3077, 0.016587894235249864), (3078, 0.024815928771076173), (3079, 0.0), (3080, 0.012733163974957083), (3081, 0.020735268119702423), (3082, 0.0), (3083, 0.02201786939266668), (3084, 0.013068382872831847), (3085, 0.0), (3086, 0.0), (3087, 0.0), (3088, 0.0), (3089, 0.017823334355795462), (3090, 0.0), (3091, 0.02087082232043004), (3092, 0.06568165427709217), (3093, 0.0), (3094, 0.022475335031255792), (3095, 0.0), (3096, 0.03525197564583961), (3097, 0.0), (3098, 0.039368106592208026), (3099, 0.0), (3100, 0.0), (3101, 0.035647715930528706), (3102, 0.0), (3103, 0.06031790078244184), (3104, 0.0518360515114851), (3105, 0.0), (3106, 0.023707439571845984), (3107, 0.0), (3108, 0.004930672528188693), (3109, 0.0702528848783274), (3110, 0.030161603471707474), (3111, 0.05119045869222068), (3112, 0.015318726053913758), (3113, 0.015265328409366495), (3114, 0.0), (3115, 0.0), (3116, 0.05315030684868538), (3117, 0.019828804773709775), (3118, 0.0), (3119, 0.0), (3120, 0.012672008344571476), (3121, 0.027130168251249757), (3122, 0.011107690360469526), (3123, 0.0), (3124, 0.0), (3125, 0.006610399953351202), (3126, 0.0), (3127, 0.005619238728656332), (3128, 0.0), (3129, 0.05901887954977757), (3130, 0.0), (3131, 0.006758505725683187), (3132, 0.0), (3133, 0.04344544874479678), (3134, 0.0), (3135, 0.0), (3136, 0.0), (3137, 0.01918923456198075), (3138, 0.0323865556464813), (3139, 0.0), (3140, 0.0), (3141, 0.02163083145898311), (3142, 0.02046230563551653), (3143, 0.0), (3144, 0.1454988375756734), (3145, 0.0), (3146, 0.0), (3147, 0.0), (3148, 0.020237689147164076), (3149, 0.021393977142843176), (3150, 0.006474497529122257), (3151, 0.017031440927875383), (3152, 0.022831188916714554), (3153, 0.0), (3154, 0.0), (3155, 0.030547647093537154), (3156, 0.025991175295935417), (3157, 0.0), (3158, 0.0), (3159, 0.0), (3160, 0.0), (3161, 0.0), (3162, 0.016905778232555735), (3163, 0.0), (3164, 0.0047931571075968534), (3165, 0.0), (3166, 0.0), (3167, 0.0), (3168, 0.0), (3169, 0.0), (3170, 0.0), (3171, 0.0), (3172, 0.00800127078243712), (3173, 0.039864298295300124), (3174, 0.0064235678920990524), (3175, 0.017005408897652265), (3176, 0.0), (3177, 0.0), (3178, 0.0), (3179, 0.0), (3180, 0.02150396008173191), (3181, 0.1630843277963322), (3182, 0.0), (3183, 0.01771973241807706), (3184, 0.0), (3185, 0.0), (3186, 0.0), (3187, 0.013186607122856797), (3188, 0.018070340284940117), (3189, 0.011410878241035597), (3190, 0.0), (3191, 0.0), (3192, 0.0), (3193, 0.005475770981794184), (3194, 0.0), (3195, 0.014882067116499366), (3196, 0.0), (3197, 0.0), (3198, 0.0), (3199, 0.07257622747528682), (3200, 0.005537600946464983), (3201, 0.10380024464105739), (3202, 0.0), (3203, 0.0), (3204, 0.019422557901398192), (3205, 0.023139576206636266), (3206, 0.02272418122265151), (3207, 0.0), (3208, 0.09076885416779026), (3209, 0.03707575432128854), (3210, 0.0), (3211, 0.046462789956676444), (3212, 0.08231933747438558), (3213, 0.09704053696366699), (3214, 0.03241934246482653), (3215, 0.011282646671079888), (3216, 0.027444142487976823), (3217, 0.0), (3218, 0.038828612919057946), (3219, 0.01783004667001639), (3220, 0.0), (3221, 0.041458836113989594), (3222, 0.011800072690782355), (3223, 0.0), (3224, 0.015325389339056385), (3225, 0.10048332651237707), (3226, 0.03121100767338021), (3227, 0.0), (3228, 0.009705891258869231), (3229, 0.05263682555323911), (3230, 0.007417611800318396), (3231, 0.0309077864519553), (3232, 0.0), (3233, 0.006202047287402328), (3234, 0.027517758274547676), (3235, 0.03292271229021973), (3236, 0.01265717994855904), (3237, 0.027289572199706874), (3238, 0.04926293904526085), (3239, 0.0), (3240, 0.006017906686155398), (3241, 0.0), (3242, 0.0), (3243, 0.031267485721361475), (3244, 0.029836581153264874), (3245, 0.0), (3246, 0.005826865840813288), (3247, 0.02078947368479596), (3248, 0.0), (3249, 0.0), (3250, 0.0), (3251, 0.027554035326213006), (3252, 0.03173883544370174), (3253, 0.0), (3254, 0.014512516649416085), (3255, 0.0), (3256, 0.19043466477557597), (3257, 0.0667701185881294), (3258, 0.0), (3259, 0.006713691900588002), (3260, 0.08215781547839247), (3261, 0.0), (3262, 0.0), (3263, 0.0), (3264, 0.007353264180881772), (3265, 0.01286293160721401), (3266, 0.0), (3267, 0.0), (3268, 0.0), (3269, 0.031200068392455312), (3270, 0.061550209934476574), (3271, 0.0065122841904266746), (3272, 0.0576516202612231), (3273, 0.025001385995801335), (3274, 0.0), (3275, 0.0), (3276, 0.0), (3277, 0.00759910219799975), (3278, 0.0), (3279, 0.02686895674964273), (3280, 0.0056174299554667155), (3281, 0.0), (3282, 0.0), (3283, 0.11350006516557568), (3284, 0.017060494079347628), (3285, 0.0), (3286, 0.054104757712268775), (3287, 0.03189025887603591), (3288, 0.07393106028464266), (3289, 0.025914833534587175), (3290, 0.0), (3291, 0.0), (3292, 0.0), (3293, 0.034680367396539395), (3294, 0.04384928597559082), (3295, 0.006173153280024771), (3296, 0.0), (3297, 0.051993796175509845), (3298, 0.02202260382277099), (3299, 0.006187442797539159), (3300, 0.0), (3301, 0.0), (3302, 0.01674409480957775), (3303, 0.023674579350032234), (3304, 0.0), (3305, 0.0), (3306, 0.04246733511068864), (3307, 0.0), (3308, 0.0), (3309, 0.0), (3310, 0.0), (3311, 0.01798007580304062), (3312, 0.0463330663514959), (3313, 0.03500161638459919), (3314, 0.0), (3315, 0.031232196213373982), (3316, 0.004326070967045128), (3317, 0.01243842569097035), (3318, 0.0157939654866443), (3319, 0.0), (3320, 0.052694318207713225), (3321, 0.0061116157654045895), (3322, 0.0), (3323, 0.0), (3324, 0.0), (3325, 0.034933949693289286), (3326, 0.0), (3327, 0.011236344024882938), (3328, 0.041852994901740895), (3329, 0.012384343563217447), (3330, 0.024769065580317006), (3331, 0.08824408934124439), (3332, 0.0), (3333, 0.0), (3334, 0.0), (3335, 0.012428011611618389), (3336, 0.005129827797485839), (3337, 0.0), (3338, 0.033877513239045934), (3339, 0.0), (3340, 0.0), (3341, 0.0), (3342, 0.030968757631605295), (3343, 0.029711326789443087), (3344, 0.04010787182771747), (3345, 0.01517938052599742), (3346, 0.06929996906666608), (3347, 0.0), (3348, 0.0), (3349, 0.0), (3350, 0.028483811416928535), (3351, 0.0), (3352, 0.0), (3353, 0.0), (3354, 0.0), (3355, 0.0), (3356, 0.004131957245558274), (3357, 0.0), (3358, 0.0), (3359, 0.0), (3360, 0.031506592780051565), (3361, 0.024212954939862787), (3362, 0.004421401016428869), (3363, 0.0), (3364, 0.007920031653632798), (3365, 0.03204935329103723), (3366, 0.043222923784729556), (3367, 0.035796436200753644), (3368, 0.006733515123613381), (3369, 0.01643158632420297), (3370, 0.023370376947863813), (3371, 0.0), (3372, 0.0), (3373, 0.0), (3374, 0.006751051159292914), (3375, 0.0), (3376, 0.019346471752463967), (3377, 0.0), (3378, 0.006504085791744478), (3379, 0.056183976626940475), (3380, 0.0), (3381, 0.0), (3382, 0.0), (3383, 0.0), (3384, 0.007711751340779003), (3385, 0.0), (3386, 0.03418612165651253), (3387, 0.029818210722919496), (3388, 0.0), (3389, 0.03189410177337515), (3390, 0.1599763905556326), (3391, 0.0), (3392, 0.02402671441382387), (3393, 0.03019829499177291), (3394, 0.0), (3395, 0.026713388995076262), (3396, 0.0), (3397, 0.03516814318578744), (3398, 0.0), (3399, 0.019118725948027753), (3400, 0.01767563545689871), (3401, 0.0), (3402, 0.0), (3403, 0.0446411511372185), (3404, 0.0), (3405, 0.0), (3406, 0.0), (3407, 0.04735086073875029), (3408, 0.026227865333932267), (3409, 0.011491830302858202), (3410, 0.0044499736742875445), (3411, 0.016902690547694534), (3412, 0.06972799481446615), (3413, 0.0238190900521582), (3414, 0.014624868263338892), (3415, 0.10527089985961849), (3416, 0.016025587789136805), (3417, 0.0), (3418, 0.0), (3419, 0.0), (3420, 0.02277201829686494), (3421, 0.03861507910041923), (3422, 0.0), (3423, 0.0), (3424, 0.02310110868818556), (3425, 0.02687587118185912), (3426, 0.0), (3427, 0.02284774070256731), (3428, 0.0), (3429, 0.0), (3430, 0.035991475790696496), (3431, 0.0), (3432, 0.0), (3433, 0.0), (3434, 0.0), (3435, 0.005916986518478582), (3436, 0.0), (3437, 0.0), (3438, 0.007682140465447811), (3439, 0.0), (3440, 0.0), (3441, 0.0), (3442, 0.04021242457061651), (3443, 0.017226572888704317), (3444, 0.03608669374138396), (3445, 0.0), (3446, 0.006538658811213147), (3447, 0.018653196640632495), (3448, 0.00887695648497021), (3449, 0.0), (3450, 0.006996289775073147), (3451, 0.04532704963486234), (3452, 0.012703763050650197), (3453, 0.0), (3454, 0.011143113388669346), (3455, 0.0), (3456, 0.03153726621459272), (3457, 0.055368506485697785), (3458, 0.021390592519349744), (3459, 0.04562095090077166), (3460, 0.0), (3461, 0.0833435054633406), (3462, 0.0), (3463, 0.005979620561939988), (3464, 0.006599711101750258), (3465, 0.006164450221653534), (3466, 0.015995730547618082), (3467, 0.1480144082143679), (3468, 0.047218441986517375), (3469, 0.0063322229804548295), (3470, 0.0), (3471, 0.13688451996803314), (3472, 0.022315180304799072), (3473, 0.045687049986831485), (3474, 0.016159447984195368), (3475, 0.0), (3476, 0.03393834627953678), (3477, 0.025109105593105707), (3478, 0.0), (3479, 0.0), (3480, 0.0), (3481, 0.03386050618772843), (3482, 0.03248184392707068), (3483, 0.0), (3484, 0.023158864619453184), (3485, 0.026643388446512484), (3486, 0.0), (3487, 0.013277108215037591), (3488, 0.0), (3489, 0.0), (3490, 0.0), (3491, 0.006373758559608877), (3492, 0.005855559988722065), (3493, 0.0), (3494, 0.0), (3495, 0.058538781677531085), (3496, 0.0), (3497, 0.0), (3498, 0.0), (3499, 0.0), (3500, 0.0), (3501, 0.022778657435146173), (3502, 0.009213941089084446), (3503, 0.04066250367272222), (3504, 0.006125889312102857), (3505, 0.04059108991789397), (3506, 0.0), (3507, 0.006295914884427306), (3508, 0.024826644191824718), (3509, 0.08811819529291952), (3510, 0.0), (3511, 0.020072514494793622), (3512, 0.042215457185127994), (3513, 0.0), (3514, 0.0), (3515, 0.08276005443693801), (3516, 0.00698038605590465), (3517, 0.039070805736637126), (3518, 0.028106320714263618), (3519, 0.0), (3520, 0.013947496411643348), (3521, 0.0), (3522, 0.0), (3523, 0.0), (3524, 0.014907533193226881), (3525, 0.0), (3526, 0.008384326094986164), (3527, 0.0), (3528, 0.0), (3529, 0.018028474541479378), (3530, 0.0), (3531, 0.06520319074026004), (3532, 0.0), (3533, 0.011006922512526026), (3534, 0.0), (3535, 0.0), (3536, 0.017533260203211432), (3537, 0.0271930825308811), (3538, 0.005105162744732699), (3539, 0.03212821124770177), (3540, 0.1091709248791789), (3541, 0.029165290683128023), (3542, 0.0), (3543, 0.0), (3544, 0.0), (3545, 0.017103447681357006), (3546, 0.020809923689674728), (3547, 0.0), (3548, 0.07405093612056564), (3549, 0.007558300210526308), (3550, 0.0), (3551, 0.006505719434749416), (3552, 0.0), (3553, 0.030309844872932395), (3554, 0.016982927780421857), (3555, 0.0), (3556, 0.014816462082949957), (3557, 0.056232576093388165), (3558, 0.013967883103873851), (3559, 0.08023625833563547), (3560, 0.0), (3561, 0.0), (3562, 0.053303186997977134), (3563, 0.014974496423672308), (3564, 0.005690050964343925), (3565, 0.0), (3566, 0.005406726777913083), (3567, 0.00590777785423688), (3568, 0.006094313013784328), (3569, 0.0), (3570, 0.0), (3571, 0.0), (3572, 0.0), (3573, 0.0), (3574, 0.02090019842149332), (3575, 0.0), (3576, 0.0), (3577, 0.007934465877845201), (3578, 0.03602005788753947), (3579, 0.018567591333051803), (3580, 0.0), (3581, 0.015037232392200997), (3582, 0.03315092037217797), (3583, 0.0), (3584, 0.0), (3585, 0.015436686614852495), (3586, 0.006804570017876568), (3587, 0.006859753717459172), (3588, 0.0), (3589, 0.03924194830762728), (3590, 0.0), (3591, 0.0), (3592, 0.0), (3593, 0.03435927796994325), (3594, 0.03440850807649174), (3595, 0.0), (3596, 0.0), (3597, 0.0), (3598, 0.005418643648708886), (3599, 0.0), (3600, 0.0), (3601, 0.0), (3602, 0.016047274779523744), (3603, 0.0), (3604, 0.025714634761041237), (3605, 0.0), (3606, 0.06099575059692934), (3607, 0.09849588343634569), (3608, 0.0), (3609, 0.0), (3610, 0.023179661164919013), (3611, 0.02811334341694459), (3612, 0.038915824283975095), (3613, 0.02111286826852971), (3614, 0.0), (3615, 0.023200378745574377), (3616, 0.05165974699564306), (3617, 0.0), (3618, 0.006848783078748506), (3619, 0.015891657258401064), (3620, 0.017106681007690087), (3621, 0.0), (3622, 0.0), (3623, 0.0), (3624, 0.0), (3625, 0.0), (3626, 0.01722404092590441), (3627, 0.02839673010783988), (3628, 0.034128363734129655), (3629, 0.0), (3630, 0.023022731828257332), (3631, 0.05324810890967266), (3632, 0.13010451202586867), (3633, 0.03870005395763666), (3634, 0.0), (3635, 0.0), (3636, 0.0), (3637, 0.018212823812530494), (3638, 0.008491513497131032), (3639, 0.0), (3640, 0.0), (3641, 0.005753330726323312), (3642, 0.0), (3643, 0.017714726728254568), (3644, 0.022890946465864162), (3645, 0.0), (3646, 0.016899947703102037), (3647, 0.02010283914709867), (3648, 0.07818042073451986), (3649, 0.0), (3650, 0.06730936135800407), (3651, 0.03161420385980643), (3652, 0.0), (3653, 0.018736069307942426), (3654, 0.006635730529607489), (3655, 0.004993893336312843), (3656, 0.023088886212944013), (3657, 0.04803320301734552), (3658, 0.039644057631855814), (3659, 0.09691107391269091), (3660, 0.046384894300941296), (3661, 0.00827703937225308), (3662, 0.07525451974973545), (3663, 0.0), (3664, 0.0), (3665, 0.046089486122124344), (3666, 0.02768872006746908), (3667, 0.004302684906150545), (3668, 0.061681191658178605), (3669, 0.0), (3670, 0.0), (3671, 0.041630298507624654), (3672, 0.0), (3673, 0.029142656222310846), (3674, 0.03477498190905285), (3675, 0.0), (3676, 0.0), (3677, 0.014702741460625383), (3678, 0.02366830362540887), (3679, 0.0), (3680, 0.0), (3681, 0.02764774881972798), (3682, 0.016045580049257616), (3683, 0.05121563393119416), (3684, 0.024729127827611348), (3685, 0.05622442836998938), (3686, 0.0), (3687, 0.0), (3688, 0.0), (3689, 0.00629141476704523), (3690, 0.012211693753962737), (3691, 0.0), (3692, 0.0), (3693, 0.0), (3694, 0.0), (3695, 0.02746647587072642), (3696, 0.028711436510020873), (3697, 0.019652953360056395), (3698, 0.06517485880785177), (3699, 0.025800990513760065), (3700, 0.0), (3701, 0.017592853351268624), (3702, 0.0), (3703, 0.0), (3704, 0.01614911626437998), (3705, 0.032723215362268326), (3706, 0.017723548365174042), (3707, 0.0), (3708, 0.0), (3709, 0.017609768107919442), (3710, 0.024051960553590938), (3711, 0.024639080644599375), (3712, 0.005889168293430718), (3713, 0.006191830123613688), (3714, 0.0), (3715, 0.0), (3716, 0.022629991544893403), (3717, 0.0), (3718, 0.022625231429946366), (3719, 0.0), (3720, 0.00574643186177472), (3721, 0.0), (3722, 0.05583727433033892), (3723, 0.0), (3724, 0.007231635577091178), (3725, 0.0), (3726, 0.013340302220129267), (3727, 0.0), (3728, 0.012580641039840381), (3729, 0.0), (3730, 0.028488845433278003), (3731, 0.016704087765903052), (3732, 0.0), (3733, 0.0), (3734, 0.0), (3735, 0.03725711169203413), (3736, 0.01613067236532406), (3737, 0.03918911545716536), (3738, 0.021636407959687114), (3739, 0.005996484268338604), (3740, 0.0), (3741, 0.014195896602078498), (3742, 0.0), (3743, 0.012816942973973856), (3744, 0.0), (3745, 0.0), (3746, 0.05445457034698088), (3747, 0.0650081840879994), (3748, 0.006006524823147694), (3749, 0.0), (3750, 0.0), (3751, 0.01752342433303305), (3752, 0.04143707883116421), (3753, 0.021362953864696072), (3754, 0.01985826031306961), (3755, 0.0), (3756, 0.0), (3757, 0.0), (3758, 0.0), (3759, 0.021168192631236937), (3760, 0.0), (3761, 0.0), (3762, 0.0), (3763, 0.014332468943553178), (3764, 0.0), (3765, 0.011389999109770474), (3766, 0.0), (3767, 0.0), (3768, 0.02281824166595311), (3769, 0.050232075608841506), (3770, 0.0), (3771, 0.0), (3772, 0.05417661767428158), (3773, 0.019286241856101095), (3774, 0.0), (3775, 0.0), (3776, 0.005394927374517879), (3777, 0.006569057678040432), (3778, 0.006617113548239547), (3779, 0.0), (3780, 0.006717459064044472), (3781, 0.021012968643728477), (3782, 0.03434751429889801), (3783, 0.0), (3784, 0.005903378175705177), (3785, 0.09400160066421023), (3786, 0.005419439117962771), (3787, 0.0), (3788, 0.0), (3789, 0.0), (3790, 0.031499535297888195), (3791, 0.0), (3792, 0.026753926506742985), (3793, 0.0), (3794, 0.012591296240696832), (3795, 0.0), (3796, 0.027290110519890484), (3797, 0.02627797454263345), (3798, 0.0), (3799, 0.0), (3800, 0.0), (3801, 0.018891271597626026), (3802, 0.0548949023454644), (3803, 0.03432528716633093), (3804, 0.0), (3805, 0.03952223920866792), (3806, 0.0), (3807, 0.010506143773526376), (3808, 0.09783999652071351), (3809, 0.019880934963647862), (3810, 0.007273378001730528), (3811, 0.0), (3812, 0.05575004746297207), (3813, 0.016046152339674095), (3814, 0.0), (3815, 0.0), (3816, 0.03520179662764216), (3817, 0.06193360984646976), (3818, 0.005777398691268803), (3819, 0.00553041032873881), (3820, 0.0), (3821, 0.005371385146399527), (3822, 0.06561742812005208), (3823, 0.011008512942298192), (3824, 0.019102294110994636), (3825, 0.08153670377973718), (3826, 0.031671227244590414), (3827, 0.0), (3828, 0.0), (3829, 0.11556530327715911), (3830, 0.0), (3831, 0.006786654920576306), (3832, 0.0), (3833, 0.0), (3834, 0.0), (3835, 0.03057943447399023), (3836, 0.0), (3837, 0.0), (3838, 0.0), (3839, 0.01652900773945657), (3840, 0.018686424222753264), (3841, 0.01519608531416971), (3842, 0.0), (3843, 0.06541826927831533), (3844, 0.0), (3845, 0.0), (3846, 0.034584506450799773), (3847, 0.031768161050260264), (3848, 0.0), (3849, 0.02721229810169984), (3850, 0.0), (3851, 0.0), (3852, 0.12558814706017432), (3853, 0.0), (3854, 0.018576888441238438), (3855, 0.004906348847372532), (3856, 0.017001829274419997), (3857, 0.0076768446402024505), (3858, 0.04490871805894191), (3859, 0.0), (3860, 0.08158330711235001), (3861, 0.01551787474675774), (3862, 0.0), (3863, 0.015286253739073889), (3864, 0.0762377904647211), (3865, 0.08874693559753553), (3866, 0.029458579723866077), (3867, 0.0), (3868, 0.005599956301082024), (3869, 0.0), (3870, 0.12527872044452712), (3871, 0.12018104226812878), (3872, 0.0), (3873, 0.0), (3874, 0.0), (3875, 0.008944517837353434), (3876, 0.03607521100999035), (3877, 0.007119822830488756), (3878, 0.0626360694523205), (3879, 0.0), (3880, 0.0), (3881, 0.0), (3882, 0.053414652187897566), (3883, 0.0), (3884, 0.0), (3885, 0.0), (3886, 0.023717502355491794), (3887, 0.0), (3888, 0.0), (3889, 0.024925743629990487), (3890, 0.04651029965217763), (3891, 0.05526591117008107), (3892, 0.024249502115200584), (3893, 0.0284031603470523), (3894, 0.027114224152683542), (3895, 0.014240502078203552), (3896, 0.0), (3897, 0.008731719772885862), (3898, 0.0), (3899, 0.030083817787936208), (3900, 0.0), (3901, 0.0), (3902, 0.0), (3903, 0.021107421443188525), (3904, 0.0), (3905, 0.02295168153855764), (3906, 0.03853957945410191), (3907, 0.012939950819269946), (3908, 0.0), (3909, 0.03473630237990652), (3910, 0.0), (3911, 0.0), (3912, 0.01148215747878145), (3913, 0.051170540188882306), (3914, 0.024027738945039814), (3915, 0.0), (3916, 0.027807261819484237), (3917, 0.06792296944615636), (3918, 0.0), (3919, 0.006575309925980463), (3920, 0.007493561443683131), (3921, 0.050126743919543304), (3922, 0.0), (3923, 0.010426388309531172), (3924, 0.03201689762195831), (3925, 0.0), (3926, 0.03810899493809209), (3927, 0.006046606623455248), (3928, 0.006380538408746688), (3929, 0.0), (3930, 0.006572275380176529), (3931, 0.0), (3932, 0.0), (3933, 0.0), (3934, 0.0), (3935, 0.0), (3936, 0.0), (3937, 0.0), (3938, 0.013382063465670772), (3939, 0.0), (3940, 0.010938796209729765), (3941, 0.0), (3942, 0.0), (3943, 0.10273949641361396), (3944, 0.004994694435999582), (3945, 0.0), (3946, 0.0), (3947, 0.0), (3948, 0.04940396689613936), (3949, 0.0), (3950, 0.023302392308295145), (3951, 0.00922291691708128), (3952, 0.0), (3953, 0.0), (3954, 0.0), (3955, 0.0060821590609964424), (3956, 0.08901398297295404), (3957, 0.004973547929058892), (3958, 0.0), (3959, 0.006650921180100091), (3960, 0.022124001308232662), (3961, 0.0), (3962, 0.0), (3963, 0.006288673821126679), (3964, 0.03170175070686486), (3965, 0.0), (3966, 0.01721140800986499), (3967, 0.0), (3968, 0.0), (3969, 0.0341180855893983), (3970, 0.024482705656253934), (3971, 0.0), (3972, 0.01542123167857204), (3973, 0.0), (3974, 0.0), (3975, 0.0), (3976, 0.0), (3977, 0.0), (3978, 0.0), (3979, 0.0), (3980, 0.012929007891425107), (3981, 0.0), (3982, 0.0), (3983, 0.013889149185083889), (3984, 0.030654633251387606), (3985, 0.0), (3986, 0.08348486254755647), (3987, 0.0), (3988, 0.0), (3989, 0.0), (3990, 0.025933284910644956), (3991, 0.0319618573046253), (3992, 0.0), (3993, 0.034762477985883326), (3994, 0.029291072927884045), (3995, 0.026642865113114724), (3996, 0.0), (3997, 0.019294060157827676), (3998, 0.005560946495911662), (3999, 0.0), (4000, 0.0), (4001, 0.012711668036378243), (4002, 0.009353306522543108), (4003, 0.07832846244369064), (4004, 0.01786665242534752), (4005, 0.0), (4006, 0.006480301061372862), (4007, 0.009575305452779032), (4008, 0.0), (4009, 0.03570331849192226), (4010, 0.03702902930476414), (4011, 0.0), (4012, 0.00595292659652016), (4013, 0.008067537215755323), (4014, 0.0), (4015, 0.10393042180177336), (4016, 0.0), (4017, 0.0), (4018, 0.0), (4019, 0.0), (4020, 0.010868903229977193), (4021, 0.02614637710996569), (4022, 0.026606348702508675), (4023, 0.022465844690950677), (4024, 0.0), (4025, 0.013202606815590155), (4026, 0.0), (4027, 0.0), (4028, 0.0), (4029, 0.0), (4030, 0.0), (4031, 0.022721987463042638), (4032, 0.02222464695786226), (4033, 0.0), (4034, 0.03817763622659322), (4035, 0.0), (4036, 0.0), (4037, 0.04707935408271957), (4038, 0.006368271076401646), (4039, 0.0), (4040, 0.0), (4041, 0.0), (4042, 0.0), (4043, 0.0), (4044, 0.0), (4045, 0.0), (4046, 0.038452241825922315), (4047, 0.03404438991204202), (4048, 0.0), (4049, 0.0), (4050, 0.0), (4051, 0.07822672850845644), (4052, 0.0), (4053, 0.0), (4054, 0.09683745544601492), (4055, 0.010209684876769399), (4056, 0.0), (4057, 0.029716763951461132), (4058, 0.0), (4059, 0.005868981111866562), (4060, 0.0), (4061, 0.013861506120922594), (4062, 0.008936880864682526), (4063, 0.021229910985961872), (4064, 0.029099418820268275), (4065, 0.0), (4066, 0.02827329577650717), (4067, 0.0), (4068, 0.006316576353410978), (4069, 0.0), (4070, 0.03219132307839631), (4071, 0.0), (4072, 0.0), (4073, 0.0), (4074, 0.03843603005105547), (4075, 0.0), (4076, 0.021574540214616068), (4077, 0.0068373974794971645), (4078, 0.0), (4079, 0.021416703536082094), (4080, 0.0), (4081, 0.01726599256211691), (4082, 0.0), (4083, 0.0), (4084, 0.0), (4085, 0.0), (4086, 0.03589517390426482), (4087, 0.0), (4088, 0.0), (4089, 0.109897338691359), (4090, 0.05071882960832179), (4091, 0.007234544287834559), (4092, 0.0), (4093, 0.0), (4094, 0.0), (4095, 0.04730823618658573), (4096, 0.0), (4097, 0.0), (4098, 0.021945481530607075), (4099, 0.11005253776899046), (4100, 0.0), (4101, 0.0), (4102, 0.0), (4103, 0.0), (4104, 0.01658739070347948), (4105, 0.0), (4106, 0.0255014418054839), (4107, 0.0), (4108, 0.0), (4109, 0.042154723202036566), (4110, 0.023944045282313642), (4111, 0.022923517436102873), (4112, 0.033117619045338366), (4113, 0.021955903197993957), (4114, 0.016299503314766886), (4115, 0.0), (4116, 0.0), (4117, 0.017639611326478923), (4118, 0.029886580771362005), (4119, 0.014086715833096562), (4120, 0.007924809144602673), (4121, 0.006964332003358863), (4122, 0.018804237834110827), (4123, 0.0), (4124, 0.005497151825074966), (4125, 0.05326739930692405), (4126, 0.0), (4127, 0.0), (4128, 0.0), (4129, 0.0), (4130, 0.0), (4131, 0.0), (4132, 0.026915841439971888), (4133, 0.0), (4134, 0.055668605698499254), (4135, 0.06800226938748274), (4136, 0.019305954730835254), (4137, 0.005908248435427829), (4138, 0.023987769200121387), (4139, 0.0), (4140, 0.026194458353480457), (4141, 0.0), (4142, 0.0), (4143, 0.016426068720032), (4144, 0.07256863225893365), (4145, 0.0), (4146, 0.03154837517856821), (4147, 0.04376574582846901), (4148, 0.0), (4149, 0.0), (4150, 0.0), (4151, 0.0), (4152, 0.0717077969401298), (4153, 0.0), (4154, 0.0), (4155, 0.018509342071865175), (4156, 0.005491613001004474), (4157, 0.020244401450382313), (4158, 0.02028518592227839), (4159, 0.0), (4160, 0.01669424568936238), (4161, 0.0), (4162, 0.0), (4163, 0.0), (4164, 0.06057870259086361), (4165, 0.016029139035219176), (4166, 0.0), (4167, 0.0), (4168, 0.011784189160765672), (4169, 0.016344234900764316), (4170, 0.0), (4171, 0.05018178294817923), (4172, 0.0), (4173, 0.08858260098449258), (4174, 0.06418066957178127), (4175, 0.0), (4176, 0.005513089668712045), (4177, 0.02229130649474085), (4178, 0.01787101598068823), (4179, 0.0), (4180, 0.0), (4181, 0.0), (4182, 0.15104891653713715), (4183, 0.016967985027766128), (4184, 0.0), (4185, 0.0), (4186, 0.0379488369654379), (4187, 0.0), (4188, 0.0), (4189, 0.03155763980716846), (4190, 0.023259120205949644), (4191, 0.0686744572905033), (4192, 0.011084905518215244), (4193, 0.0), (4194, 0.026550848227086192), (4195, 0.030760458905629746), (4196, 0.035145765731344106), (4197, 0.03542811046524056), (4198, 0.0), (4199, 0.046977612676809624), (4200, 0.0), (4201, 0.016100098699991083), (4202, 0.0), (4203, 0.033922699688353986), (4204, 0.0), (4205, 0.015548865886119704), (4206, 0.0), (4207, 0.03454219370385607), (4208, 0.0), (4209, 0.0), (4210, 0.052731569537321596), (4211, 0.0), (4212, 0.0), (4213, 0.0), (4214, 0.023363592057525993), (4215, 0.0), (4216, 0.0), (4217, 0.005898870958040033), (4218, 0.03294836268735849), (4219, 0.0), (4220, 0.030954128817744227), (4221, 0.0), (4222, 0.0), (4223, 0.0), (4224, 0.0), (4225, 0.0), (4226, 0.0084663581969677), (4227, 0.0), (4228, 0.0), (4229, 0.0), (4230, 0.0), (4231, 0.0), (4232, 0.0), (4233, 0.05671122492789951), (4234, 0.0), (4235, 0.0), (4236, 0.0), (4237, 0.094973238976015), (4238, 0.0), (4239, 0.0), (4240, 0.02847620218768539), (4241, 0.019890957037126848), (4242, 0.048665614341015115), (4243, 0.0), (4244, 0.0), (4245, 0.019873575260045767), (4246, 0.0), (4247, 0.016545788054006777), (4248, 0.0), (4249, 0.0), (4250, 0.036943603604831995), (4251, 0.0), (4252, 0.02942564056100127), (4253, 0.0), (4254, 0.0627270361087855), (4255, 0.0), (4256, 0.0), (4257, 0.005288880018699451), (4258, 0.02785043818658672), (4259, 0.014062087055881875), (4260, 0.0), (4261, 0.0), (4262, 0.006868257989773413), (4263, 0.034426155959349454), (4264, 0.0), (4265, 0.013463142188177448), (4266, 0.0), (4267, 0.014489142176498306), (4268, 0.040802069876554416), (4269, 0.0074335414949890715), (4270, 0.07682490211458493), (4271, 0.007411764365244116), (4272, 0.006142804755645529), (4273, 0.0), (4274, 0.0), (4275, 0.0), (4276, 0.0), (4277, 0.051902338271810636), (4278, 0.0), (4279, 0.02755802870015554), (4280, 0.09989402026554706), (4281, 0.008364577024521225), (4282, 0.01674592013042851), (4283, 0.05548780268157992), (4284, 0.006434495397014609), (4285, 0.0), (4286, 0.0), (4287, 0.06057065316731995), (4288, 0.0), (4289, 0.019483848540503654), (4290, 0.0335796250758266), (4291, 0.0), (4292, 0.021587520970017753), (4293, 0.0), (4294, 0.0), (4295, 0.022741845744649703), (4296, 0.0), (4297, 0.037233468210221984), (4298, 0.0), (4299, 0.0), (4300, 0.0), (4301, 0.0), (4302, 0.0), (4303, 0.04869013743432495), (4304, 0.03412868043069899), (4305, 0.0), (4306, 0.0), (4307, 0.03261922133452949), (4308, 0.0), (4309, 0.02615474532545146), (4310, 0.0), (4311, 0.0), (4312, 0.014195294345069246), (4313, 0.0), (4314, 0.04462507596065112), (4315, 0.0), (4316, 0.0), (4317, 0.0), (4318, 0.0), (4319, 0.0), (4320, 0.018481754335768968), (4321, 0.0), (4322, 0.0), (4323, 0.020820964951939327), (4324, 0.021076187319194493), (4325, 0.03504087656463589), (4326, 0.0), (4327, 0.017077140395053227), (4328, 0.01120227073954586), (4329, 0.05455119834218577), (4330, 0.01899560325759937), (4331, 0.0), (4332, 0.013647271879608649), (4333, 0.0), (4334, 0.02094080590473852), (4335, 0.0), (4336, 0.0), (4337, 0.05929688047802556), (4338, 0.042489461429241565), (4339, 0.00573172475736224), (4340, 0.012566097040211175), (4341, 0.04132738057124257), (4342, 0.03825507936411703), (4343, 0.014759564532054978), (4344, 0.00943894840450792), (4345, 0.0), (4346, 0.03556264449317055), (4347, 0.09856467755903159), (4348, 0.018147925223368555), (4349, 0.0), (4350, 0.014627265817633087), (4351, 0.04498781909496922), (4352, 0.0), (4353, 0.005360926016369007), (4354, 0.0), (4355, 0.0), (4356, 0.01150279889233652), (4357, 0.0), (4358, 0.036463270785812435), (4359, 0.0), (4360, 0.0), (4361, 0.0), (4362, 0.0198785680641983), (4363, 0.007213887855111854), (4364, 0.03541921599801234), (4365, 0.0), (4366, 0.016317220647835248), (4367, 0.0), (4368, 0.007532315431482202), (4369, 0.0), (4370, 0.0), (4371, 0.04270611235985928), (4372, 0.04694527943603635), (4373, 0.0045269921531107555), (4374, 0.048556418731902265), (4375, 0.0), (4376, 0.025099132493654447), (4377, 0.0), (4378, 0.034637861129058534), (4379, 0.006314414144313709), (4380, 0.047680218503104534), (4381, 0.0), (4382, 0.0), (4383, 0.0), (4384, 0.0), (4385, 0.0), (4386, 0.0), (4387, 0.005980296582756758), (4388, 0.0304328284177767), (4389, 0.0), (4390, 0.0), (4391, 0.0), (4392, 0.0), (4393, 0.0), (4394, 0.10836350365388911), (4395, 0.0334840222394277), (4396, 0.034012389635565375), (4397, 0.014100354586644381), (4398, 0.0), (4399, 0.011582878080924263), (4400, 0.0), (4401, 0.09077056227231572), (4402, 0.025237463284825228), (4403, 0.0), (4404, 0.0), (4405, 0.040914025990670434), (4406, 0.006135488666015787), (4407, 0.03230455864448715), (4408, 0.0), (4409, 0.02296492999010336), (4410, 0.057996695648531355), (4411, 0.035620741852782516), (4412, 0.0), (4413, 0.0), (4414, 0.02334575599214316), (4415, 0.0), (4416, 0.0), (4417, 0.0), (4418, 0.0), (4419, 0.0), (4420, 0.04230420089889475), (4421, 0.0373563219940654), (4422, 0.0203377450460801), (4423, 0.0), (4424, 0.0), (4425, 0.0), (4426, 0.03788992943020013), (4427, 0.03919160358873382), (4428, 0.005239750987656435), (4429, 0.0), (4430, 0.04789403933731516), (4431, 0.018061784159210514), (4432, 0.0), (4433, 0.05011874202915445), (4434, 0.0), (4435, 0.0), (4436, 0.00810837587920921), (4437, 0.0), (4438, 0.017340175888252575), (4439, 0.0), (4440, 0.027255485396413537), (4441, 0.020360412114335154), (4442, 0.0056868318214087395), (4443, 0.0), (4444, 0.010747884675447667), (4445, 0.011207875788912022), (4446, 0.0), (4447, 0.010560735872745964), (4448, 0.007384475097491587), (4449, 0.009352563774828366), (4450, 0.005381366921767615), (4451, 0.015515441362022266), (4452, 0.0), (4453, 0.0), (4454, 0.05458828718043454), (4455, 0.06039247037980959), (4456, 0.0), (4457, 0.03210225676739514), (4458, 0.0), (4459, 0.010857008995634914), (4460, 0.029502155244027065), (4461, 0.0), (4462, 0.007248362955180014), (4463, 0.0), (4464, 0.0), (4465, 0.0), (4466, 0.01961216714022068), (4467, 0.006997246095826662), (4468, 0.0), (4469, 0.0), (4470, 0.0), (4471, 0.0), (4472, 0.031128180519353753), (4473, 0.005057219144205192), (4474, 0.0), (4475, 0.0), (4476, 0.0), (4477, 0.00869304006380875), (4478, 0.012565449671517176), (4479, 0.015085802471601954), (4480, 0.0), (4481, 0.0055141364575194965), (4482, 0.018244945397358124), (4483, 0.01656742429581948), (4484, 0.0), (4485, 0.0), (4486, 0.00647903378157277), (4487, 0.024580017069996383), (4488, 0.0), (4489, 0.0), (4490, 0.0), (4491, 0.0), (4492, 0.04018061342645484), (4493, 0.0), (4494, 0.0), (4495, 0.0), (4496, 0.045969668393953694), (4497, 0.0), (4498, 0.062497782127606934), (4499, 0.0), (4500, 0.02633571684112599), (4501, 0.01266121680532953), (4502, 0.015449662044548344), (4503, 0.006251442303547909), (4504, 0.022509305025976464), (4505, 0.0), (4506, 0.0), (4507, 0.0), (4508, 0.0), (4509, 0.0), (4510, 0.0), (4511, 0.02566665564674894), (4512, 0.0), (4513, 0.0), (4514, 0.0), (4515, 0.02457085170018775), (4516, 0.015039479011651506), (4517, 0.0), (4518, 0.0329965296384724), (4519, 0.08597517473358103), (4520, 0.0), (4521, 0.0), (4522, 0.0), (4523, 0.08947570851483452), (4524, 0.034343599557128006), (4525, 0.0), (4526, 0.04780844698149135), (4527, 0.0), (4528, 0.0), (4529, 0.0), (4530, 0.017829837208684085), (4531, 0.021617276283316646), (4532, 0.0), (4533, 0.0), (4534, 0.014840641654917351), (4535, 0.0), (4536, 0.0), (4537, 0.0), (4538, 0.0), (4539, 0.0), (4540, 0.0), (4541, 0.007355042401393961), (4542, 0.0), (4543, 0.0), (4544, 0.0), (4545, 0.0), (4546, 0.0), (4547, 0.0), (4548, 0.03813027585375635), (4549, 0.008406773624253213), (4550, 0.005295835392087207), (4551, 0.03001539544853941), (4552, 0.0), (4553, 0.016590611836547024), (4554, 0.0), (4555, 0.03087565717032463), (4556, 0.0), (4557, 0.0), (4558, 0.014817275620603131), (4559, 0.038475664559900404), (4560, 0.0), (4561, 0.0), (4562, 0.03150681922120646), (4563, 0.0), (4564, 0.005978255663972935), (4565, 0.0), (4566, 0.0), (4567, 0.013974974995205352), (4568, 0.012394280322490835), (4569, 0.03586569805638598), (4570, 0.07528582543095685), (4571, 0.0), (4572, 0.0), (4573, 0.0), (4574, 0.0), (4575, 0.0), (4576, 0.05691698469237748), (4577, 0.0), (4578, 0.0), (4579, 0.0), (4580, 0.0), (4581, 0.0), (4582, 0.03215729534147673), (4583, 0.0), (4584, 0.0), (4585, 0.0), (4586, 0.0), (4587, 0.014580262181613355), (4588, 0.0), (4589, 0.017541282855011154), (4590, 0.005326071134243409), (4591, 0.016516623167381523), (4592, 0.007260692831673013), (4593, 0.0), (4594, 0.009030623016198225), (4595, 0.0), (4596, 0.010303762920496916), (4597, 0.0), (4598, 0.03746530563953534), (4599, 0.01574381085160791), (4600, 0.005362338710490811), (4601, 0.0), (4602, 0.0), (4603, 0.0), (4604, 0.04931085784163972), (4605, 0.0201426836919131), (4606, 0.02322813966323416), (4607, 0.022364571446317934), (4608, 0.0), (4609, 0.017799766457776624), (4610, 0.016073517691444054), (4611, 0.0), (4612, 0.008297965765385421), (4613, 0.027151292005897217), (4614, 0.0), (4615, 0.0), (4616, 0.020763512520552297), (4617, 0.0), (4618, 0.0), (4619, 0.0), (4620, 0.0), (4621, 0.006894384880113087), (4622, 0.0), (4623, 0.03233693889433309), (4624, 0.012101989241867039), (4625, 0.0), (4626, 0.0), (4627, 0.013917376852648738), (4628, 0.016855494351431945), (4629, 0.007447454820901337), (4630, 0.06025373040859179), (4631, 0.0), (4632, 0.0), (4633, 0.0), (4634, 0.00557552316950638), (4635, 0.0075882063797768065), (4636, 0.0), (4637, 0.0), (4638, 0.0), (4639, 0.0), (4640, 0.0850479099448726), (4641, 0.0), (4642, 0.0), (4643, 0.0), (4644, 0.0), (4645, 0.0), (4646, 0.010177794808349624), (4647, 0.07540902812025067), (4648, 0.0), (4649, 0.005342379193697413), (4650, 0.016465314407336392), (4651, 0.0), (4652, 0.010346022751000803), (4653, 0.0), (4654, 0.0), (4655, 0.0), (4656, 0.0), (4657, 0.0), (4658, 0.039839758027356134), (4659, 0.008006519551875842), (4660, 0.009290473842641317), (4661, 0.015043719785502755), (4662, 0.05741609206510577), (4663, 0.025757040734507727), (4664, 0.0), (4665, 0.08618605213461383), (4666, 0.0), (4667, 0.0), (4668, 0.0), (4669, 0.0), (4670, 0.0), (4671, 0.0), (4672, 0.0), (4673, 0.0), (4674, 0.03774057078728806), (4675, 0.040969222855855025), (4676, 0.02523494044232374), (4677, 0.013508096327728834), (4678, 0.0), (4679, 0.011212201478907606), (4680, 0.0), (4681, 0.0), (4682, 0.011036529385549523), (4683, 0.014383970619423194), (4684, 0.0), (4685, 0.007589889426297509), (4686, 0.00648803834766416), (4687, 0.006088750745136806), (4688, 0.05220008286464485), (4689, 0.005444354899280832), (4690, 0.0), (4691, 0.0), (4692, 0.0), (4693, 0.0), (4694, 0.0), (4695, 0.007456016935127609), (4696, 0.0), (4697, 0.0), (4698, 0.0), (4699, 0.0), (4700, 0.0), (4701, 0.0), (4702, 0.0), (4703, 0.017787182782744253), (4704, 0.0), (4705, 0.0), (4706, 0.0), (4707, 0.0), (4708, 0.0), (4709, 0.0), (4710, 0.0), (4711, 0.07875173901890904), (4712, 0.0), (4713, 0.0), (4714, 0.0), (4715, 0.0), (4716, 0.08796031607548957), (4717, 0.0), (4718, 0.10586778447908199), (4719, 0.0), (4720, 0.0), (4721, 0.026391049582546483), (4722, 0.0), (4723, 0.0), (4724, 0.0), (4725, 0.0), (4726, 0.01961495563012856), (4727, 0.0), (4728, 0.019069898044111307), (4729, 0.0), (4730, 0.021376514700583625), (4731, 0.0), (4732, 0.027763563708176994), (4733, 0.0), (4734, 0.0), (4735, 0.0), (4736, 0.01710638151240988), (4737, 0.014553155470512148), (4738, 0.07515837892257084), (4739, 0.0), (4740, 0.023869363313758264), (4741, 0.0), (4742, 0.0), (4743, 0.0348482155874103), (4744, 0.0), (4745, 0.01723362131046164), (4746, 0.0), (4747, 0.0623881318421287), (4748, 0.005100630833553193), (4749, 0.0), (4750, 0.0), (4751, 0.0), (4752, 0.03423340511592463), (4753, 0.0), (4754, 0.0863691562771425), (4755, 0.007002268549485085), (4756, 0.032621520219709564), (4757, 0.0), (4758, 0.09498712811558746), (4759, 0.0)]\n"
          ]
        }
      ]
    },
    {
      "cell_type": "code",
      "source": [
        "len(Recommendation_Score)"
      ],
      "metadata": {
        "colab": {
          "base_uri": "https://localhost:8080/"
        },
        "id": "rtKF0SAA1khU",
        "outputId": "f933fcc7-e0c1-49ad-f7fa-cd669ee81ce6"
      },
      "execution_count": 104,
      "outputs": [
        {
          "output_type": "execute_result",
          "data": {
            "text/plain": [
              "4760"
            ]
          },
          "metadata": {},
          "execution_count": 104
        }
      ]
    },
    {
      "cell_type": "code",
      "source": [
        "Sorted_Similar_Movies = sorted(Recommendation_Score, key=lambda x:x[1], reverse = True)"
      ],
      "metadata": {
        "id": "0_7YcFGL1mHq"
      },
      "execution_count": 105,
      "outputs": []
    },
    {
      "cell_type": "code",
      "source": [
        "print(Sorted_Similar_Movies)"
      ],
      "metadata": {
        "colab": {
          "base_uri": "https://localhost:8080/"
        },
        "id": "tj5N48Bb12qQ",
        "outputId": "1d030200-36d7-4cb4-db66-fcf72e14d249"
      },
      "execution_count": 106,
      "outputs": [
        {
          "output_type": "stream",
          "name": "stdout",
          "text": [
            "[(2, 1.0), (1714, 0.26320444597156134), (1758, 0.22227134619735622), (3256, 0.19043466477557597), (247, 0.1839234097207056), (2135, 0.17659918813061784), (709, 0.1742194068316649), (2433, 0.17105071798087565), (1473, 0.1701699335044824), (3181, 0.1630843277963322), (3390, 0.1599763905556326), (4182, 0.15104891653713715), (1276, 0.1499249678954277), (2098, 0.1498809308847658), (3467, 0.1480144082143679), (1327, 0.14577452134913163), (3144, 0.1454988375756734), (2897, 0.14378343540226363), (1182, 0.1437696247558918), (1319, 0.1432365040945076), (2322, 0.1394475689311069), (2591, 0.13825576420098137), (3471, 0.13688451996803314), (106, 0.13419807722886093), (293, 0.13398728672063773), (2335, 0.13370597893759084), (1477, 0.13320275621634062), (3632, 0.13010451202586867), (1886, 0.1276637336855593), (2264, 0.12716913713667571), (3852, 0.12558814706017432), (3870, 0.12527872044452712), (1072, 0.12462794252217854), (1524, 0.1243298448522987), (1737, 0.12388300574121527), (3871, 0.12018104226812878), (1700, 0.11931780957293617), (1557, 0.11788953114292851), (752, 0.11591343054736522), (705, 0.11570656143312666), (3829, 0.11556530327715911), (989, 0.11489269033471249), (691, 0.11429204580353733), (3283, 0.11350006516557568), (794, 0.1130691221589009), (2938, 0.11273653934951651), (2654, 0.11215465201357298), (14, 0.11184266910146456), (1810, 0.11128271600104364), (4099, 0.11005253776899046), (4089, 0.109897338691359), (1860, 0.10938338897475476), (3540, 0.1091709248791789), (4394, 0.10836350365388911), (2809, 0.10685279519968519), (4718, 0.10586778447908199), (3415, 0.10527089985961849), (1305, 0.10504494654242683), (2747, 0.10453383275110853), (4015, 0.10393042180177336), (3201, 0.10380024464105739), (2568, 0.10377063101760331), (2717, 0.10361277835224625), (185, 0.1031418170583612), (3943, 0.10273949641361396), (2835, 0.10248096312918231), (2359, 0.10232799836817082), (198, 0.10217887629680839), (1409, 0.1007839567389271), (3225, 0.10048332651237707), (1673, 0.100210716077263), (584, 0.10018789995978276), (4280, 0.09989402026554706), (1964, 0.09899150035805371), (1009, 0.09862951544408616), (4347, 0.09856467755903159), (3607, 0.09849588343634569), (3808, 0.09783999652071351), (3213, 0.09704053696366699), (3659, 0.09691107391269091), (4054, 0.09683745544601492), (146, 0.09643267126773682), (362, 0.0960992216697588), (179, 0.0958855723472894), (4758, 0.09498712811558746), (4237, 0.094973238976015), (1544, 0.09474281871437515), (2813, 0.09459112189745648), (2234, 0.0941953576748504), (3785, 0.09400160066421023), (1176, 0.09383458584518238), (144, 0.09383430105713456), (2393, 0.09331833561886829), (1046, 0.09314444323257774), (2263, 0.09196171279773978), (1584, 0.09116461830036571), (347, 0.09087555954924241), (1903, 0.09084902633085017), (140, 0.09082967309647738), (4401, 0.09077056227231572), (3208, 0.09076885416779026), (1974, 0.09024716871066435), (1038, 0.0900852011552514), (1433, 0.08986796777030481), (4523, 0.08947570851483452), (756, 0.089306919563836), (2041, 0.08924461418177404), (2111, 0.08906660194591812), (3956, 0.08901398297295404), (3865, 0.08874693559753553), (4173, 0.08858260098449258), (3331, 0.08824408934124439), (2759, 0.08812152088853849), (3509, 0.08811819529291952), (4716, 0.08796031607548957), (548, 0.0876272780858676), (230, 0.08687083229813147), (1107, 0.08675286526795276), (4754, 0.0863691562771425), (4665, 0.08618605213461383), (4519, 0.08597517473358103), (286, 0.08544862503543162), (2752, 0.0853767316406335), (4640, 0.0850479099448726), (1959, 0.0844575534025204), (1041, 0.08429158141854895), (2292, 0.08414187676502488), (530, 0.0841338201500591), (2445, 0.08384895862076103), (3986, 0.08348486254755647), (2250, 0.0833638570028869), (3461, 0.0833435054633406), (2854, 0.0828111527910496), (3515, 0.08276005443693801), (3212, 0.08231933747438558), (2370, 0.08223197005562222), (3260, 0.08215781547839247), (3074, 0.08199817310915693), (1195, 0.08160587120760103), (3860, 0.08158330711235001), (3825, 0.08153670377973718), (488, 0.08063360300139388), (1210, 0.08051871961329558), (665, 0.08026238455715588), (1279, 0.08023799530194806), (3559, 0.08023625833563547), (130, 0.0802083065038414), (1523, 0.08007246182291443), (695, 0.08004062446668576), (839, 0.07995203567454161), (1927, 0.07987288169657877), (361, 0.07984145661127683), (2560, 0.07977812344242266), (173, 0.07977269224616665), (946, 0.07905864726685614), (4711, 0.07875173901890904), (2532, 0.07866513061221203), (4003, 0.07832846244369064), (4051, 0.07822672850845644), (3648, 0.07818042073451986), (3027, 0.07812896807259179), (1646, 0.07787112394577375), (53, 0.07742090398153015), (1405, 0.07739089709457625), (988, 0.0773589769408912), (1212, 0.07725672749917727), (2710, 0.07721997362262296), (4270, 0.07682490211458493), (546, 0.0765918219737253), (911, 0.07655897413416367), (3864, 0.0762377904647211), (2824, 0.07613629766944176), (566, 0.07602870547308344), (239, 0.07600702420965419), (724, 0.07565472807495287), (1771, 0.07552156316996753), (4647, 0.07540902812025067), (881, 0.075350821023785), (4570, 0.07528582543095685), (3662, 0.07525451974973545), (4738, 0.07515837892257084), (643, 0.07515495542769503), (651, 0.07479848325592517), (780, 0.07478419405039345), (3548, 0.07405093612056564), (3288, 0.07393106028464266), (2553, 0.0730076414203322), (1647, 0.07275084209973431), (2266, 0.07271050657396655), (2719, 0.07262808780040203), (3199, 0.07257622747528682), (4144, 0.07256863225893365), (1496, 0.07210011334451881), (4152, 0.0717077969401298), (562, 0.07141317262898667), (1450, 0.07126829970554611), (421, 0.0711722223629721), (2218, 0.07109783874364027), (2197, 0.07099795453837382), (356, 0.07091148979383205), (2329, 0.07088046654341375), (2720, 0.07060357673944623), (217, 0.07057512400842512), (2113, 0.07054014740378506), (2340, 0.07052913229929106), (437, 0.07050527529476001), (3109, 0.0702528848783274), (1578, 0.0698632652887143), (2510, 0.06986159131495562), (3412, 0.06972799481446615), (1950, 0.06957382342438731), (2507, 0.06957172499127236), (815, 0.06938397278730249), (1634, 0.06934354411423171), (3346, 0.06929996906666608), (1529, 0.06879367863945009), (1365, 0.06874284042100237), (4191, 0.0686744572905033), (2611, 0.0684774446673014), (178, 0.06831113975339918), (1789, 0.06830082822700673), (1459, 0.06818934736883854), (1833, 0.06818400075789352), (4135, 0.06800226938748274), (3917, 0.06792296944615636), (2570, 0.06775741473617738), (1715, 0.06769787054965087), (1284, 0.06766986192980821), (3650, 0.06730936135800407), (1079, 0.06726508170079071), (2753, 0.06726396543048013), (133, 0.06703116369528019), (1778, 0.06682063930905759), (3257, 0.0667701185881294), (1082, 0.06644917337276006), (2782, 0.06642470640945616), (1254, 0.06625858230313927), (1920, 0.0659651848376731), (392, 0.06585515754460346), (932, 0.06568247999339205), (3092, 0.06568165427709217), (3822, 0.06561742812005208), (3843, 0.06541826927831533), (853, 0.06537328444204984), (1383, 0.06529103120915111), (3531, 0.06520319074026004), (3698, 0.06517485880785177), (3747, 0.0650081840879994), (1180, 0.06498284673186529), (1972, 0.06495681847319629), (3003, 0.064786094392785), (2121, 0.06468319156304894), (1282, 0.06434482902514121), (4174, 0.06418066957178127), (855, 0.0636826053924249), (2517, 0.06340319940722641), (862, 0.06318255127429395), (91, 0.06303223557793623), (1050, 0.06278805094737465), (2856, 0.06275951671866913), (4254, 0.0627270361087855), (3878, 0.0626360694523205), (4498, 0.062497782127606934), (1010, 0.062474781212521466), (4747, 0.0623881318421287), (498, 0.06237482132775728), (2316, 0.06231141329901695), (165, 0.06223239249606702), (1855, 0.06214335422138669), (508, 0.06199545303780403), (1861, 0.06198068984381725), (3817, 0.06193360984646976), (1594, 0.06193189164368474), (1726, 0.06168854806405054), (3668, 0.061681191658178605), (2921, 0.06163393705527232), (3270, 0.061550209934476574), (2704, 0.061515471940044975), (182, 0.06126253035777801), (3606, 0.06099575059692934), (346, 0.06095020253106806), (1178, 0.06080767311023058), (155, 0.06061777892520979), (461, 0.06059107683685194), (4164, 0.06057870259086361), (1505, 0.06057348745734733), (4287, 0.06057065316731995), (1937, 0.06045302655722311), (2789, 0.06044503609634401), (4455, 0.06039247037980959), (3103, 0.06031790078244184), (2360, 0.060261268251131164), (4630, 0.06025373040859179), (2473, 0.05970362372851438), (1676, 0.05969028673960048), (912, 0.05955403010115069), (915, 0.05950500327406401), (2583, 0.059387539140925), (1481, 0.05934468887901634), (4337, 0.05929688047802556), (231, 0.05921953658695033), (3129, 0.05901887954977757), (928, 0.05882290311077408), (3495, 0.058538781677531085), (1944, 0.05846304598136047), (2814, 0.05843417746637933), (1004, 0.05832707896540508), (4410, 0.057996695648531355), (1495, 0.05799301459435978), (24, 0.05787597149330078), (882, 0.05770351559423449), (2372, 0.05766860439813054), (3272, 0.0576516202612231), (4662, 0.05741609206510577), (2450, 0.05715780314748524), (4576, 0.05691698469237748), (2864, 0.05690396586690331), (2406, 0.056857144977845275), (2831, 0.05679985249719671), (4233, 0.05671122492789951), (1251, 0.0565365625287869), (2925, 0.05644502075935083), (1202, 0.056306856029756956), (79, 0.05629499338472477), (3557, 0.056232576093388165), (3685, 0.05622442836998938), (3379, 0.056183976626940475), (1568, 0.05616658235859902), (1824, 0.05615906323035401), (894, 0.05606810250454085), (265, 0.05601111956440532), (3722, 0.05583727433033892), (2353, 0.05580064880841877), (3812, 0.05575004746297207), (1817, 0.055743878001958715), (4134, 0.055668605698499254), (2201, 0.055586078945389), (4283, 0.05548780268157992), (219, 0.05546515730816317), (2660, 0.05545862220557147), (2060, 0.05544441025829333), (3457, 0.055368506485697785), (3891, 0.05526591117008107), (108, 0.055085017393954674), (931, 0.05502967291704752), (2884, 0.05498192568607599), (27, 0.05493450369867333), (3802, 0.0548949023454644), (621, 0.05488694847656472), (1016, 0.054766175037462894), (2957, 0.05476523226848327), (1454, 0.05476466701041865), (270, 0.05473911870018259), (4454, 0.05458828718043454), (4329, 0.05455119834218577), (1336, 0.05453424932841247), (3746, 0.05445457034698088), (1412, 0.054444203140507116), (1226, 0.054372271599947036), (3772, 0.05417661767428158), (1799, 0.0541471552408161), (3286, 0.054104757712268775), (1600, 0.05404687988373681), (953, 0.0540394862347523), (1067, 0.05402668552020308), (2852, 0.0540144977197355), (1468, 0.053995226635359134), (2666, 0.05389875398355097), (717, 0.05380206145254553), (2365, 0.053789668955679694), (2073, 0.053625478369296195), (1743, 0.05360590890542196), (363, 0.05360522565615558), (1080, 0.05354584357420922), (2332, 0.05347725028704028), (3882, 0.053414652187897566), (1166, 0.05335587566874879), (3562, 0.053303186997977134), (4125, 0.05326739930692405), (3631, 0.05324810890967266), (2733, 0.05315653838955327), (3116, 0.05315030684868538), (4210, 0.052731569537321596), (3320, 0.052694318207713225), (706, 0.05264643101836332), (3229, 0.05263682555323911), (1333, 0.05263143242315313), (1720, 0.052518427445942345), (1926, 0.052488998877987), (2766, 0.05241540774259821), (2114, 0.052253613691982545), (188, 0.05224909784155697), (4688, 0.05220008286464485), (1764, 0.052162813519112484), (3297, 0.051993796175509845), (2851, 0.05199058387860429), (4277, 0.051902338271810636), (2646, 0.051847248707132865), (3104, 0.0518360515114851), (1555, 0.051758403598047016), (2196, 0.05174675764761607), (58, 0.051728928713982325), (699, 0.051727135758033144), (3616, 0.05165974699564306), (1935, 0.05163198703635028), (1520, 0.05161404597659169), (730, 0.05154236569642441), (1606, 0.05147303283373651), (2100, 0.051362567292755054), (1021, 0.05127432564817615), (3683, 0.05121563393119416), (3111, 0.05119045869222068), (3913, 0.051170540188882306), (57, 0.051071227920616996), (1933, 0.05104677529385012), (2588, 0.05095574003034769), (410, 0.050933579778211585), (1602, 0.050864808827461624), (4090, 0.05071882960832179), (1561, 0.050718207531169526), (1682, 0.05061487432192474), (891, 0.05050002580237391), (2408, 0.05049435138547059), (212, 0.05044848699945399), (2116, 0.05040208658254196), (2965, 0.05040168677680611), (1389, 0.050358783114983846), (3769, 0.050232075608841506), (850, 0.05018560774862268), (4171, 0.05018178294817923), (3921, 0.050126743919543304), (4433, 0.05011874202915445), (269, 0.05010887450421039), (1812, 0.050057661548755315), (1291, 0.05002266581763768), (1478, 0.0499017825256124), (1979, 0.049819486397367274), (2580, 0.049659683062597215), (567, 0.04959227447577869), (887, 0.04957737285231032), (1315, 0.049563100611243), (1101, 0.04947254358513254), (806, 0.04943052698002248), (3948, 0.04940396689613936), (4604, 0.04931085784163972), (1223, 0.04927858737132002), (1564, 0.049272226733772184), (3238, 0.04926293904526085), (731, 0.0491713948191497), (2521, 0.04908574641658102), (1820, 0.049007836584698865), (2440, 0.0489900693794584), (2037, 0.048946992167869255), (1629, 0.04883102824689961), (994, 0.0487644161854107), (2157, 0.04872951297320398), (4303, 0.04869013743432495), (4242, 0.048665614341015115), (524, 0.048660215176851124), (1844, 0.0486009825794663), (4374, 0.048556418731902265), (2398, 0.04833400639753066), (3047, 0.048284081232104314), (1760, 0.04827154670074493), (2908, 0.04824007588251093), (2541, 0.04819049410562828), (86, 0.04808237990134239), (1762, 0.048076216717155965), (703, 0.04807012597487249), (560, 0.0480561766077422), (137, 0.04805597235384691), (3657, 0.04803320301734552), (391, 0.047913320883968526), (4430, 0.04789403933731516), (2661, 0.047870809746360515), (324, 0.04784661304685571), (4526, 0.04780844698149135), (446, 0.04776499861039314), (4380, 0.047680218503104534), (2729, 0.04738336297340149), (1843, 0.047380125513812196), (3407, 0.04735086073875029), (662, 0.04732544306150949), (4095, 0.04730823618658573), (1207, 0.04726707023389415), (1914, 0.047237578203543), (3468, 0.047218441986517375), (4037, 0.04707935408271957), (708, 0.0470649995178044), (4199, 0.046977612676809624), (4372, 0.04694527943603635), (1025, 0.046727714432921647), (3890, 0.04651029965217763), (2104, 0.046505594383303143), (3211, 0.046462789956676444), (3660, 0.046384894300941296), (3312, 0.0463330663514959), (1484, 0.04632047543540311), (2206, 0.04625211628765137), (256, 0.04617340086694323), (1045, 0.04614085448315382), (3665, 0.046089486122124344), (1487, 0.04600066999878783), (4496, 0.045969668393953694), (2368, 0.04594073196223971), (2457, 0.04584840376435763), (0, 0.045830934084954554), (3473, 0.045687049986831485), (3459, 0.04562095090077166), (1246, 0.04548376064537664), (22, 0.04538226208254131), (893, 0.045372052528671755), (3451, 0.04532704963486234), (96, 0.045318433172229125), (846, 0.04522027179489757), (1550, 0.04517920734703), (1114, 0.045067739229110074), (4351, 0.04498781909496922), (620, 0.0449608139833643), (3858, 0.04490871805894191), (277, 0.04489045577275131), (1552, 0.04475360926258884), (1711, 0.04468557559723904), (3403, 0.0446411511372185), (4314, 0.04462507596065112), (1755, 0.044604143536151414), (1259, 0.04451072649639895), (170, 0.04442787979669674), (2327, 0.044343971484722425), (549, 0.04434330412656026), (2634, 0.04426914509536463), (3057, 0.04417801005329566), (640, 0.04403780149951154), (202, 0.04393970389474865), (2185, 0.04386089460085684), (690, 0.04385503919708631), (3294, 0.04384928597559082), (4147, 0.04376574582846901), (2086, 0.04372693307871646), (2615, 0.04355546099150541), (2227, 0.04349800597547161), (3133, 0.04344544874479678), (786, 0.043393836128089766), (2161, 0.04332407292018273), (622, 0.04327148326566756), (2284, 0.043244678269819606), (3366, 0.043222923784729556), (2584, 0.043177606669611346), (957, 0.04316912240671999), (2962, 0.04316761887783362), (149, 0.04304959404440867), (819, 0.04304528993777045), (561, 0.04298732243911435), (2653, 0.04295300294492915), (1694, 0.04293169525868552), (578, 0.042867293680002506), (854, 0.04284812924225595), (1090, 0.04283169216251785), (1562, 0.04276696900384503), (1787, 0.04274685302047907), (1401, 0.04274331023431574), (4371, 0.04270611235985928), (821, 0.04266004810698101), (2749, 0.04262208567355725), (646, 0.04256520948210087), (1814, 0.04255323393768698), (4338, 0.042489461429241565), (1011, 0.042484141558586284), (3306, 0.04246733511068864), (2927, 0.042304936290861885), (4420, 0.04230420089889475), (2964, 0.04228792789801254), (597, 0.04225411300166993), (3512, 0.042215457185127994), (4109, 0.042154723202036566), (2190, 0.042111571262933384), (121, 0.04207794424648203), (2916, 0.04202715311316073), (995, 0.042001760296608376), (787, 0.04197255262650976), (2579, 0.04196485503378938), (3328, 0.041852994901740895), (344, 0.04184155406382287), (1538, 0.04172599179861063), (1132, 0.041709866768400265), (3671, 0.041630298507624654), (1474, 0.041605741014049444), (2485, 0.041582660592378154), (1255, 0.04157616272965229), (3221, 0.041458836113989594), (1152, 0.0414406624427389), (3752, 0.04143707883116421), (1216, 0.04132929990447158), (4341, 0.04132738057124257), (70, 0.041315252601716555), (501, 0.0412476897494953), (2554, 0.041169580079818205), (1295, 0.04115934644264294), (469, 0.04098802088237554), (2781, 0.04098194023066867), (4675, 0.040969222855855025), (4405, 0.040914025990670434), (1784, 0.04080896118459501), (4268, 0.040802069876554416), (1569, 0.040727053384377356), (2414, 0.04066900508572474), (3503, 0.04066250367272222), (2514, 0.04064519195027424), (3505, 0.04059108991789397), (1103, 0.040504481732404146), (2091, 0.040488066835767375), (2109, 0.040417777301593606), (2642, 0.0402962902867907), (1296, 0.04026098579599571), (3442, 0.04021242457061651), (455, 0.040199579382091136), (4492, 0.04018061342645484), (3344, 0.04010787182771747), (1640, 0.040090051090866254), (3173, 0.039864298295300124), (355, 0.03984463172680507), (4658, 0.039839758027356134), (2367, 0.03970311318110606), (177, 0.03964652523516114), (3658, 0.039644057631855814), (2352, 0.039642083669404436), (352, 0.0395480322530296), (3805, 0.03952223920866792), (435, 0.039515329489420964), (657, 0.03948099156578239), (1993, 0.03941278872150318), (769, 0.039392502119629094), (3098, 0.039368106592208026), (3589, 0.03924194830762728), (4427, 0.03919160358873382), (3737, 0.03918911545716536), (2484, 0.03918542886180354), (2715, 0.03916466895461679), (742, 0.03914514337500413), (3517, 0.039070805736637126), (1910, 0.03903156739061393), (2267, 0.03901278443518178), (2000, 0.03898516026516452), (3612, 0.038915824283975095), (2040, 0.03890154163026017), (2183, 0.038845549277363965), (3218, 0.038828612919057946), (1307, 0.03874534938896445), (1643, 0.03871593158764746), (3633, 0.03870005395763666), (3421, 0.03861507910041923), (3906, 0.03853957945410191), (4559, 0.038475664559900404), (4046, 0.038452241825922315), (1492, 0.038448407706083154), (4074, 0.03843603005105547), (1948, 0.03836418477034595), (2245, 0.03831072048283066), (4342, 0.03825507936411703), (4034, 0.03817763622659322), (4548, 0.03813027585375635), (2039, 0.03811335947258877), (3926, 0.03810899493809209), (2563, 0.03803241726473749), (2589, 0.0379839066392305), (2430, 0.03795039398405329), (4186, 0.0379488369654379), (1076, 0.037895628716886266), (4426, 0.03788992943020013), (2668, 0.03787640135716025), (1958, 0.037861876227296795), (365, 0.037851971174764264), (4674, 0.03774057078728806), (1996, 0.03773810392765385), (1130, 0.03767931375929526), (569, 0.03767059922501692), (2840, 0.037649001191486724), (2734, 0.03764371632094331), (1321, 0.03749708907639736), (1301, 0.037484409716281315), (4598, 0.03746530563953534), (1503, 0.037429896160940376), (2844, 0.03738831799380054), (2118, 0.03735899677590489), (4421, 0.0373563219940654), (1931, 0.03734823537973026), (1137, 0.03733719452332394), (3735, 0.03725711169203413), (4297, 0.037233468210221984), (2683, 0.037213060638255094), (2237, 0.037202528355709974), (1712, 0.03717969274715677), (3209, 0.03707575432128854), (2951, 0.037049595060668225), (4010, 0.03702902930476414), (167, 0.0370264112238777), (4250, 0.036943603604831995), (1925, 0.03684351322049616), (335, 0.036785996437418755), (1842, 0.036761614531404765), (2102, 0.03660593339850973), (1472, 0.03657688009579947), (1451, 0.036566607442168914), (1911, 0.036543549025494226), (4358, 0.036463270785812435), (2462, 0.036409486672555606), (1999, 0.03631430420644427), (1430, 0.036254603124938736), (1008, 0.03623682891151808), (2155, 0.03616665170354492), (2821, 0.036116477727489125), (3444, 0.03608669374138396), (3876, 0.03607521100999035), (3578, 0.03602005788753947), (1134, 0.03601095192243407), (3430, 0.035991475790696496), (2636, 0.03597085238935818), (2708, 0.035907496038682776), (4086, 0.03589517390426482), (4569, 0.03586569805638598), (1841, 0.035815111286337666), (3367, 0.035796436200753644), (1211, 0.03577851460413201), (4009, 0.03570331849192226), (3101, 0.035647715930528706), (4411, 0.035620741852782516), (629, 0.03560400474011344), (1816, 0.03558809605906602), (4346, 0.03556264449317055), (2612, 0.03549075974444834), (4197, 0.03542811046524056), (4364, 0.03541921599801234), (2494, 0.035255119790026844), (3096, 0.03525197564583961), (1109, 0.035247370842892596), (2390, 0.035232095200656295), (1961, 0.03520803424091905), (3816, 0.03520179662764216), (3397, 0.03516814318578744), (1081, 0.03516018857839163), (4196, 0.035145765731344106), (404, 0.03514280422420322), (2637, 0.03505576495559111), (4325, 0.03504087656463589), (3313, 0.03500161638459919), (785, 0.034982856758191835), (3325, 0.034933949693289286), (3024, 0.034921388069409816), (4743, 0.0348482155874103), (328, 0.03483909953042444), (1042, 0.03481105474795627), (3674, 0.03477498190905285), (3993, 0.034762477985883326), (3909, 0.03473630237990652), (3293, 0.034680367396539395), (2885, 0.034659122805554936), (4378, 0.034637861129058534), (2442, 0.03462347614735873), (3846, 0.034584506450799773), (4207, 0.03454219370385607), (2014, 0.03447880357604677), (1366, 0.034451749318925945), (4263, 0.034426155959349454), (3594, 0.03440850807649174), (2167, 0.03436927287186433), (3593, 0.03435927796994325), (3782, 0.03434751429889801), (4524, 0.034343599557128006), (3803, 0.03432528716633093), (2443, 0.03430981747907964), (1456, 0.034308329149463024), (1253, 0.03427683651514482), (1652, 0.03427412039005189), (192, 0.034252188200792566), (4752, 0.03423340511592463), (1214, 0.034223819538184465), (2663, 0.034216246237582515), (3386, 0.03418612165651253), (1460, 0.03416090657326721), (2760, 0.034158015572354886), (2585, 0.034137050592926675), (4304, 0.03412868043069899), (3628, 0.034128363734129655), (3969, 0.0341180855893983), (4047, 0.03404438991204202), (4396, 0.034012389635565375), (3476, 0.03393834627953678), (1828, 0.03393377363925283), (4203, 0.033922699688353986), (615, 0.033920893217926365), (309, 0.03388936227592618), (3338, 0.033877513239045934), (3481, 0.03386050618772843), (906, 0.03381423749707677), (43, 0.03376772270363138), (2055, 0.033749957885632606), (2171, 0.033716038168564985), (2788, 0.03371411565269231), (2480, 0.03370597014129187), (517, 0.03369181055887794), (1992, 0.033664967513013414), (2451, 0.033651395962256705), (1215, 0.03364844484150837), (4290, 0.0335796250758266), (3022, 0.033488169502867385), (4395, 0.0334840222394277), (2652, 0.03346658572465699), (504, 0.0333161397289828), (1845, 0.03331358737649456), (1706, 0.03320709351745557), (132, 0.033193255419270165), (1242, 0.03316741373939855), (1237, 0.03315404196798364), (3582, 0.03315092037217797), (4112, 0.033117619045338366), (114, 0.03310994086573568), (1402, 0.033103823532239014), (1116, 0.033092607051715295), (1373, 0.033058670656760436), (1278, 0.03303365659908917), (279, 0.03301384583660336), (4518, 0.0329965296384724), (810, 0.03298375356695551), (1655, 0.03298292495056887), (909, 0.03297999241974262), (4218, 0.03294836268735849), (3235, 0.03292271229021973), (2235, 0.03284593028468057), (2516, 0.03283930232912286), (1461, 0.03281201885931663), (1155, 0.03276080344805507), (7, 0.03273227179437856), (3705, 0.032723215362268326), (609, 0.032720831814842366), (2504, 0.03271945514588698), (1250, 0.03270432895208249), (2755, 0.03264097842139487), (4756, 0.032621520219709564), (4307, 0.03261922133452949), (804, 0.03257835062506965), (2741, 0.03252680207587645), (2207, 0.0324947696366873), (3482, 0.03248184392707068), (1198, 0.03243679365836298), (3214, 0.03241934246482653), (187, 0.03241187093245947), (3138, 0.0323865556464813), (2030, 0.03236916206476992), (73, 0.03235190153898944), (935, 0.032338122736777566), (4623, 0.03233693889433309), (1804, 0.032311067970466185), (4407, 0.03230455864448715), (829, 0.03228855456480841), (856, 0.03223385798573422), (2924, 0.03221653907476829), (527, 0.03220512888836028), (1604, 0.032192766388572026), (4070, 0.03219132307839631), (2211, 0.032170881835436566), (4582, 0.03215729534147673), (1769, 0.03213009435912234), (3539, 0.03212821124770177), (4457, 0.03210225676739514), (3365, 0.03204935329103723), (2509, 0.03203846724731036), (3924, 0.03201689762195831), (2019, 0.0320112281640995), (2246, 0.03200039689833692), (2391, 0.03199042822313688), (1954, 0.031965644761631766), (3991, 0.0319618573046253), (2153, 0.03191777869748276), (798, 0.03190213054383427), (3389, 0.03189410177337515), (3287, 0.03189025887603591), (852, 0.0318875945161015), (75, 0.03188274028722362), (1094, 0.03187299531716529), (805, 0.03183918483738652), (2022, 0.03181811229718331), (899, 0.03181505612639129), (434, 0.03180477312211511), (3847, 0.031768161050260264), (3252, 0.03173883544370174), (2095, 0.03173760330161936), (1704, 0.03173115235284391), (538, 0.03171326335927821), (3964, 0.03170175070686486), (298, 0.03168750238064348), (3826, 0.031671227244590414), (245, 0.03165992488079208), (768, 0.031628042107658), (2421, 0.0316223279597245), (3651, 0.03161420385980643), (1390, 0.03159507922511493), (900, 0.031566813384929476), (1367, 0.031564853555897665), (4189, 0.03155763980716846), (4146, 0.03154837517856821), (3456, 0.03153726621459272), (423, 0.03153045282741799), (4562, 0.03150681922120646), (3360, 0.031506592780051565), (1849, 0.03150607354394858), (3790, 0.031499535297888195), (2746, 0.03146608078764631), (1165, 0.0314391801985763), (327, 0.03139629704023962), (1001, 0.03138286576180262), (831, 0.03133215717165978), (2732, 0.03130257080005562), (3243, 0.031267485721361475), (1559, 0.03125503186396311), (3315, 0.031232196213373982), (3226, 0.03121100767338021), (3269, 0.031200068392455312), (2195, 0.03119263201159767), (1537, 0.031176477425552056), (4472, 0.031128180519353753), (1314, 0.031075849618354086), (2150, 0.031040270323284932), (2952, 0.031005942820608735), (3342, 0.030968757631605295), (4220, 0.030954128817744227), (1617, 0.03093725232482397), (3231, 0.0309077864519553), (4555, 0.03087565717032463), (4195, 0.030760458905629746), (2857, 0.030697035399586917), (2297, 0.030695567177033874), (1085, 0.030693129718472566), (3984, 0.030654633251387606), (2236, 0.03064077905584737), (2099, 0.030587566619482705), (3835, 0.03057943447399023), (3155, 0.030547647093537154), (648, 0.030490689773472947), (1610, 0.03045494694920935), (2656, 0.030446001703580083), (1162, 0.030438571880866083), (4388, 0.0304328284177767), (451, 0.030429406823820136), (3553, 0.030309844872932395), (555, 0.030293844286562982), (208, 0.03028134722931751), (3393, 0.03019829499177291), (2479, 0.03019558088286355), (89, 0.030193428768938727), (3110, 0.030161603471707474), (1443, 0.030154894934637598), (740, 0.030136551857010217), (1586, 0.030096773951387462), (3899, 0.030083817787936208), (2723, 0.03006578841286723), (2043, 0.03003149534919183), (4551, 0.03001539544853941), (1677, 0.029985527532413923), (4118, 0.029886580771362005), (3244, 0.029836581153264874), (3387, 0.029818210722919496), (568, 0.029797791210356687), (1521, 0.029775614407806066), (1876, 0.02977261687453815), (4057, 0.029716763951461132), (3343, 0.029711326789443087), (961, 0.029701316157044404), (936, 0.029695371173989994), (973, 0.02967629655332822), (1664, 0.02967580223899599), (334, 0.029665881587210032), (1607, 0.029658813057346398), (2210, 0.029613226941761113), (495, 0.02958075346763737), (991, 0.02957699172343328), (847, 0.02957331424801594), (1088, 0.029508711319082042), (1864, 0.029507187109538095), (4460, 0.029502155244027065), (2603, 0.029476288037103702), (3866, 0.029458579723866077), (4252, 0.02942564056100127), (1368, 0.02942059217187376), (1679, 0.029350913392618708), (1539, 0.029327490669303867), (1129, 0.029317351219801054), (985, 0.029315515630293876), (1902, 0.0293064616003838), (3994, 0.029291072927884045), (351, 0.02927673647944462), (1105, 0.029270769819656407), (312, 0.02925627804736643), (2222, 0.0292203583201701), (2762, 0.029218551444990352), (2899, 0.029174024115662767), (3541, 0.029165290683128023), (3673, 0.029142656222310846), (4064, 0.029099418820268275), (2712, 0.029074944445306547), (1354, 0.029054134173246378), (1353, 0.029010415154941394), (443, 0.028950199804298492), (3065, 0.028886558608084596), (1837, 0.02888550474668879), (1800, 0.02888293754499519), (2050, 0.02883922019512369), (465, 0.028821550278612225), (1776, 0.02879485073637748), (1951, 0.028789803225879578), (1467, 0.028775876036951448), (1511, 0.028740027485583436), (3696, 0.028711436510020873), (2996, 0.028694314857598602), (2379, 0.028658693044401728), (1084, 0.028652498285098166), (1482, 0.0285946823752632), (345, 0.02856747156083389), (2117, 0.02854232400489136), (1883, 0.028532079123465365), (3730, 0.028488845433278003), (3350, 0.028483811416928535), (4240, 0.02847620218768539), (663, 0.02841128573942963), (3893, 0.0284031603470523), (3627, 0.02839673010783988), (920, 0.02837793958469876), (1014, 0.028348856899350263), (4066, 0.02827329577650717), (1118, 0.028238301307556182), (1403, 0.028237847994030008), (519, 0.028220616786307252), (2980, 0.028210715003757235), (2929, 0.028182534008585294), (2793, 0.028175503606193204), (2696, 0.02811802171090468), (3611, 0.02811334341694459), (3518, 0.028106320714263618), (2562, 0.028089797365761546), (1071, 0.028085017488244716), (1645, 0.028072433694624074), (100, 0.027985600796618323), (1171, 0.027974454093684775), (2525, 0.027953555402660313), (1575, 0.02793453165718379), (2423, 0.027919245401033358), (4258, 0.02785043818658672), (3043, 0.02783196285043311), (836, 0.027818987690302846), (3916, 0.027807261819484237), (2647, 0.027803740161208294), (1344, 0.027788002298575067), (2262, 0.027782244750842535), (4732, 0.027763563708176994), (10, 0.027728053042969467), (3666, 0.02768872006746908), (409, 0.027666983690434604), (3681, 0.02764774881972798), (477, 0.027599823765594146), (1582, 0.02758151567676077), (1818, 0.027566805033204553), (4279, 0.02755802870015554), (3251, 0.027554035326213006), (1666, 0.02755344346587777), (1526, 0.027544578533193444), (1026, 0.02753590905611157), (1846, 0.027532790643490977), (532, 0.027526309583223784), (1060, 0.02752626085818717), (3234, 0.027517758274547676), (378, 0.02748338079997717), (1494, 0.027480217575195733), (3695, 0.02746647587072642), (3216, 0.027444142487976823), (69, 0.02742169662790129), (2643, 0.027351774466567925), (664, 0.027339931536249706), (160, 0.027324416512221717), (3796, 0.027290110519890484), (3237, 0.027289572199706874), (1489, 0.02727154958701703), (4440, 0.027255485396413537), (610, 0.027217444360781728), (3849, 0.02721229810169984), (817, 0.02719963319381851), (3537, 0.0271930825308811), (1808, 0.027187097304403197), (1407, 0.027154666857897754), (4613, 0.027151292005897217), (1663, 0.027138601020487187), (3121, 0.027130168251249757), (3894, 0.027114224152683542), (2770, 0.027078773645307343), (1480, 0.027040533257129188), (737, 0.02703636235541715), (1725, 0.026986123492755167), (880, 0.02693314050539067), (4132, 0.026915841439971888), (1692, 0.02691408821790228), (683, 0.026912267787453), (958, 0.026878953388020096), (3425, 0.02687587118185912), (3279, 0.02686895674964273), (373, 0.026836584575659427), (1235, 0.02682662628641245), (2982, 0.026814671011304976), (980, 0.026812108372824713), (895, 0.026810354719653984), (6, 0.026803498384208608), (164, 0.026781923292597144), (1695, 0.02676235931141063), (3792, 0.026753926506742985), (3395, 0.026713388995076262), (3485, 0.026643388446512484), (3995, 0.026642865113114724), (2618, 0.026614709443935916), (4022, 0.026606348702508675), (1104, 0.02658584668831085), (2688, 0.026551532936351114), (4194, 0.026550848227086192), (232, 0.026516321498420124), (2548, 0.026472518757521313), (671, 0.02644574097364666), (1465, 0.026443107954705083), (712, 0.02643743815721164), (1339, 0.026426554682110415), (4721, 0.026391049582546483), (4500, 0.02633571684112599), (2632, 0.026297076096668707), (3797, 0.02627797454263345), (2592, 0.026262190326584844), (2836, 0.026259968834636917), (317, 0.026251981914007842), (3408, 0.026227865333932267), (1701, 0.02622382914685825), (2665, 0.02620772375956709), (4140, 0.026194458353480457), (1049, 0.026183875633971523), (4309, 0.02615474532545146), (4021, 0.02614637710996569), (905, 0.0261335023608788), (2633, 0.026079651841129262), (341, 0.026069169195948948), (109, 0.026060307400504083), (807, 0.026020410781946356), (30, 0.026016416899615067), (3156, 0.025991175295935417), (2867, 0.025988264893752958), (2577, 0.02598316500536735), (3990, 0.025933284910644956), (3289, 0.025914833534587175), (1006, 0.025903333267165946), (110, 0.02583205882897767), (1957, 0.025821044414782033), (3699, 0.025800990513760065), (1616, 0.02578308226491574), (4663, 0.025757040734507727), (3604, 0.025714634761041237), (1614, 0.025682945147120724), (827, 0.02566788830621583), (4511, 0.02566665564674894), (415, 0.02558991637126631), (44, 0.025552888350109375), (1077, 0.025539684693309465), (4106, 0.0255014418054839), (1364, 0.0254682510107335), (656, 0.02544189186090109), (1690, 0.025374800906785337), (2085, 0.02529167290181408), (457, 0.025240678815755785), (4402, 0.025237463284825228), (4676, 0.02523494044232374), (2730, 0.025233759431339927), (496, 0.02519948835907547), (1768, 0.02517311982359101), (64, 0.025109523067169112), (3477, 0.025109105593105707), (4376, 0.025099132493654447), (763, 0.025087816566876454), (600, 0.025061590938412953), (2016, 0.025020629674163082), (3045, 0.025018367842008928), (3273, 0.025001385995801335), (1601, 0.024980048927139065), (201, 0.02492912102049629), (3889, 0.024925743629990487), (2578, 0.024901939405218343), (2034, 0.024900834991199005), (384, 0.024885208197553972), (879, 0.024876981565784086), (1873, 0.024862459936096384), (728, 0.0248604392051481), (874, 0.024844018919193838), (1774, 0.02483500415123365), (923, 0.02483319819655884), (3508, 0.024826644191824718), (3078, 0.024815928771076173), (1423, 0.024815858829178146), (820, 0.024790044357038743), (3330, 0.024769065580317006), (692, 0.024768818726317268), (1351, 0.024762233343019406), (3684, 0.024729127827611348), (2539, 0.024659664771133506), (3711, 0.024639080644599375), (2062, 0.024636867188709097), (971, 0.024630634958906605), (4487, 0.024580017069996383), (4515, 0.02457085170018775), (3970, 0.024482705656253934), (678, 0.024468035588946436), (486, 0.024430094632914165), (861, 0.024425625683329243), (2140, 0.0243640973830746), (203, 0.024345566871037103), (441, 0.02430712395316515), (1428, 0.024295413509480442), (2257, 0.024287586626251842), (297, 0.024286094242319367), (479, 0.02425772342129892), (3892, 0.024249502115200584), (2626, 0.024245402882414974), (938, 0.02423760621648772), (3361, 0.024212954939862787), (1122, 0.024169311372358167), (1447, 0.02416503933230212), (453, 0.024153584515049693), (689, 0.024146803812259556), (2465, 0.024142854471303325), (2998, 0.024113642150504655), (2331, 0.024100622861811142), (2387, 0.024095627727716323), (2129, 0.02408578125391394), (2413, 0.02408531414501733), (2677, 0.024065399509035287), (3710, 0.024051960553590938), (1522, 0.02404283873248998), (29, 0.0240358153017253), (94, 0.02403407918095551), (3914, 0.024027738945039814), (3392, 0.02402671441382387), (3010, 0.024010538711220067), (1871, 0.024005627641573147), (4138, 0.023987769200121387), (1877, 0.02395154929713507), (169, 0.023945463007545836), (4110, 0.023944045282313642), (472, 0.023938551247579883), (1376, 0.023872338937561306), (2878, 0.023870535476865715), (4740, 0.023869363313758264), (1998, 0.023824758482021532), (3413, 0.0238190900521582), (2274, 0.02375810733328907), (1493, 0.023751420411191132), (962, 0.02374232404455494), (3886, 0.023717502355491794), (3106, 0.023707439571845984), (2725, 0.023687486600539546), (624, 0.02368125238297888), (3303, 0.023674579350032234), (3678, 0.02366830362540887), (1542, 0.023626426234495217), (2459, 0.02360650031411822), (33, 0.023595740567800744), (1850, 0.02356851098610937), (890, 0.023538463227071076), (2954, 0.02353660345087011), (1577, 0.02353293430665328), (3028, 0.02349921789830573), (489, 0.023494633150440015), (892, 0.023439692962718046), (1878, 0.02341662357595109), (3370, 0.023370376947863813), (4214, 0.023363592057525993), (216, 0.023360110936132796), (4414, 0.02334575599214316), (191, 0.023334315160807105), (338, 0.023330384949370637), (802, 0.023315795240690027), (3950, 0.023302392308295145), (696, 0.023282108419559303), (4190, 0.023259120205949644), (358, 0.02324967231822365), (4606, 0.02322813966323416), (750, 0.023201904296719977), (3615, 0.023200378745574377), (2177, 0.023190847166950895), (3610, 0.023179661164919013), (559, 0.023175643088884892), (3484, 0.023158864619453184), (2976, 0.023151455580136898), (585, 0.02314877016452193), (3205, 0.023139576206636266), (292, 0.02311934674808242), (3424, 0.02310110868818556), (3656, 0.023088886212944013), (2007, 0.023072251678966222), (1501, 0.02305900466160037), (1592, 0.023042815800237967), (3630, 0.023022731828257332), (153, 0.02301529309213808), (2200, 0.0229728656785509), (4409, 0.02296492999010336), (3905, 0.02295168153855764), (1029, 0.022949535962965267), (4111, 0.022923517436102873), (3644, 0.022890946465864162), (3427, 0.02284774070256731), (2981, 0.022839533706287236), (3152, 0.022831188916714554), (3768, 0.02281824166595311), (1330, 0.022810930633958042), (266, 0.022802633535994682), (2595, 0.022795008331770318), (2582, 0.022783116538129783), (3501, 0.022778657435146173), (3420, 0.02277201829686494), (4295, 0.022741845744649703), (3206, 0.02272418122265151), (4031, 0.022721987463042638), (1018, 0.0227179869324685), (1161, 0.022696529240346888), (1458, 0.022694351720755096), (1222, 0.022649124650605784), (3716, 0.022629991544893403), (3718, 0.022625231429946366), (1788, 0.02260149413613143), (1464, 0.0226006174113935), (541, 0.02258539426404501), (745, 0.022539364259629012), (4504, 0.022509305025976464), (122, 0.022497268826240403), (3094, 0.022475335031255792), (4023, 0.022465844690950677), (797, 0.02245907667917416), (1341, 0.022405985385602786), (1680, 0.022399557529289023), (1626, 0.022378087905818748), (2873, 0.022376541184804716), (4607, 0.022364571446317934), (342, 0.022346956175137128), (225, 0.022344976733815664), (670, 0.022324177670012796), (3472, 0.022315180304799072), (1372, 0.02230879286715287), (1721, 0.02229207038511057), (4177, 0.02229130649474085), (2221, 0.022271994819409294), (59, 0.022225982152275513), (510, 0.022225108190474123), (4032, 0.02222464695786226), (102, 0.022206816115083412), (2351, 0.02220637787027627), (557, 0.02220620770498024), (1306, 0.02219969188981047), (1127, 0.022169051559627517), (271, 0.022162912274597435), (2405, 0.022162536152911923), (2763, 0.022127104280190955), (3960, 0.022124001308232662), (1453, 0.022122126469008886), (2051, 0.022113924556287332), (200, 0.022091747332671986), (407, 0.022088951110113), (1442, 0.022079051850189074), (1288, 0.02203895385738627), (2901, 0.02203526654106997), (403, 0.022029819236620847), (3298, 0.02202260382277099), (2070, 0.02201871171904239), (3083, 0.02201786939266668), (448, 0.022007331248492426), (4113, 0.021955903197993957), (4098, 0.021945481530607075), (2317, 0.021921658962613166), (1969, 0.021887144409230914), (2138, 0.021850639010894072), (924, 0.02183872761642172), (52, 0.021800611988216586), (2268, 0.02178612676399125), (186, 0.02177526084032001), (1488, 0.02173039909778869), (1397, 0.021713493169992246), (762, 0.021705677088508842), (641, 0.02170308266730545), (981, 0.02168114747479309), (3738, 0.021636407959687114), (2026, 0.021634314175516395), (254, 0.021630961522693094), (3141, 0.02163083145898311), (2036, 0.02163053765172862), (4531, 0.021617276283316646), (2533, 0.021613676942940672), (4292, 0.021587520970017753), (1022, 0.021575793781561874), (4076, 0.021574540214616068), (618, 0.021559024599131095), (1298, 0.021527034460342095), (998, 0.021505579059094802), (3180, 0.02150396008173191), (1421, 0.021483129759919513), (2092, 0.02145066827508376), (4079, 0.021416703536082094), (2594, 0.021412985471188604), (1068, 0.021405578758733033), (3149, 0.021393977142843176), (3458, 0.021390592519349744), (4730, 0.021376514700583625), (2496, 0.021373121094670343), (3753, 0.021362953864696072), (2882, 0.021362657101097082), (2143, 0.021335855093729986), (1718, 0.02133034420003236), (1431, 0.021323607199371923), (2915, 0.021320851608022804), (2625, 0.02128741293879429), (80, 0.021251431839237955), (4063, 0.021229910985961872), (2119, 0.0212069298491192), (2807, 0.021197382258196718), (2027, 0.0211810451558961), (3759, 0.021168192631236937), (1791, 0.021151073822397105), (3034, 0.021149874272619343), (1859, 0.02112972224718969), (3613, 0.02111286826852971), (3903, 0.021107421443188525), (4324, 0.021076187319194493), (1899, 0.021034402911460102), (2009, 0.02102339248545373), (3781, 0.021012968643728477), (966, 0.021000805416738277), (176, 0.02098345711328405), (2531, 0.020964079553577132), (792, 0.020963101920076367), (674, 0.020953053069093414), (1597, 0.020948689024479262), (4334, 0.02094080590473852), (3574, 0.02090019842149332), (251, 0.020892488895593163), (3091, 0.02087082232043004), (2672, 0.020849775495003383), (390, 0.020839186118435892), (304, 0.020832874517180043), (2586, 0.020821236951313278), (4323, 0.020820964951939327), (3546, 0.020809923689674728), (2616, 0.020794916256771656), (1411, 0.020790218968269124), (3247, 0.02078947368479596), (4616, 0.020763512520552297), (3081, 0.020735268119702423), (2817, 0.02070197816260148), (336, 0.02066392399092184), (811, 0.02065645388166534), (978, 0.020648125256907443), (2526, 0.020640714035937514), (945, 0.020621903125498726), (2074, 0.0206207352458496), (1572, 0.020606923071120498), (537, 0.020602912598544628), (454, 0.02060176945647149), (2156, 0.020577581066045098), (2378, 0.02054070800199064), (125, 0.020515198176199168), (901, 0.020508996265078613), (1734, 0.020503253514347956), (744, 0.02049566896471998), (577, 0.020486612829656324), (2301, 0.020478852900351265), (3142, 0.02046230563551653), (2053, 0.020406951860323895), (82, 0.020399646365977367), (1852, 0.0203960724516641), (1973, 0.020375904160894458), (1558, 0.020373501182951618), (4441, 0.020360412114335154), (878, 0.020359877155658186), (4422, 0.0203377450460801), (547, 0.02031308302394351), (4158, 0.02028518592227839), (1632, 0.02026545446186187), (1779, 0.020255779555829526), (4157, 0.020244401450382313), (1352, 0.020240744350919798), (3148, 0.020237689147164076), (1374, 0.020220019304257028), (2283, 0.02019176341924745), (4605, 0.0201426836919131), (630, 0.02013121712097613), (1609, 0.020114496700535334), (2170, 0.020109328613361992), (3647, 0.02010283914709867), (1379, 0.020098537204120283), (2544, 0.020097738329307814), (3511, 0.020072514494793622), (1485, 0.020066837483996458), (1093, 0.020058782496507405), (464, 0.020058664654534958), (1686, 0.020055869490565623), (1157, 0.020040755830033584), (2326, 0.020031318305415345), (1089, 0.01999293734042975), (1881, 0.019925637964930694), (1023, 0.01989268606984285), (4241, 0.019890957037126848), (3809, 0.019880934963647862), (4362, 0.0198785680641983), (4245, 0.019873575260045767), (162, 0.019864351169669343), (3754, 0.01985826031306961), (612, 0.019856978781696528), (1588, 0.019851848157094308), (1168, 0.019839593121152105), (3117, 0.019828804773709775), (319, 0.019805387938112845), (444, 0.01979032898642533), (2375, 0.019745679831798806), (2673, 0.01974305488250875), (1698, 0.019741001436619585), (975, 0.01968219225223208), (2402, 0.019662700857420296), (3697, 0.019652953360056395), (4726, 0.01961495563012856), (4466, 0.01961216714022068), (1267, 0.019604612589654444), (693, 0.019594630506397478), (2876, 0.019568746951623275), (2841, 0.019568046007388873), (438, 0.019564216788255415), (1809, 0.019533289506349666), (2931, 0.019533157282794714), (2772, 0.019526165469495326), (2149, 0.019526099955371277), (637, 0.019520410736756606), (1040, 0.01951577710851963), (4289, 0.019483848540503654), (2409, 0.01947091155140351), (642, 0.019463532671675915), (1724, 0.019461161313670552), (3204, 0.019422557901398192), (2698, 0.019376064790069283), (3376, 0.019346471752463967), (1410, 0.01932813300500529), (1228, 0.019326192474047023), (2018, 0.01931983719429206), (872, 0.01931554963540122), (4136, 0.019305954730835254), (582, 0.019299915297967467), (3997, 0.019294060157827676), (400, 0.019293831013832186), (3773, 0.019286241856101095), (2448, 0.019256462736763777), (775, 0.019249494625517186), (1574, 0.01924433112018803), (175, 0.01923295989444427), (3137, 0.01918923456198075), (2144, 0.019189064672997178), (2904, 0.019171508793415087), (838, 0.01916489110661225), (1479, 0.019161057878705524), (395, 0.01915117696800009), (473, 0.019147142177650463), (714, 0.01914600018603975), (184, 0.019142435887776588), (1938, 0.019126196573933437), (1897, 0.019123052932946902), (3399, 0.019118725948027753), (520, 0.019112292958709913), (3824, 0.019102294110994636), (4728, 0.019069898044111307), (790, 0.01904296290366753), (2999, 0.019012780141017795), (2281, 0.0190000914980477), (4330, 0.01899560325759937), (1699, 0.018916088306495462), (3801, 0.018891271597626026), (2038, 0.018881831018751013), (2259, 0.018865661948182223), (2829, 0.018834946538375984), (1613, 0.01882872109742321), (4122, 0.018804237834110827), (284, 0.01876878449915457), (1285, 0.018765753435728377), (1475, 0.018740138005098172), (3653, 0.018736069307942426), (330, 0.018735645815219092), (2311, 0.01872950460350712), (223, 0.018700012568614286), (3840, 0.018686424222753264), (2159, 0.018664241053355565), (3447, 0.018653196640632495), (273, 0.018628184523528456), (1232, 0.01860894144531817), (700, 0.01860516986981581), (2199, 0.018594940644145536), (2574, 0.01858098416634296), (3854, 0.018576888441238438), (3579, 0.018567591333051803), (639, 0.018566890732096143), (2220, 0.018551160214709803), (4155, 0.018509342071865175), (4320, 0.018481754335768968), (152, 0.018477620422523842), (2472, 0.018474538826226166), (849, 0.0184265244332411), (1678, 0.018396624793367462), (2103, 0.018348833681195595), (1953, 0.018333634739160873), (2481, 0.01833156787893696), (467, 0.018326213478593808), (3060, 0.018317924051206334), (301, 0.018293058266144434), (2761, 0.018258067956392683), (150, 0.018252931669200643), (4482, 0.018244945397358124), (2198, 0.01822355000933002), (2046, 0.01821738153958572), (3637, 0.018212823812530494), (1621, 0.018209739143171397), (1420, 0.01820934773144683), (1942, 0.01820127414954853), (1345, 0.018194671899240622), (466, 0.01819014957509481), (1269, 0.018164971808306615), (1821, 0.018159326198416845), (4348, 0.018147925223368555), (2088, 0.018074484845248758), (3188, 0.018070340284940117), (4431, 0.018061784159210514), (25, 0.01803388067086491), (3529, 0.018028474541479378), (1625, 0.018003821557697235), (1445, 0.017987462158007544), (3311, 0.01798007580304062), (619, 0.01795979588758366), (1028, 0.01795322376241475), (1603, 0.017947569377825677), (26, 0.01794080589996335), (2682, 0.01792443659291146), (240, 0.01791846537040316), (1404, 0.017901787757998028), (1672, 0.01787966290841428), (4178, 0.01787101598068823), (4004, 0.01786665242534752), (2918, 0.017864456432151544), (1811, 0.01785932383173391), (1217, 0.01785779656949275), (315, 0.01785346594393024), (1440, 0.01784924235311511), (1576, 0.01783956947655115), (3219, 0.01783004667001639), (4530, 0.017829837208684085), (2366, 0.017824226666611678), (3089, 0.017823334355795462), (781, 0.017820955254294318), (2254, 0.017810939611401996), (1723, 0.017803223098388152), (4609, 0.017799766457776624), (4703, 0.017787182782744253), (1323, 0.01778491752260534), (233, 0.017781570416670073), (1175, 0.017758138651738847), (1627, 0.017741405939054565), (1507, 0.017733460807751598), (3706, 0.017723548365174042), (3183, 0.01771973241807706), (3643, 0.017714726728254568), (3033, 0.017710779227033846), (3400, 0.01767563545689871), (4117, 0.017639611326478923), (3709, 0.017609768107919442), (1197, 0.01759473562566201), (3701, 0.017592853351268624), (61, 0.017577938248412903), (1813, 0.01756573945157334), (4589, 0.017541282855011154), (3536, 0.017533260203211432), (3751, 0.01752342433303305), (1115, 0.017517769653917707), (1425, 0.01749450042387706), (1662, 0.017459566789445668), (2685, 0.017454526726464), (2697, 0.017443698116702062), (1797, 0.01742315549500577), (1532, 0.017416151534752365), (337, 0.017414895542274753), (672, 0.01739451817538729), (1231, 0.017366517134480206), (1709, 0.017365286035424744), (2865, 0.01735750495505463), (1675, 0.017351359294549232), (287, 0.01734829986719308), (4438, 0.017340175888252575), (1392, 0.017324922252767223), (1106, 0.017286102251963992), (1112, 0.017281862661039774), (432, 0.017271089143258832), (4081, 0.01726599256211691), (697, 0.017253259288351967), (4745, 0.01723362131046164), (3443, 0.017226572888704317), (3626, 0.01722404092590441), (1385, 0.017222648491287643), (228, 0.017214762307975813), (3966, 0.01721140800986499), (2354, 0.017205932045102897), (1696, 0.01720290171101861), (2942, 0.017176765607463205), (812, 0.017173572716182254), (2552, 0.017166819921976655), (628, 0.017163187949451535), (2644, 0.01715252061390429), (1741, 0.017140097054942783), (793, 0.01712819732711316), (3620, 0.017106681007690087), (4736, 0.01710638151240988), (3545, 0.017103447681357006), (50, 0.017097774410565515), (2460, 0.017086851772528274), (4327, 0.017077140395053227), (3284, 0.017060494079347628), (1500, 0.01704784586302908), (3151, 0.017031440927875383), (3175, 0.017005408897652265), (3856, 0.017001829274419997), (1463, 0.01698341422605241), (3554, 0.016982927780421857), (4183, 0.016967985027766128), (54, 0.016934375397783336), (3162, 0.016905778232555735), (3411, 0.016902690547694534), (3646, 0.016899947703102037), (193, 0.016898571619290318), (1654, 0.016894606553911205), (1000, 0.016887673536970987), (2192, 0.016886504997540595), (2812, 0.01688253573322271), (2107, 0.016876121871073447), (4628, 0.016855494351431945), (2513, 0.01684008897250689), (1875, 0.016807413164713347), (539, 0.01680454090735503), (2031, 0.016797737845421157), (755, 0.016778964090621646), (359, 0.016771121016776146), (1912, 0.016752515890510536), (676, 0.016748808878225007), (4282, 0.01674592013042851), (3302, 0.01674409480957775), (32, 0.016737057634357122), (2804, 0.016735039040629354), (1073, 0.016722371910629374), (3731, 0.016704087765903052), (4160, 0.01669424568936238), (1292, 0.016677265254336916), (545, 0.016660870616913424), (299, 0.016652684459458268), (1369, 0.01663985550585896), (2158, 0.01663331910904777), (840, 0.016626064477449798), (3066, 0.016625933744295898), (1227, 0.01660624109179171), (834, 0.01659855093700173), (4553, 0.016590611836547024), (3077, 0.016587894235249864), (4104, 0.01658739070347948), (2226, 0.01658179883024929), (4483, 0.01656742429581948), (4247, 0.016545788054006777), (85, 0.016543231604249392), (1172, 0.01653984855288599), (3839, 0.01652900773945657), (4591, 0.016516623167381523), (2239, 0.01648826970536152), (1117, 0.016483939989636494), (1406, 0.016478627239662848), (263, 0.016471233942827925), (4650, 0.016465314407336392), (3369, 0.01643158632420297), (4143, 0.016426068720032), (497, 0.016406875876989517), (369, 0.016398775248411594), (1759, 0.016396848712097095), (349, 0.016369747414543143), (449, 0.016354988483141906), (4169, 0.016344234900764316), (4366, 0.016317220647835248), (1667, 0.016308015639968063), (1263, 0.01630485002354812), (4114, 0.016299503314766886), (2958, 0.01629013050081439), (1579, 0.01625135624486743), (2530, 0.016245979381548453), (168, 0.01619155071280433), (37, 0.01616125019515528), (3474, 0.016159447984195368), (3704, 0.01614911626437998), (156, 0.016147985242813336), (3736, 0.01613067236532406), (604, 0.016106984039225877), (4201, 0.016100098699991083), (4610, 0.016073517691444054), (1802, 0.016072557257143565), (3602, 0.016047274779523744), (3813, 0.016046152339674095), (3682, 0.016045580049257616), (2822, 0.01604432985827296), (1414, 0.016042196527504313), (4165, 0.016029139035219176), (3416, 0.016025587789136805), (1543, 0.016013244031996204), (3466, 0.015995730547618082), (1247, 0.015974421283954147), (1683, 0.01597316283013286), (1135, 0.015969562935397835), (214, 0.015961151448838338), (2756, 0.015950364211124193), (2550, 0.0158969745131497), (3619, 0.015891657258401064), (944, 0.015831250957061), (2427, 0.015804270594334976), (3318, 0.0157939654866443), (35, 0.01577905555131449), (2412, 0.015777545227266744), (4599, 0.01574381085160791), (2776, 0.01574138815843842), (1934, 0.015728545847248133), (2549, 0.0156883420329046), (1982, 0.015686261380550928), (1563, 0.0156384435073406), (939, 0.015610532727380886), (172, 0.015579623981869397), (4205, 0.015548865886119704), (1206, 0.015541638448386588), (2839, 0.015538442303316021), (3861, 0.01551787474675774), (4451, 0.015515441362022266), (702, 0.015514346476860003), (67, 0.015499169357852116), (2687, 0.01549866865860003), (1209, 0.015489408051188749), (396, 0.015454392590824633), (611, 0.015450109541355672), (4502, 0.015449662044548344), (3585, 0.015436686614852495), (3972, 0.01542123167857204), (2175, 0.015372377811196634), (393, 0.015369637329967318), (803, 0.015326977848598084), (3224, 0.015325389339056385), (1308, 0.015323002748811368), (3112, 0.015318726053913758), (773, 0.01530024417121765), (2801, 0.015297095799424053), (3863, 0.015286253739073889), (276, 0.015285795510710277), (835, 0.01527408356769515), (3113, 0.015265328409366495), (2622, 0.015235401960063982), (129, 0.015231366932340408), (824, 0.015219458875894192), (2601, 0.015210184508108245), (2528, 0.015206908611326802), (2204, 0.015203035262078814), (3841, 0.01519608531416971), (3345, 0.01517938052599742), (833, 0.015170158625093102), (1869, 0.01516915072734657), (1615, 0.015157105476608167), (1580, 0.01511367129416322), (141, 0.015108677472436443), (1827, 0.01509546189476852), (3000, 0.015093309980021334), (4479, 0.015085802471601954), (45, 0.015082294398915019), (430, 0.015045087059386703), (4661, 0.015043719785502755), (4516, 0.015039479011651506), (3581, 0.015037232392200997), (2154, 0.01503120318929816), (511, 0.015007882992870744), (1387, 0.01500385569642447), (2064, 0.014994557292801712), (1713, 0.014987007131138793), (3563, 0.014974496423672308), (249, 0.014961124239455099), (2806, 0.01491925331633565), (3524, 0.014907533193226881), (3195, 0.014882067116499366), (143, 0.01486978022089711), (2320, 0.01485438450245979), (4534, 0.014840641654917351), (154, 0.014826757197823398), (4558, 0.014817275620603131), (3556, 0.014816462082949957), (381, 0.014763546961996969), (4343, 0.014759564532054978), (222, 0.01474050606518395), (88, 0.01472790098782591), (3677, 0.014702741460625383), (237, 0.014691936727134577), (3, 0.014676946430384837), (1144, 0.014631101603417383), (4350, 0.014627265817633087), (3414, 0.014624868263338892), (4587, 0.014580262181613355), (2049, 0.014579386218823053), (813, 0.014572926300424928), (1100, 0.014568410795841072), (2524, 0.01455485143586943), (4737, 0.014553155470512148), (1062, 0.014551956712174201), (2174, 0.014546210377788409), (3254, 0.014512516649416085), (4267, 0.014489142176498306), (868, 0.01440859205702483), (4683, 0.014383970619423194), (1219, 0.014380383020956438), (2269, 0.014360097247681048), (1466, 0.014344820741043273), (653, 0.014343633679797478), (3763, 0.014332468943553178), (1277, 0.014290764858062771), (2381, 0.014269573828036291), (2252, 0.014242459763640053), (3895, 0.014240502078203552), (220, 0.014238522010604554), (2265, 0.014225434919465318), (101, 0.014224261828277492), (1394, 0.014208459623250158), (3741, 0.014195896602078498), (4312, 0.014195294345069246), (4397, 0.014100354586644381), (2573, 0.014098176553127133), (4119, 0.014086715833096562), (161, 0.01407820685946738), (2810, 0.014073715909275246), (4259, 0.014062087055881875), (635, 0.014045854290207103), (2751, 0.014032269471234251), (719, 0.014016872368359393), (2750, 0.014014562859777263), (1153, 0.01401187026221401), (377, 0.014009456450056622), (2401, 0.013992537818452512), (1921, 0.013975226298048688), (4567, 0.013974974995205352), (3558, 0.013967883103873851), (3520, 0.013947496411643348), (1133, 0.013937580325852355), (723, 0.013926829722628278), (4627, 0.013917376852648738), (74, 0.013902569554489699), (668, 0.013896241929159905), (1567, 0.013893443237020053), (3983, 0.013889149185083889), (4061, 0.013861506120922594), (725, 0.013853814519676072), (982, 0.01383595174173551), (433, 0.013737298153270598), (452, 0.013730395150997271), (1393, 0.013677089492353158), (2826, 0.013665609509177707), (2296, 0.013655603362580508), (715, 0.013652823253874817), (4332, 0.013647271879608649), (494, 0.013633498548007791), (2604, 0.013623364397980998), (1777, 0.013614563560502946), (2223, 0.01361311204644037), (2887, 0.01358998724425069), (726, 0.013580975047225856), (142, 0.013578132975237142), (2260, 0.013555944323580357), (3014, 0.013555581318005985), (4677, 0.013508096327728834), (1334, 0.013478222547142772), (843, 0.01347454591639091), (4265, 0.013463142188177448), (2371, 0.013435560611902729), (1396, 0.01343382996812233), (1997, 0.013410928065875094), (2052, 0.0134066973807354), (607, 0.013401615120383945), (1356, 0.013399366846904565), (2912, 0.013382179464597419), (3938, 0.013382063465670772), (1509, 0.013378026499157114), (1932, 0.013376248721673763), (2261, 0.01336003737497611), (339, 0.013359707020882391), (1766, 0.013342864650339865), (3726, 0.013340302220129267), (470, 0.013339134869831003), (2466, 0.013311190199926489), (720, 0.013306860390844581), (2555, 0.013306132998442731), (930, 0.013292709682228466), (2520, 0.013282399907713564), (3487, 0.013277108215037591), (2771, 0.013257304350411095), (2176, 0.013228225424188127), (2441, 0.013224344731915133), (4025, 0.013202606815590155), (3187, 0.013186607122856797), (311, 0.013183339404685001), (1599, 0.013171243723240722), (2122, 0.013164248627940354), (523, 0.01314097782893019), (822, 0.013092009625843243), (3084, 0.013068382872831847), (418, 0.013052250647286826), (2376, 0.013020443811499435), (2337, 0.01299255603850984), (2944, 0.012977386575162491), (977, 0.012962379740168652), (1549, 0.012953389162626313), (3907, 0.012939950819269946), (3980, 0.012929007891425107), (1513, 0.01292267751929171), (3265, 0.01286293160721401), (1757, 0.012842968339064271), (1245, 0.012841220634515298), (3743, 0.012816942973973856), (1419, 0.01279756128151022), (2191, 0.012762564949290213), (2540, 0.01275552525948386), (1141, 0.012744077181134204), (3080, 0.012733163974957083), (4001, 0.012711668036378243), (576, 0.012708665499940815), (3452, 0.012703763050650197), (308, 0.01270141677005593), (3120, 0.012672008344571476), (4501, 0.01266121680532953), (1142, 0.01265874293664708), (120, 0.012658728481659939), (3236, 0.01265717994855904), (685, 0.012653678447473189), (1213, 0.012634330837525364), (698, 0.012633661766615392), (1963, 0.012617205541010668), (3794, 0.012591296240696832), (2498, 0.012588392877299733), (3728, 0.012580641039840381), (2399, 0.012570794387923405), (1670, 0.012567931645466582), (4340, 0.012566097040211175), (4478, 0.012565449671517176), (259, 0.012547837321246256), (2492, 0.012532176656486827), (2082, 0.012531725537198269), (1967, 0.012530766297724403), (1731, 0.012517797449605078), (647, 0.012502927156513324), (2474, 0.012499287145632608), (1257, 0.012478548639586291), (2358, 0.012471717723080844), (1328, 0.012466486961080405), (1248, 0.012462117984136038), (686, 0.012460160642125573), (1531, 0.012443261868851571), (3317, 0.01243842569097035), (2798, 0.012432316606540145), (3335, 0.012428011611618389), (4568, 0.012394280322490835), (3329, 0.012384343563217447), (2896, 0.012381122683867101), (3073, 0.012375956412911643), (1192, 0.012367736181336242), (56, 0.012345791056103452), (135, 0.012327623372087282), (92, 0.012254169879209012), (1689, 0.012245019078989842), (340, 0.012244512946178406), (2456, 0.012229505230336463), (1111, 0.012221747606142575), (405, 0.012219516127654902), (87, 0.01221706154775171), (3690, 0.012211693753962737), (757, 0.01220346972669424), (459, 0.012201798879166016), (1649, 0.012196834534244012), (2061, 0.012193971914633598), (1087, 0.012193819914129206), (1688, 0.012192967732404653), (2935, 0.012171132756367484), (221, 0.012158532384056776), (2680, 0.012134678809256986), (2799, 0.012119148968800213), (2087, 0.01211321160568495), (1839, 0.012108286429037933), (4624, 0.012101989241867039), (1033, 0.0120986496217452), (1413, 0.012095593567838183), (1977, 0.012042084273906508), (1517, 0.012021957567869787), (2017, 0.011974166318450842), (1113, 0.01196203755077721), (310, 0.011956233438426025), (1013, 0.011891916089832135), (413, 0.011887651946515277), (1987, 0.011886442839431981), (2422, 0.011873248988476082), (684, 0.011848342072336778), (2650, 0.011841227572007826), (963, 0.011805391946352732), (3222, 0.011800072690782355), (285, 0.011797382405279395), (372, 0.01179377241618565), (2347, 0.011792402494474568), (4168, 0.011784189160765672), (39, 0.011783478224979146), (2449, 0.011776193974279044), (1763, 0.011773870343849724), (1825, 0.01176629403427949), (2290, 0.01176194301776185), (1525, 0.011749196536450804), (2419, 0.011745394799859246), (1329, 0.01171412459566603), (2686, 0.011703226387384705), (1191, 0.011697838532245857), (749, 0.011631594858193624), (1304, 0.011614024009096833), (2845, 0.011605043578940755), (1630, 0.01159868741540352), (4399, 0.011582878080924263), (1204, 0.011581905304872214), (1936, 0.01156975180275439), (117, 0.01154235188126627), (2862, 0.011509367912193737), (732, 0.011508279338891902), (4356, 0.01150279889233652), (1361, 0.011502574437059933), (3409, 0.011491830302858202), (3912, 0.01148215747878145), (997, 0.01147375283228812), (1865, 0.011459262939193336), (1668, 0.011457386882789284), (218, 0.0114536316049304), (2319, 0.011448758160886597), (528, 0.01144451741000395), (500, 0.01142753158860031), (460, 0.011413263879373891), (3189, 0.011410878241035597), (605, 0.011395754066313758), (3765, 0.011389999109770474), (727, 0.01138277433402976), (2614, 0.011380066029597728), (1955, 0.011349730187054256), (1598, 0.01134790014613702), (333, 0.011317763641939512), (1358, 0.011295210453552819), (1823, 0.011286949898948023), (2145, 0.011282752010028993), (3215, 0.011282646671079888), (1541, 0.01127554450454785), (1, 0.011274348352070819), (1066, 0.011273057023713362), (1095, 0.011259175304674731), (2224, 0.011255916533494701), (3327, 0.011236344024882938), (1249, 0.011235655149499178), (1746, 0.011234217908142906), (1913, 0.011233318449863316), (1270, 0.011228996046813787), (4679, 0.011212201478907606), (4445, 0.011207875788912022), (1889, 0.011206727136080431), (4328, 0.01120227073954586), (1553, 0.011189652673691942), (119, 0.011181803634570876), (3454, 0.011143113388669346), (306, 0.011139023114824507), (428, 0.011124745611687588), (3058, 0.011118167635640898), (2765, 0.01110869729789599), (3122, 0.011107690360469526), (1697, 0.011105182394269936), (2791, 0.011097278094368978), (1915, 0.011095278460465582), (4192, 0.011084905518215244), (1744, 0.01104830887654538), (4682, 0.011036529385549523), (3823, 0.011008512942298192), (3533, 0.011006922512526026), (929, 0.010991560320782313), (1919, 0.010988335166339283), (1650, 0.010975390004667037), (2071, 0.010969063510422797), (1002, 0.01095509072796683), (490, 0.010949028516852559), (1978, 0.010947542276272983), (3940, 0.010938796209729765), (2593, 0.010929473618621139), (2035, 0.010918642030882147), (2461, 0.010911760450789445), (2160, 0.010909352693548171), (76, 0.010908852492429868), (4020, 0.010868903229977193), (1039, 0.010857907893368247), (4459, 0.010857008995634914), (2338, 0.010833861842830148), (2215, 0.010826035166347838), (2013, 0.010805752285539854), (1506, 0.010773920119621857), (2435, 0.010751062440777953), (4444, 0.010747884675447667), (288, 0.010735464538804381), (1854, 0.010706389297376818), (733, 0.01070486873979989), (522, 0.010696213499603965), (1898, 0.01068987804306127), (858, 0.010687510402817473), (898, 0.010650352556130829), (2318, 0.010637261900770436), (124, 0.010620957583249288), (540, 0.010617245516539588), (1783, 0.010571843406300605), (484, 0.010569384754482167), (4447, 0.010560735872745964), (594, 0.01051990857093981), (242, 0.010513050360316155), (3807, 0.010506143773526376), (357, 0.010487667745924955), (1196, 0.010486765033681365), (2972, 0.01048459803974395), (183, 0.010451105597175143), (2389, 0.010442577715546422), (713, 0.010439430724440778), (401, 0.01043582478142232), (3923, 0.010426388309531172), (2005, 0.01042534071763736), (2065, 0.010424473621887587), (4652, 0.010346022751000803), (440, 0.010334533421014877), (2058, 0.010325448919801885), (113, 0.010322543492268339), (1370, 0.010310973985608445), (4596, 0.010303762920496916), (159, 0.01029167468573672), (2285, 0.010261186918280001), (934, 0.010258052085830551), (2975, 0.010245516150157912), (2909, 0.010243754674338959), (4055, 0.010209684876769399), (1863, 0.010182670986225474), (300, 0.010179473564214588), (4646, 0.010177794808349624), (2581, 0.01015658620191778), (1684, 0.010092366948921254), (199, 0.010068039667178716), (2724, 0.01003717750489533), (2125, 0.010022609569582936), (859, 0.009985378516744917), (2985, 0.009954544855930534), (2047, 0.00995328153557985), (194, 0.009942084513174456), (1136, 0.009937689855778935), (2287, 0.009914167788936652), (2590, 0.009899825520451752), (1608, 0.009861103164594931), (1830, 0.00978995463801322), (3228, 0.009705891258869231), (383, 0.009691041919050842), (2671, 0.009626141908795167), (4007, 0.009575305452779032), (1691, 0.00956307314401606), (1208, 0.009531129637437475), (1310, 0.009522990563184994), (2617, 0.009466017702018784), (4344, 0.00943894840450792), (1005, 0.009429281175169406), (1781, 0.009427440083231766), (2470, 0.009417958063791738), (1241, 0.00938748346431572), (4002, 0.009353306522543108), (4449, 0.009352563774828366), (1648, 0.00932760975795043), (4660, 0.009290473842641317), (789, 0.009288754710736863), (1268, 0.009243551126109672), (3951, 0.00922291691708128), (904, 0.0092190866638618), (3502, 0.009213941089084446), (412, 0.009197503011757577), (257, 0.009116348120811113), (2721, 0.009115389367709666), (1943, 0.00910690122744335), (4594, 0.009030623016198225), (2006, 0.008981948948785639), (3875, 0.008944517837353434), (4062, 0.008936880864682526), (738, 0.008920464113619249), (3448, 0.00887695648497021), (2758, 0.008851913841936005), (2638, 0.008846185066282545), (1300, 0.008807254438136401), (2834, 0.008791958019765577), (3039, 0.008783569341323095), (3897, 0.008731719772885862), (4477, 0.00869304006380875), (1418, 0.008613090441156273), (2547, 0.008500621256532977), (3638, 0.008491513497131032), (4226, 0.0084663581969677), (1548, 0.008438519690278127), (4549, 0.008406773624253213), (3526, 0.008384326094986164), (4281, 0.008364577024521225), (1471, 0.008309095922785276), (4612, 0.008297965765385421), (3661, 0.00827703937225308), (542, 0.008247406984256562), (2364, 0.008206889471927532), (1669, 0.008164128027199114), (4436, 0.00810837587920921), (2785, 0.008104547456070251), (948, 0.008095895267898303), (4013, 0.008067537215755323), (243, 0.008064458185671239), (4659, 0.008006519551875842), (3172, 0.00800127078243712), (2645, 0.007985378466972368), (3577, 0.007934465877845201), (4120, 0.007924809144602673), (3364, 0.007920031653632798), (1581, 0.007814598667640902), (2631, 0.007765785150148431), (1343, 0.007746990867323685), (380, 0.0077134238299974844), (3384, 0.007711751340779003), (3438, 0.007682140465447811), (3857, 0.0076768446402024505), (491, 0.007656882424714921), (2739, 0.007652682816037493), (553, 0.007603659715709507), (3277, 0.00759910219799975), (1619, 0.0075925515687957955), (4685, 0.007589889426297509), (4635, 0.0075882063797768065), (681, 0.007562529614022705), (3549, 0.007558300210526308), (2180, 0.007550172892314828), (368, 0.0075495353971763105), (1583, 0.0075458066797630475), (687, 0.00753766357314267), (2032, 0.007536733834587455), (4368, 0.007532315431482202), (2330, 0.007530227574004765), (1381, 0.0075211367552286265), (3920, 0.007493561443683131), (4695, 0.007456016935127609), (4629, 0.007447454820901337), (4269, 0.0074335414949890715), (2486, 0.007429288973593253), (2740, 0.0074195032842636925), (3230, 0.007417611800318396), (4271, 0.007411764365244116), (424, 0.007404648896726925), (2012, 0.007391297573519074), (4448, 0.007384475097491587), (38, 0.007384202708402788), (2816, 0.007379146831294724), (2675, 0.007363148267803498), (4541, 0.007355042401393961), (3264, 0.007353264180881772), (1968, 0.007346009322649894), (425, 0.007340636487032444), (1716, 0.007323913858011125), (2436, 0.0073211232850138915), (701, 0.007310022819997056), (1502, 0.007303115211447073), (3810, 0.007273378001730528), (4592, 0.007260692831673013), (4462, 0.007248362955180014), (644, 0.007244435571909588), (4091, 0.007234544287834559), (3724, 0.007231635577091178), (1056, 0.007229534727075613), (483, 0.007217177017613745), (4363, 0.007213887855111854), (512, 0.007210408682257705), (1858, 0.007200273534691133), (2233, 0.007188673619149664), (1887, 0.0071538962722224346), (3877, 0.007119822830488756), (2339, 0.00711787385292117), (1681, 0.007089428873314449), (675, 0.007076204883649505), (2079, 0.007067432458692989), (666, 0.00705305000928653), (48, 0.007031858043314356), (1031, 0.007030799671549403), (747, 0.007027067915792262), (420, 0.007011403252143716), (2538, 0.007004876370934185), (4755, 0.007002268549485085), (4467, 0.006997246095826662), (3450, 0.006996289775073147), (1928, 0.00699162407091818), (2418, 0.0069896819714245426), (940, 0.0069880190416994935), (614, 0.006986851469225089), (3516, 0.00698038605590465), (2940, 0.006971059577178237), (4121, 0.006964332003358863), (2792, 0.006963833709797755), (250, 0.006951585690289396), (1857, 0.006949726487186939), (2518, 0.006923656759418764), (1486, 0.00690979669438853), (4621, 0.006894384880113087), (2072, 0.006878307983301998), (4262, 0.006868257989773413), (3587, 0.006859753717459172), (1907, 0.0068530001342051875), (1043, 0.006850844745710205), (3618, 0.006848783078748506), (4077, 0.0068373974794971645), (2112, 0.0068107584061882056), (3586, 0.006804570017876568), (1426, 0.006797422403388219), (3831, 0.006786654920576306), (1035, 0.006779891569348101), (2431, 0.0067668665301359445), (3131, 0.006758505725683187), (2963, 0.006758174130412133), (12, 0.006754134135618732), (919, 0.00675264141237955), (3374, 0.006751051159292914), (778, 0.006749996311249488), (3368, 0.006733515123613381), (913, 0.00672966209680348), (105, 0.006721612684611338), (2463, 0.006718176894078805), (3780, 0.006717459064044472), (3259, 0.006713691900588002), (1798, 0.006702502767737634), (654, 0.006701251091311011), (189, 0.006690342848768658), (1380, 0.006689749329828951), (1048, 0.006687156627148938), (2534, 0.006682507465487794), (1687, 0.0066661666968260876), (1262, 0.006662248343458139), (3959, 0.006650921180100091), (832, 0.00665069488995704), (1349, 0.00664756519301759), (1150, 0.006647318513737639), (1851, 0.006645535883614646), (371, 0.0066431148258373745), (3654, 0.006635730529607489), (1893, 0.006631848739469181), (1660, 0.006628878003565251), (3778, 0.006617113548239547), (3125, 0.006610399953351202), (272, 0.0066017251586854885), (1985, 0.006601250287992665), (3464, 0.006599711101750258), (2689, 0.006588477260455142), (2911, 0.006586925898379547), (3919, 0.006575309925980463), (3930, 0.006572275380176529), (3777, 0.006569057678040432), (908, 0.0065546669161238545), (677, 0.006550171808753219), (211, 0.006544888382251704), (2501, 0.006540102775909765), (3446, 0.006538658811213147), (2432, 0.006535365182630683), (2277, 0.006533911013225951), (897, 0.006525614754647271), (2546, 0.006523366302015509), (3271, 0.0065122841904266746), (3551, 0.006505719434749416), (3378, 0.006504085791744478), (1952, 0.006490538231330797), (1266, 0.006489706177556704), (4686, 0.00648803834766416), (4006, 0.006480301061372862), (4486, 0.00647903378157277), (3150, 0.006474497529122257), (1238, 0.006469467880014583), (1239, 0.0064686996173241), (603, 0.00646838372336561), (599, 0.006441542790773826), (4284, 0.006434495397014609), (123, 0.006434250320359005), (2193, 0.00643110083024392), (3174, 0.0064235678920990524), (1807, 0.006422246651841494), (588, 0.006420312378227862), (427, 0.006419302319090904), (2334, 0.0064123532090135564), (2609, 0.00640285888298865), (1896, 0.006393678994770283), (918, 0.006391145535687988), (83, 0.006389254796555556), (1140, 0.006383450123483044), (3928, 0.006380538408746688), (1702, 0.006375973274537103), (525, 0.006374707865514933), (3491, 0.006373758559608877), (765, 0.006369487489324421), (4038, 0.006368271076401646), (631, 0.006364029648766792), (1515, 0.0063510449796770055), (2790, 0.006342942191388971), (767, 0.006335288845946425), (112, 0.006335267079477614), (3469, 0.0063322229804548295), (4068, 0.006316576353410978), (4379, 0.006314414144313709), (2511, 0.006310042908909863), (2977, 0.006309282443995027), (551, 0.0063033141447245275), (3507, 0.006295914884427306), (343, 0.006292813597149946), (3689, 0.00629141476704523), (3963, 0.006288673821126679), (2640, 0.006288608158601566), (2278, 0.006288453277651367), (748, 0.006287939031810626), (2303, 0.006285886911397781), (2169, 0.006274290571237399), (613, 0.006273369336398255), (2178, 0.006263974859515596), (2784, 0.006262992479551973), (209, 0.006258044636277409), (2015, 0.006255590350469251), (1047, 0.006251719190067565), (4503, 0.006251442303547909), (2147, 0.0062404069644889405), (1751, 0.0062296814354363085), (2139, 0.006221863629876009), (2056, 0.006217281527800355), (3233, 0.006202047287402328), (264, 0.00620183306397039), (2691, 0.006196748825755986), (1587, 0.006196376042363335), (3713, 0.006191830123613688), (2713, 0.0061908256267409825), (3299, 0.006187442797539159), (2571, 0.006184965097402491), (974, 0.006177494484050411), (1185, 0.0061747140226796225), (3295, 0.006173153280024771), (1360, 0.006172054094226144), (3465, 0.006164450221653534), (1636, 0.0061616532327079575), (680, 0.00616137473854238), (2610, 0.006151764629776784), (2045, 0.006150943506295135), (1347, 0.006148874014541252), (1346, 0.00614467658882712), (4272, 0.006142804755645529), (171, 0.006137563712219871), (529, 0.006136069355570688), (4406, 0.006135488666015787), (993, 0.0061349621012232606), (3504, 0.006125889312102857), (1436, 0.006120360540197738), (1510, 0.006118700866971314), (2029, 0.006111931602889878), (3321, 0.0061116157654045895), (1338, 0.006110990429018538), (2777, 0.006103676858133944), (3568, 0.006094313013784328), (4687, 0.006088750745136806), (3018, 0.006088360937999044), (3955, 0.0060821590609964424), (1179, 0.006071395767459717), (260, 0.006071291431033268), (1551, 0.006070778358723949), (138, 0.006062814986034523), (3927, 0.006046606623455248), (883, 0.006040958146612291), (1297, 0.00603540604547805), (2126, 0.006033884512101979), (439, 0.006033351183409683), (1994, 0.006033332631526437), (1653, 0.006025347260755881), (1322, 0.00601934653550421), (864, 0.0060180639768709935), (3240, 0.006017906686155398), (782, 0.006008113015861296), (305, 0.00600660729206261), (3748, 0.006006524823147694), (131, 0.006005854767838361), (104, 0.0060036762840133436), (3739, 0.005996484268338604), (1986, 0.005984405979677237), (65, 0.005983562575270543), (870, 0.005982000530032321), (4387, 0.005980296582756758), (3463, 0.005979620561939988), (4564, 0.005978255663972935), (28, 0.005975826193273931), (3011, 0.005974775160017242), (2416, 0.005973797840267954), (2131, 0.0059694877917909365), (2503, 0.005954276663827532), (4012, 0.00595292659652016), (348, 0.005947306235048103), (1988, 0.0059447534768121155), (1446, 0.005940862598945645), (1146, 0.005937018503266759), (280, 0.005923828360189764), (3435, 0.005916986518478582), (353, 0.0059100983842586465), (4137, 0.005908248435427829), (3567, 0.00590777785423688), (2487, 0.0059047852446879314), (1273, 0.005904509258061268), (3784, 0.005903378175705177), (779, 0.005902280920767055), (1170, 0.005902100662561379), (2808, 0.005899998696366974), (4217, 0.005898870958040033), (11, 0.005898071062297188), (2933, 0.00589204604468284), (3712, 0.005889168293430718), (2706, 0.005875835002346852), (736, 0.0058696395702279676), (4059, 0.005868981111866562), (1059, 0.005868227850618054), (3492, 0.005855559988722065), (2992, 0.005855159073997252), (261, 0.005829312981603213), (3246, 0.005826865840813288), (84, 0.005826819933748033), (1054, 0.005826642744102812), (2128, 0.005812642152317214), (907, 0.00580826523598777), (722, 0.005782522668720086), (3818, 0.005777398691268803), (2497, 0.005765092979322041), (3641, 0.005753330726323312), (2446, 0.005751209677139762), (866, 0.005746795961684524), (3720, 0.00574643186177472), (1908, 0.005742576311301509), (2003, 0.005733140792662017), (4339, 0.00573172475736224), (1422, 0.005710924986105475), (1274, 0.0057061583910102), (3046, 0.005702741595182344), (1546, 0.00570075653906053), (3564, 0.005690050964343925), (4442, 0.0056868318214087395), (1218, 0.005679486679770033), (2892, 0.0056733530386267154), (1756, 0.005664267940997142), (1052, 0.005656817389430842), (3053, 0.005649288420307793), (776, 0.005639955258561265), (18, 0.005634384320678318), (3127, 0.005619238728656332), (3280, 0.0056174299554667155), (2023, 0.005613081181644626), (3868, 0.005599956301082024), (2020, 0.0055971137181836965), (2491, 0.005590452480422481), (72, 0.005588050339399018), (4634, 0.00557552316950638), (507, 0.005572003712870597), (1888, 0.00556867836994375), (3998, 0.005560946495911662), (1984, 0.0055607350957670295), (1565, 0.005560043842338628), (2859, 0.005554676374658625), (416, 0.0055495861676283535), (408, 0.005549167576082032), (411, 0.005546323121701909), (1710, 0.005541919510683884), (3200, 0.005537600946464983), (388, 0.0055347423257534455), (1794, 0.005534477169857796), (3819, 0.00553041032873881), (1620, 0.005526405423112119), (3071, 0.005521714004142301), (291, 0.005516468856442773), (4481, 0.0055141364575194965), (4176, 0.005513089668712045), (1990, 0.005512481819133703), (669, 0.005508132398743124), (2920, 0.00550768564851382), (426, 0.0055036482882295365), (354, 0.005503429263939863), (4124, 0.005497151825074966), (4156, 0.005491613001004474), (2855, 0.005485422129787041), (1375, 0.005483457270326747), (3193, 0.005475770981794184), (2608, 0.005474414653394206), (661, 0.005471951163169866), (2094, 0.005465871041326338), (2906, 0.005460174497816068), (1642, 0.00545853657288536), (885, 0.005458521526743049), (387, 0.005453946879044783), (4689, 0.005444354899280832), (1742, 0.005433494662833035), (9, 0.005426303413476344), (1793, 0.005419679237316849), (3786, 0.005419439117962771), (3598, 0.005418643648708886), (3566, 0.005406726777913083), (3776, 0.005394927374517879), (521, 0.005388486012407541), (4450, 0.005381366921767615), (1738, 0.005377773303394382), (3821, 0.005371385146399527), (1221, 0.00536783024567762), (4600, 0.005362338710490811), (4353, 0.005360926016369007), (215, 0.0053590527289635705), (916, 0.005353895494780521), (2127, 0.005349819444773154), (1312, 0.005346474880507477), (4649, 0.005342379193697413), (1772, 0.005326341594434105), (4590, 0.005326071134243409), (1384, 0.00529978119346724), (1595, 0.0052995957978979255), (583, 0.005296833002505198), (4550, 0.005295835392087207), (4257, 0.005288880018699451), (590, 0.005285709443104737), (2874, 0.005282000914971028), (2910, 0.005281727696435063), (148, 0.00526493019947481), (417, 0.005256596010171453), (4428, 0.005239750987656435), (195, 0.005233197980263071), (492, 0.0052111757451297714), (788, 0.0052099093196261975), (1173, 0.005207636975682063), (1186, 0.005194847726158205), (2805, 0.005161811503417267), (234, 0.005147692487891894), (2482, 0.005135707619270746), (1895, 0.0051307391252725446), (3336, 0.005129827797485839), (97, 0.005118772678477169), (1782, 0.005115764199267645), (3538, 0.005105162744732699), (4748, 0.005100630833553193), (4473, 0.005057219144205192), (1719, 0.005023710154614558), (2969, 0.0050076918948075986), (442, 0.005006403228413536), (2587, 0.0049967825874843545), (3944, 0.004994694435999582), (3655, 0.004993893336312843), (60, 0.00497879279994851), (3957, 0.004973547929058892), (1571, 0.004956794429499107), (1194, 0.004955255915410629), (575, 0.004935497140137525), (3108, 0.004930672528188693), (2627, 0.004929375503333665), (294, 0.0049285621190219), (78, 0.004925575233813123), (3855, 0.004906348847372532), (2842, 0.004894663968135003), (2294, 0.0048831955274390515), (2291, 0.004867937238449853), (166, 0.004866317624107453), (2447, 0.004837133060188104), (3164, 0.0047931571075968534), (1535, 0.0047526786275733784), (1220, 0.004748139794059465), (1120, 0.0047323078062572795), (970, 0.004702797865404214), (1707, 0.004692453664517419), (1981, 0.00468389255674257), (1530, 0.004650357331219513), (2076, 0.004644350204585498), (1971, 0.0046019849417298034), (1395, 0.004595477674766092), (2078, 0.004554332812118571), (4373, 0.0045269921531107555), (1377, 0.004514388093609785), (2377, 0.004463927422941487), (3410, 0.0044499736742875445), (3362, 0.004421401016428869), (2774, 0.004331694648073288), (3316, 0.004326070967045128), (3667, 0.004302684906150545), (3356, 0.004131957245558274), (4, 0.0), (5, 0.0), (8, 0.0), (13, 0.0), (15, 0.0), (16, 0.0), (17, 0.0), (19, 0.0), (20, 0.0), (21, 0.0), (23, 0.0), (31, 0.0), (34, 0.0), (36, 0.0), (40, 0.0), (41, 0.0), (42, 0.0), (46, 0.0), (47, 0.0), (49, 0.0), (51, 0.0), (55, 0.0), (62, 0.0), (63, 0.0), (66, 0.0), (68, 0.0), (71, 0.0), (77, 0.0), (81, 0.0), (90, 0.0), (93, 0.0), (95, 0.0), (98, 0.0), (99, 0.0), (103, 0.0), (107, 0.0), (111, 0.0), (115, 0.0), (116, 0.0), (118, 0.0), (126, 0.0), (127, 0.0), (128, 0.0), (134, 0.0), (136, 0.0), (139, 0.0), (145, 0.0), (147, 0.0), (151, 0.0), (157, 0.0), (158, 0.0), (163, 0.0), (174, 0.0), (180, 0.0), (181, 0.0), (190, 0.0), (196, 0.0), (197, 0.0), (204, 0.0), (205, 0.0), (206, 0.0), (207, 0.0), (210, 0.0), (213, 0.0), (224, 0.0), (226, 0.0), (227, 0.0), (229, 0.0), (235, 0.0), (236, 0.0), (238, 0.0), (241, 0.0), (244, 0.0), (246, 0.0), (248, 0.0), (252, 0.0), (253, 0.0), (255, 0.0), (258, 0.0), (262, 0.0), (267, 0.0), (268, 0.0), (274, 0.0), (275, 0.0), (278, 0.0), (281, 0.0), (282, 0.0), (283, 0.0), (289, 0.0), (290, 0.0), (295, 0.0), (296, 0.0), (302, 0.0), (303, 0.0), (307, 0.0), (313, 0.0), (314, 0.0), (316, 0.0), (318, 0.0), (320, 0.0), (321, 0.0), (322, 0.0), (323, 0.0), (325, 0.0), (326, 0.0), (329, 0.0), (331, 0.0), (332, 0.0), (350, 0.0), (360, 0.0), (364, 0.0), (366, 0.0), (367, 0.0), (370, 0.0), (374, 0.0), (375, 0.0), (376, 0.0), (379, 0.0), (382, 0.0), (385, 0.0), (386, 0.0), (389, 0.0), (394, 0.0), (397, 0.0), (398, 0.0), (399, 0.0), (402, 0.0), (406, 0.0), (414, 0.0), (419, 0.0), (422, 0.0), (429, 0.0), (431, 0.0), (436, 0.0), (445, 0.0), (447, 0.0), (450, 0.0), (456, 0.0), (458, 0.0), (462, 0.0), (463, 0.0), (468, 0.0), (471, 0.0), (474, 0.0), (475, 0.0), (476, 0.0), (478, 0.0), (480, 0.0), (481, 0.0), (482, 0.0), (485, 0.0), (487, 0.0), (493, 0.0), (499, 0.0), (502, 0.0), (503, 0.0), (505, 0.0), (506, 0.0), (509, 0.0), (513, 0.0), (514, 0.0), (515, 0.0), (516, 0.0), (518, 0.0), (526, 0.0), (531, 0.0), (533, 0.0), (534, 0.0), (535, 0.0), (536, 0.0), (543, 0.0), (544, 0.0), (550, 0.0), (552, 0.0), (554, 0.0), (556, 0.0), (558, 0.0), (563, 0.0), (564, 0.0), (565, 0.0), (570, 0.0), (571, 0.0), (572, 0.0), (573, 0.0), (574, 0.0), (579, 0.0), (580, 0.0), (581, 0.0), (586, 0.0), (587, 0.0), (589, 0.0), (591, 0.0), (592, 0.0), (593, 0.0), (595, 0.0), (596, 0.0), (598, 0.0), (601, 0.0), (602, 0.0), (606, 0.0), (608, 0.0), (616, 0.0), (617, 0.0), (623, 0.0), (625, 0.0), (626, 0.0), (627, 0.0), (632, 0.0), (633, 0.0), (634, 0.0), (636, 0.0), (638, 0.0), (645, 0.0), (649, 0.0), (650, 0.0), (652, 0.0), (655, 0.0), (658, 0.0), (659, 0.0), (660, 0.0), (667, 0.0), (673, 0.0), (679, 0.0), (682, 0.0), (688, 0.0), (694, 0.0), (704, 0.0), (707, 0.0), (710, 0.0), (711, 0.0), (716, 0.0), (718, 0.0), (721, 0.0), (729, 0.0), (734, 0.0), (735, 0.0), (739, 0.0), (741, 0.0), (743, 0.0), (746, 0.0), (751, 0.0), (753, 0.0), (754, 0.0), (758, 0.0), (759, 0.0), (760, 0.0), (761, 0.0), (764, 0.0), (766, 0.0), (770, 0.0), (771, 0.0), (772, 0.0), (774, 0.0), (777, 0.0), (783, 0.0), (784, 0.0), (791, 0.0), (795, 0.0), (796, 0.0), (799, 0.0), (800, 0.0), (801, 0.0), (808, 0.0), (809, 0.0), (814, 0.0), (816, 0.0), (818, 0.0), (823, 0.0), (825, 0.0), (826, 0.0), (828, 0.0), (830, 0.0), (837, 0.0), (841, 0.0), (842, 0.0), (844, 0.0), (845, 0.0), (848, 0.0), (851, 0.0), (857, 0.0), (860, 0.0), (863, 0.0), (865, 0.0), (867, 0.0), (869, 0.0), (871, 0.0), (873, 0.0), (875, 0.0), (876, 0.0), (877, 0.0), (884, 0.0), (886, 0.0), (888, 0.0), (889, 0.0), (896, 0.0), (902, 0.0), (903, 0.0), (910, 0.0), (914, 0.0), (917, 0.0), (921, 0.0), (922, 0.0), (925, 0.0), (926, 0.0), (927, 0.0), (933, 0.0), (937, 0.0), (941, 0.0), (942, 0.0), (943, 0.0), (947, 0.0), (949, 0.0), (950, 0.0), (951, 0.0), (952, 0.0), (954, 0.0), (955, 0.0), (956, 0.0), (959, 0.0), (960, 0.0), (964, 0.0), (965, 0.0), (967, 0.0), (968, 0.0), (969, 0.0), (972, 0.0), (976, 0.0), (979, 0.0), (983, 0.0), (984, 0.0), (986, 0.0), (987, 0.0), (990, 0.0), (992, 0.0), (996, 0.0), (999, 0.0), (1003, 0.0), (1007, 0.0), (1012, 0.0), (1015, 0.0), (1017, 0.0), (1019, 0.0), (1020, 0.0), (1024, 0.0), (1027, 0.0), (1030, 0.0), (1032, 0.0), (1034, 0.0), (1036, 0.0), (1037, 0.0), (1044, 0.0), (1051, 0.0), (1053, 0.0), (1055, 0.0), (1057, 0.0), (1058, 0.0), (1061, 0.0), (1063, 0.0), (1064, 0.0), (1065, 0.0), (1069, 0.0), (1070, 0.0), (1074, 0.0), (1075, 0.0), (1078, 0.0), (1083, 0.0), (1086, 0.0), (1091, 0.0), (1092, 0.0), (1096, 0.0), (1097, 0.0), (1098, 0.0), (1099, 0.0), (1102, 0.0), (1108, 0.0), (1110, 0.0), (1119, 0.0), (1121, 0.0), (1123, 0.0), (1124, 0.0), (1125, 0.0), (1126, 0.0), (1128, 0.0), (1131, 0.0), (1138, 0.0), (1139, 0.0), (1143, 0.0), (1145, 0.0), (1147, 0.0), (1148, 0.0), (1149, 0.0), (1151, 0.0), (1154, 0.0), (1156, 0.0), (1158, 0.0), (1159, 0.0), (1160, 0.0), (1163, 0.0), (1164, 0.0), (1167, 0.0), (1169, 0.0), (1174, 0.0), (1177, 0.0), (1181, 0.0), (1183, 0.0), (1184, 0.0), (1187, 0.0), (1188, 0.0), (1189, 0.0), (1190, 0.0), (1193, 0.0), (1199, 0.0), (1200, 0.0), (1201, 0.0), (1203, 0.0), (1205, 0.0), (1224, 0.0), (1225, 0.0), (1229, 0.0), (1230, 0.0), (1233, 0.0), (1234, 0.0), (1236, 0.0), (1240, 0.0), (1243, 0.0), (1244, 0.0), (1252, 0.0), (1256, 0.0), (1258, 0.0), (1260, 0.0), (1261, 0.0), (1264, 0.0), (1265, 0.0), (1271, 0.0), (1272, 0.0), (1275, 0.0), (1280, 0.0), (1281, 0.0), (1283, 0.0), (1286, 0.0), (1287, 0.0), (1289, 0.0), (1290, 0.0), (1293, 0.0), (1294, 0.0), (1299, 0.0), (1302, 0.0), (1303, 0.0), (1309, 0.0), (1311, 0.0), (1313, 0.0), (1316, 0.0), (1317, 0.0), (1318, 0.0), (1320, 0.0), (1324, 0.0), (1325, 0.0), (1326, 0.0), (1331, 0.0), (1332, 0.0), (1335, 0.0), (1337, 0.0), (1340, 0.0), (1342, 0.0), (1348, 0.0), (1350, 0.0), (1355, 0.0), (1357, 0.0), (1359, 0.0), (1362, 0.0), (1363, 0.0), (1371, 0.0), (1378, 0.0), (1382, 0.0), (1386, 0.0), (1388, 0.0), (1391, 0.0), (1398, 0.0), (1399, 0.0), (1400, 0.0), (1408, 0.0), (1415, 0.0), (1416, 0.0), (1417, 0.0), (1424, 0.0), (1427, 0.0), (1429, 0.0), (1432, 0.0), (1434, 0.0), (1435, 0.0), (1437, 0.0), (1438, 0.0), (1439, 0.0), (1441, 0.0), (1444, 0.0), (1448, 0.0), (1449, 0.0), (1452, 0.0), (1455, 0.0), (1457, 0.0), (1462, 0.0), (1469, 0.0), (1470, 0.0), (1476, 0.0), (1483, 0.0), (1490, 0.0), (1491, 0.0), (1497, 0.0), (1498, 0.0), (1499, 0.0), (1504, 0.0), (1508, 0.0), (1512, 0.0), (1514, 0.0), (1516, 0.0), (1518, 0.0), (1519, 0.0), (1527, 0.0), (1528, 0.0), (1533, 0.0), (1534, 0.0), (1536, 0.0), (1540, 0.0), (1545, 0.0), (1547, 0.0), (1554, 0.0), (1556, 0.0), (1560, 0.0), (1566, 0.0), (1570, 0.0), (1573, 0.0), (1585, 0.0), (1589, 0.0), (1590, 0.0), (1591, 0.0), (1593, 0.0), (1596, 0.0), (1605, 0.0), (1611, 0.0), (1612, 0.0), (1618, 0.0), (1622, 0.0), (1623, 0.0), (1624, 0.0), (1628, 0.0), (1631, 0.0), (1633, 0.0), (1635, 0.0), (1637, 0.0), (1638, 0.0), (1639, 0.0), (1641, 0.0), (1644, 0.0), (1651, 0.0), (1656, 0.0), (1657, 0.0), (1658, 0.0), (1659, 0.0), (1661, 0.0), (1665, 0.0), (1671, 0.0), (1674, 0.0), (1685, 0.0), (1693, 0.0), (1703, 0.0), (1705, 0.0), (1708, 0.0), (1717, 0.0), (1722, 0.0), (1727, 0.0), (1728, 0.0), (1729, 0.0), (1730, 0.0), (1732, 0.0), (1733, 0.0), (1735, 0.0), (1736, 0.0), (1739, 0.0), (1740, 0.0), (1745, 0.0), (1747, 0.0), (1748, 0.0), (1749, 0.0), (1750, 0.0), (1752, 0.0), (1753, 0.0), (1754, 0.0), (1761, 0.0), (1765, 0.0), (1767, 0.0), (1770, 0.0), (1773, 0.0), (1775, 0.0), (1780, 0.0), (1785, 0.0), (1786, 0.0), (1790, 0.0), (1792, 0.0), (1795, 0.0), (1796, 0.0), (1801, 0.0), (1803, 0.0), (1805, 0.0), (1806, 0.0), (1815, 0.0), (1819, 0.0), (1822, 0.0), (1826, 0.0), (1829, 0.0), (1831, 0.0), (1832, 0.0), (1834, 0.0), (1835, 0.0), (1836, 0.0), (1838, 0.0), (1840, 0.0), (1847, 0.0), (1848, 0.0), (1853, 0.0), (1856, 0.0), (1862, 0.0), (1866, 0.0), (1867, 0.0), (1868, 0.0), (1870, 0.0), (1872, 0.0), (1874, 0.0), (1879, 0.0), (1880, 0.0), (1882, 0.0), (1884, 0.0), (1885, 0.0), (1890, 0.0), (1891, 0.0), (1892, 0.0), (1894, 0.0), (1900, 0.0), (1901, 0.0), (1904, 0.0), (1905, 0.0), (1906, 0.0), (1909, 0.0), (1916, 0.0), (1917, 0.0), (1918, 0.0), (1922, 0.0), (1923, 0.0), (1924, 0.0), (1929, 0.0), (1930, 0.0), (1939, 0.0), (1940, 0.0), (1941, 0.0), (1945, 0.0), (1946, 0.0), (1947, 0.0), (1949, 0.0), (1956, 0.0), (1960, 0.0), (1962, 0.0), (1965, 0.0), (1966, 0.0), (1970, 0.0), (1975, 0.0), (1976, 0.0), (1980, 0.0), (1983, 0.0), (1989, 0.0), (1991, 0.0), (1995, 0.0), (2001, 0.0), (2002, 0.0), (2004, 0.0), (2008, 0.0), (2010, 0.0), (2011, 0.0), (2021, 0.0), (2024, 0.0), (2025, 0.0), (2028, 0.0), (2033, 0.0), (2042, 0.0), (2044, 0.0), (2048, 0.0), (2054, 0.0), (2057, 0.0), (2059, 0.0), (2063, 0.0), (2066, 0.0), (2067, 0.0), (2068, 0.0), (2069, 0.0), (2075, 0.0), (2077, 0.0), (2080, 0.0), (2081, 0.0), (2083, 0.0), (2084, 0.0), (2089, 0.0), (2090, 0.0), (2093, 0.0), (2096, 0.0), (2097, 0.0), (2101, 0.0), (2105, 0.0), (2106, 0.0), (2108, 0.0), (2110, 0.0), (2115, 0.0), (2120, 0.0), (2123, 0.0), (2124, 0.0), (2130, 0.0), (2132, 0.0), (2133, 0.0), (2134, 0.0), (2136, 0.0), (2137, 0.0), (2141, 0.0), (2142, 0.0), (2146, 0.0), (2148, 0.0), (2151, 0.0), (2152, 0.0), (2162, 0.0), (2163, 0.0), (2164, 0.0), (2165, 0.0), (2166, 0.0), (2168, 0.0), (2172, 0.0), (2173, 0.0), (2179, 0.0), (2181, 0.0), (2182, 0.0), (2184, 0.0), (2186, 0.0), (2187, 0.0), (2188, 0.0), (2189, 0.0), (2194, 0.0), (2202, 0.0), (2203, 0.0), (2205, 0.0), (2208, 0.0), (2209, 0.0), (2212, 0.0), (2213, 0.0), (2214, 0.0), (2216, 0.0), (2217, 0.0), (2219, 0.0), (2225, 0.0), (2228, 0.0), (2229, 0.0), (2230, 0.0), (2231, 0.0), (2232, 0.0), (2238, 0.0), (2240, 0.0), (2241, 0.0), (2242, 0.0), (2243, 0.0), (2244, 0.0), (2247, 0.0), (2248, 0.0), (2249, 0.0), (2251, 0.0), (2253, 0.0), (2255, 0.0), (2256, 0.0), (2258, 0.0), (2270, 0.0), (2271, 0.0), (2272, 0.0), (2273, 0.0), (2275, 0.0), (2276, 0.0), (2279, 0.0), (2280, 0.0), (2282, 0.0), (2286, 0.0), (2288, 0.0), (2289, 0.0), (2293, 0.0), (2295, 0.0), (2298, 0.0), (2299, 0.0), (2300, 0.0), (2302, 0.0), (2304, 0.0), (2305, 0.0), (2306, 0.0), (2307, 0.0), (2308, 0.0), (2309, 0.0), (2310, 0.0), (2312, 0.0), (2313, 0.0), (2314, 0.0), (2315, 0.0), (2321, 0.0), (2323, 0.0), (2324, 0.0), (2325, 0.0), (2328, 0.0), (2333, 0.0), (2336, 0.0), (2341, 0.0), (2342, 0.0), (2343, 0.0), (2344, 0.0), (2345, 0.0), (2346, 0.0), (2348, 0.0), (2349, 0.0), (2350, 0.0), (2355, 0.0), (2356, 0.0), (2357, 0.0), (2361, 0.0), (2362, 0.0), (2363, 0.0), (2369, 0.0), (2373, 0.0), (2374, 0.0), (2380, 0.0), (2382, 0.0), (2383, 0.0), (2384, 0.0), (2385, 0.0), (2386, 0.0), (2388, 0.0), (2392, 0.0), (2394, 0.0), (2395, 0.0), (2396, 0.0), (2397, 0.0), (2400, 0.0), (2403, 0.0), (2404, 0.0), (2407, 0.0), (2410, 0.0), (2411, 0.0), (2415, 0.0), (2417, 0.0), (2420, 0.0), (2424, 0.0), (2425, 0.0), (2426, 0.0), (2428, 0.0), (2429, 0.0), (2434, 0.0), (2437, 0.0), (2438, 0.0), (2439, 0.0), (2444, 0.0), (2452, 0.0), (2453, 0.0), (2454, 0.0), (2455, 0.0), (2458, 0.0), (2464, 0.0), (2467, 0.0), (2468, 0.0), (2469, 0.0), (2471, 0.0), (2475, 0.0), (2476, 0.0), (2477, 0.0), (2478, 0.0), (2483, 0.0), (2488, 0.0), (2489, 0.0), (2490, 0.0), (2493, 0.0), (2495, 0.0), (2499, 0.0), (2500, 0.0), (2502, 0.0), (2505, 0.0), (2506, 0.0), (2508, 0.0), (2512, 0.0), (2515, 0.0), (2519, 0.0), (2522, 0.0), (2523, 0.0), (2527, 0.0), (2529, 0.0), (2535, 0.0), (2536, 0.0), (2537, 0.0), (2542, 0.0), (2543, 0.0), (2545, 0.0), (2551, 0.0), (2556, 0.0), (2557, 0.0), (2558, 0.0), (2559, 0.0), (2561, 0.0), (2564, 0.0), (2565, 0.0), (2566, 0.0), (2567, 0.0), (2569, 0.0), (2572, 0.0), (2575, 0.0), (2576, 0.0), (2596, 0.0), (2597, 0.0), (2598, 0.0), (2599, 0.0), (2600, 0.0), (2602, 0.0), (2605, 0.0), (2606, 0.0), (2607, 0.0), (2613, 0.0), (2619, 0.0), (2620, 0.0), (2621, 0.0), (2623, 0.0), (2624, 0.0), (2628, 0.0), (2629, 0.0), (2630, 0.0), (2635, 0.0), (2639, 0.0), (2641, 0.0), (2648, 0.0), (2649, 0.0), (2651, 0.0), (2655, 0.0), (2657, 0.0), (2658, 0.0), (2659, 0.0), (2662, 0.0), (2664, 0.0), (2667, 0.0), (2669, 0.0), (2670, 0.0), (2674, 0.0), (2676, 0.0), (2678, 0.0), (2679, 0.0), (2681, 0.0), (2684, 0.0), (2690, 0.0), (2692, 0.0), (2693, 0.0), (2694, 0.0), (2695, 0.0), (2699, 0.0), (2700, 0.0), (2701, 0.0), (2702, 0.0), (2703, 0.0), (2705, 0.0), (2707, 0.0), (2709, 0.0), (2711, 0.0), (2714, 0.0), (2716, 0.0), (2718, 0.0), (2722, 0.0), (2726, 0.0), (2727, 0.0), (2728, 0.0), (2731, 0.0), (2735, 0.0), (2736, 0.0), (2737, 0.0), (2738, 0.0), (2742, 0.0), (2743, 0.0), (2744, 0.0), (2745, 0.0), (2748, 0.0), (2754, 0.0), (2757, 0.0), (2764, 0.0), (2767, 0.0), (2768, 0.0), (2769, 0.0), (2773, 0.0), (2775, 0.0), (2778, 0.0), (2779, 0.0), (2780, 0.0), (2783, 0.0), (2786, 0.0), (2787, 0.0), (2794, 0.0), (2795, 0.0), (2796, 0.0), (2797, 0.0), (2800, 0.0), (2802, 0.0), (2803, 0.0), (2811, 0.0), (2815, 0.0), (2818, 0.0), (2819, 0.0), (2820, 0.0), (2823, 0.0), (2825, 0.0), (2827, 0.0), (2828, 0.0), (2830, 0.0), (2832, 0.0), (2833, 0.0), (2837, 0.0), (2838, 0.0), (2843, 0.0), (2846, 0.0), (2847, 0.0), (2848, 0.0), (2849, 0.0), (2850, 0.0), (2853, 0.0), (2858, 0.0), (2860, 0.0), (2861, 0.0), (2863, 0.0), (2866, 0.0), (2868, 0.0), (2869, 0.0), (2870, 0.0), (2871, 0.0), (2872, 0.0), (2875, 0.0), (2877, 0.0), (2879, 0.0), (2880, 0.0), (2881, 0.0), (2883, 0.0), (2886, 0.0), (2888, 0.0), (2889, 0.0), (2890, 0.0), (2891, 0.0), (2893, 0.0), (2894, 0.0), (2895, 0.0), (2898, 0.0), (2900, 0.0), (2902, 0.0), (2903, 0.0), (2905, 0.0), (2907, 0.0), (2913, 0.0), (2914, 0.0), (2917, 0.0), (2919, 0.0), (2922, 0.0), (2923, 0.0), (2926, 0.0), (2928, 0.0), (2930, 0.0), (2932, 0.0), (2934, 0.0), (2936, 0.0), (2937, 0.0), (2939, 0.0), (2941, 0.0), (2943, 0.0), (2945, 0.0), (2946, 0.0), (2947, 0.0), (2948, 0.0), (2949, 0.0), (2950, 0.0), (2953, 0.0), (2955, 0.0), (2956, 0.0), (2959, 0.0), (2960, 0.0), (2961, 0.0), (2966, 0.0), (2967, 0.0), (2968, 0.0), (2970, 0.0), (2971, 0.0), (2973, 0.0), (2974, 0.0), (2978, 0.0), (2979, 0.0), (2983, 0.0), (2984, 0.0), (2986, 0.0), (2987, 0.0), (2988, 0.0), (2989, 0.0), (2990, 0.0), (2991, 0.0), (2993, 0.0), (2994, 0.0), (2995, 0.0), (2997, 0.0), (3001, 0.0), (3002, 0.0), (3004, 0.0), (3005, 0.0), (3006, 0.0), (3007, 0.0), (3008, 0.0), (3009, 0.0), (3012, 0.0), (3013, 0.0), (3015, 0.0), (3016, 0.0), (3017, 0.0), (3019, 0.0), (3020, 0.0), (3021, 0.0), (3023, 0.0), (3025, 0.0), (3026, 0.0), (3029, 0.0), (3030, 0.0), (3031, 0.0), (3032, 0.0), (3035, 0.0), (3036, 0.0), (3037, 0.0), (3038, 0.0), (3040, 0.0), (3041, 0.0), (3042, 0.0), (3044, 0.0), (3048, 0.0), (3049, 0.0), (3050, 0.0), (3051, 0.0), (3052, 0.0), (3054, 0.0), (3055, 0.0), (3056, 0.0), (3059, 0.0), (3061, 0.0), (3062, 0.0), (3063, 0.0), (3064, 0.0), (3067, 0.0), (3068, 0.0), (3069, 0.0), (3070, 0.0), (3072, 0.0), (3075, 0.0), (3076, 0.0), (3079, 0.0), (3082, 0.0), (3085, 0.0), (3086, 0.0), (3087, 0.0), (3088, 0.0), (3090, 0.0), (3093, 0.0), (3095, 0.0), (3097, 0.0), (3099, 0.0), (3100, 0.0), (3102, 0.0), (3105, 0.0), (3107, 0.0), (3114, 0.0), (3115, 0.0), (3118, 0.0), (3119, 0.0), (3123, 0.0), (3124, 0.0), (3126, 0.0), (3128, 0.0), (3130, 0.0), (3132, 0.0), (3134, 0.0), (3135, 0.0), (3136, 0.0), (3139, 0.0), (3140, 0.0), (3143, 0.0), (3145, 0.0), (3146, 0.0), (3147, 0.0), (3153, 0.0), (3154, 0.0), (3157, 0.0), (3158, 0.0), (3159, 0.0), (3160, 0.0), (3161, 0.0), (3163, 0.0), (3165, 0.0), (3166, 0.0), (3167, 0.0), (3168, 0.0), (3169, 0.0), (3170, 0.0), (3171, 0.0), (3176, 0.0), (3177, 0.0), (3178, 0.0), (3179, 0.0), (3182, 0.0), (3184, 0.0), (3185, 0.0), (3186, 0.0), (3190, 0.0), (3191, 0.0), (3192, 0.0), (3194, 0.0), (3196, 0.0), (3197, 0.0), (3198, 0.0), (3202, 0.0), (3203, 0.0), (3207, 0.0), (3210, 0.0), (3217, 0.0), (3220, 0.0), (3223, 0.0), (3227, 0.0), (3232, 0.0), (3239, 0.0), (3241, 0.0), (3242, 0.0), (3245, 0.0), (3248, 0.0), (3249, 0.0), (3250, 0.0), (3253, 0.0), (3255, 0.0), (3258, 0.0), (3261, 0.0), (3262, 0.0), (3263, 0.0), (3266, 0.0), (3267, 0.0), (3268, 0.0), (3274, 0.0), (3275, 0.0), (3276, 0.0), (3278, 0.0), (3281, 0.0), (3282, 0.0), (3285, 0.0), (3290, 0.0), (3291, 0.0), (3292, 0.0), (3296, 0.0), (3300, 0.0), (3301, 0.0), (3304, 0.0), (3305, 0.0), (3307, 0.0), (3308, 0.0), (3309, 0.0), (3310, 0.0), (3314, 0.0), (3319, 0.0), (3322, 0.0), (3323, 0.0), (3324, 0.0), (3326, 0.0), (3332, 0.0), (3333, 0.0), (3334, 0.0), (3337, 0.0), (3339, 0.0), (3340, 0.0), (3341, 0.0), (3347, 0.0), (3348, 0.0), (3349, 0.0), (3351, 0.0), (3352, 0.0), (3353, 0.0), (3354, 0.0), (3355, 0.0), (3357, 0.0), (3358, 0.0), (3359, 0.0), (3363, 0.0), (3371, 0.0), (3372, 0.0), (3373, 0.0), (3375, 0.0), (3377, 0.0), (3380, 0.0), (3381, 0.0), (3382, 0.0), (3383, 0.0), (3385, 0.0), (3388, 0.0), (3391, 0.0), (3394, 0.0), (3396, 0.0), (3398, 0.0), (3401, 0.0), (3402, 0.0), (3404, 0.0), (3405, 0.0), (3406, 0.0), (3417, 0.0), (3418, 0.0), (3419, 0.0), (3422, 0.0), (3423, 0.0), (3426, 0.0), (3428, 0.0), (3429, 0.0), (3431, 0.0), (3432, 0.0), (3433, 0.0), (3434, 0.0), (3436, 0.0), (3437, 0.0), (3439, 0.0), (3440, 0.0), (3441, 0.0), (3445, 0.0), (3449, 0.0), (3453, 0.0), (3455, 0.0), (3460, 0.0), (3462, 0.0), (3470, 0.0), (3475, 0.0), (3478, 0.0), (3479, 0.0), (3480, 0.0), (3483, 0.0), (3486, 0.0), (3488, 0.0), (3489, 0.0), (3490, 0.0), (3493, 0.0), (3494, 0.0), (3496, 0.0), (3497, 0.0), (3498, 0.0), (3499, 0.0), (3500, 0.0), (3506, 0.0), (3510, 0.0), (3513, 0.0), (3514, 0.0), (3519, 0.0), (3521, 0.0), (3522, 0.0), (3523, 0.0), (3525, 0.0), (3527, 0.0), (3528, 0.0), (3530, 0.0), (3532, 0.0), (3534, 0.0), (3535, 0.0), (3542, 0.0), (3543, 0.0), (3544, 0.0), (3547, 0.0), (3550, 0.0), (3552, 0.0), (3555, 0.0), (3560, 0.0), (3561, 0.0), (3565, 0.0), (3569, 0.0), (3570, 0.0), (3571, 0.0), (3572, 0.0), (3573, 0.0), (3575, 0.0), (3576, 0.0), (3580, 0.0), (3583, 0.0), (3584, 0.0), (3588, 0.0), (3590, 0.0), (3591, 0.0), (3592, 0.0), (3595, 0.0), (3596, 0.0), (3597, 0.0), (3599, 0.0), (3600, 0.0), (3601, 0.0), (3603, 0.0), (3605, 0.0), (3608, 0.0), (3609, 0.0), (3614, 0.0), (3617, 0.0), (3621, 0.0), (3622, 0.0), (3623, 0.0), (3624, 0.0), (3625, 0.0), (3629, 0.0), (3634, 0.0), (3635, 0.0), (3636, 0.0), (3639, 0.0), (3640, 0.0), (3642, 0.0), (3645, 0.0), (3649, 0.0), (3652, 0.0), (3663, 0.0), (3664, 0.0), (3669, 0.0), (3670, 0.0), (3672, 0.0), (3675, 0.0), (3676, 0.0), (3679, 0.0), (3680, 0.0), (3686, 0.0), (3687, 0.0), (3688, 0.0), (3691, 0.0), (3692, 0.0), (3693, 0.0), (3694, 0.0), (3700, 0.0), (3702, 0.0), (3703, 0.0), (3707, 0.0), (3708, 0.0), (3714, 0.0), (3715, 0.0), (3717, 0.0), (3719, 0.0), (3721, 0.0), (3723, 0.0), (3725, 0.0), (3727, 0.0), (3729, 0.0), (3732, 0.0), (3733, 0.0), (3734, 0.0), (3740, 0.0), (3742, 0.0), (3744, 0.0), (3745, 0.0), (3749, 0.0), (3750, 0.0), (3755, 0.0), (3756, 0.0), (3757, 0.0), (3758, 0.0), (3760, 0.0), (3761, 0.0), (3762, 0.0), (3764, 0.0), (3766, 0.0), (3767, 0.0), (3770, 0.0), (3771, 0.0), (3774, 0.0), (3775, 0.0), (3779, 0.0), (3783, 0.0), (3787, 0.0), (3788, 0.0), (3789, 0.0), (3791, 0.0), (3793, 0.0), (3795, 0.0), (3798, 0.0), (3799, 0.0), (3800, 0.0), (3804, 0.0), (3806, 0.0), (3811, 0.0), (3814, 0.0), (3815, 0.0), (3820, 0.0), (3827, 0.0), (3828, 0.0), (3830, 0.0), (3832, 0.0), (3833, 0.0), (3834, 0.0), (3836, 0.0), (3837, 0.0), (3838, 0.0), (3842, 0.0), (3844, 0.0), (3845, 0.0), (3848, 0.0), (3850, 0.0), (3851, 0.0), (3853, 0.0), (3859, 0.0), (3862, 0.0), (3867, 0.0), (3869, 0.0), (3872, 0.0), (3873, 0.0), (3874, 0.0), (3879, 0.0), (3880, 0.0), (3881, 0.0), (3883, 0.0), (3884, 0.0), (3885, 0.0), (3887, 0.0), (3888, 0.0), (3896, 0.0), (3898, 0.0), (3900, 0.0), (3901, 0.0), (3902, 0.0), (3904, 0.0), (3908, 0.0), (3910, 0.0), (3911, 0.0), (3915, 0.0), (3918, 0.0), (3922, 0.0), (3925, 0.0), (3929, 0.0), (3931, 0.0), (3932, 0.0), (3933, 0.0), (3934, 0.0), (3935, 0.0), (3936, 0.0), (3937, 0.0), (3939, 0.0), (3941, 0.0), (3942, 0.0), (3945, 0.0), (3946, 0.0), (3947, 0.0), (3949, 0.0), (3952, 0.0), (3953, 0.0), (3954, 0.0), (3958, 0.0), (3961, 0.0), (3962, 0.0), (3965, 0.0), (3967, 0.0), (3968, 0.0), (3971, 0.0), (3973, 0.0), (3974, 0.0), (3975, 0.0), (3976, 0.0), (3977, 0.0), (3978, 0.0), (3979, 0.0), (3981, 0.0), (3982, 0.0), (3985, 0.0), (3987, 0.0), (3988, 0.0), (3989, 0.0), (3992, 0.0), (3996, 0.0), (3999, 0.0), (4000, 0.0), (4005, 0.0), (4008, 0.0), (4011, 0.0), (4014, 0.0), (4016, 0.0), (4017, 0.0), (4018, 0.0), (4019, 0.0), (4024, 0.0), (4026, 0.0), (4027, 0.0), (4028, 0.0), (4029, 0.0), (4030, 0.0), (4033, 0.0), (4035, 0.0), (4036, 0.0), (4039, 0.0), (4040, 0.0), (4041, 0.0), (4042, 0.0), (4043, 0.0), (4044, 0.0), (4045, 0.0), (4048, 0.0), (4049, 0.0), (4050, 0.0), (4052, 0.0), (4053, 0.0), (4056, 0.0), (4058, 0.0), (4060, 0.0), (4065, 0.0), (4067, 0.0), (4069, 0.0), (4071, 0.0), (4072, 0.0), (4073, 0.0), (4075, 0.0), (4078, 0.0), (4080, 0.0), (4082, 0.0), (4083, 0.0), (4084, 0.0), (4085, 0.0), (4087, 0.0), (4088, 0.0), (4092, 0.0), (4093, 0.0), (4094, 0.0), (4096, 0.0), (4097, 0.0), (4100, 0.0), (4101, 0.0), (4102, 0.0), (4103, 0.0), (4105, 0.0), (4107, 0.0), (4108, 0.0), (4115, 0.0), (4116, 0.0), (4123, 0.0), (4126, 0.0), (4127, 0.0), (4128, 0.0), (4129, 0.0), (4130, 0.0), (4131, 0.0), (4133, 0.0), (4139, 0.0), (4141, 0.0), (4142, 0.0), (4145, 0.0), (4148, 0.0), (4149, 0.0), (4150, 0.0), (4151, 0.0), (4153, 0.0), (4154, 0.0), (4159, 0.0), (4161, 0.0), (4162, 0.0), (4163, 0.0), (4166, 0.0), (4167, 0.0), (4170, 0.0), (4172, 0.0), (4175, 0.0), (4179, 0.0), (4180, 0.0), (4181, 0.0), (4184, 0.0), (4185, 0.0), (4187, 0.0), (4188, 0.0), (4193, 0.0), (4198, 0.0), (4200, 0.0), (4202, 0.0), (4204, 0.0), (4206, 0.0), (4208, 0.0), (4209, 0.0), (4211, 0.0), (4212, 0.0), (4213, 0.0), (4215, 0.0), (4216, 0.0), (4219, 0.0), (4221, 0.0), (4222, 0.0), (4223, 0.0), (4224, 0.0), (4225, 0.0), (4227, 0.0), (4228, 0.0), (4229, 0.0), (4230, 0.0), (4231, 0.0), (4232, 0.0), (4234, 0.0), (4235, 0.0), (4236, 0.0), (4238, 0.0), (4239, 0.0), (4243, 0.0), (4244, 0.0), (4246, 0.0), (4248, 0.0), (4249, 0.0), (4251, 0.0), (4253, 0.0), (4255, 0.0), (4256, 0.0), (4260, 0.0), (4261, 0.0), (4264, 0.0), (4266, 0.0), (4273, 0.0), (4274, 0.0), (4275, 0.0), (4276, 0.0), (4278, 0.0), (4285, 0.0), (4286, 0.0), (4288, 0.0), (4291, 0.0), (4293, 0.0), (4294, 0.0), (4296, 0.0), (4298, 0.0), (4299, 0.0), (4300, 0.0), (4301, 0.0), (4302, 0.0), (4305, 0.0), (4306, 0.0), (4308, 0.0), (4310, 0.0), (4311, 0.0), (4313, 0.0), (4315, 0.0), (4316, 0.0), (4317, 0.0), (4318, 0.0), (4319, 0.0), (4321, 0.0), (4322, 0.0), (4326, 0.0), (4331, 0.0), (4333, 0.0), (4335, 0.0), (4336, 0.0), (4345, 0.0), (4349, 0.0), (4352, 0.0), (4354, 0.0), (4355, 0.0), (4357, 0.0), (4359, 0.0), (4360, 0.0), (4361, 0.0), (4365, 0.0), (4367, 0.0), (4369, 0.0), (4370, 0.0), (4375, 0.0), (4377, 0.0), (4381, 0.0), (4382, 0.0), (4383, 0.0), (4384, 0.0), (4385, 0.0), (4386, 0.0), (4389, 0.0), (4390, 0.0), (4391, 0.0), (4392, 0.0), (4393, 0.0), (4398, 0.0), (4400, 0.0), (4403, 0.0), (4404, 0.0), (4408, 0.0), (4412, 0.0), (4413, 0.0), (4415, 0.0), (4416, 0.0), (4417, 0.0), (4418, 0.0), (4419, 0.0), (4423, 0.0), (4424, 0.0), (4425, 0.0), (4429, 0.0), (4432, 0.0), (4434, 0.0), (4435, 0.0), (4437, 0.0), (4439, 0.0), (4443, 0.0), (4446, 0.0), (4452, 0.0), (4453, 0.0), (4456, 0.0), (4458, 0.0), (4461, 0.0), (4463, 0.0), (4464, 0.0), (4465, 0.0), (4468, 0.0), (4469, 0.0), (4470, 0.0), (4471, 0.0), (4474, 0.0), (4475, 0.0), (4476, 0.0), (4480, 0.0), (4484, 0.0), (4485, 0.0), (4488, 0.0), (4489, 0.0), (4490, 0.0), (4491, 0.0), (4493, 0.0), (4494, 0.0), (4495, 0.0), (4497, 0.0), (4499, 0.0), (4505, 0.0), (4506, 0.0), (4507, 0.0), (4508, 0.0), (4509, 0.0), (4510, 0.0), (4512, 0.0), (4513, 0.0), (4514, 0.0), (4517, 0.0), (4520, 0.0), (4521, 0.0), (4522, 0.0), (4525, 0.0), (4527, 0.0), (4528, 0.0), (4529, 0.0), (4532, 0.0), (4533, 0.0), (4535, 0.0), (4536, 0.0), (4537, 0.0), (4538, 0.0), (4539, 0.0), (4540, 0.0), (4542, 0.0), (4543, 0.0), (4544, 0.0), (4545, 0.0), (4546, 0.0), (4547, 0.0), (4552, 0.0), (4554, 0.0), (4556, 0.0), (4557, 0.0), (4560, 0.0), (4561, 0.0), (4563, 0.0), (4565, 0.0), (4566, 0.0), (4571, 0.0), (4572, 0.0), (4573, 0.0), (4574, 0.0), (4575, 0.0), (4577, 0.0), (4578, 0.0), (4579, 0.0), (4580, 0.0), (4581, 0.0), (4583, 0.0), (4584, 0.0), (4585, 0.0), (4586, 0.0), (4588, 0.0), (4593, 0.0), (4595, 0.0), (4597, 0.0), (4601, 0.0), (4602, 0.0), (4603, 0.0), (4608, 0.0), (4611, 0.0), (4614, 0.0), (4615, 0.0), (4617, 0.0), (4618, 0.0), (4619, 0.0), (4620, 0.0), (4622, 0.0), (4625, 0.0), (4626, 0.0), (4631, 0.0), (4632, 0.0), (4633, 0.0), (4636, 0.0), (4637, 0.0), (4638, 0.0), (4639, 0.0), (4641, 0.0), (4642, 0.0), (4643, 0.0), (4644, 0.0), (4645, 0.0), (4648, 0.0), (4651, 0.0), (4653, 0.0), (4654, 0.0), (4655, 0.0), (4656, 0.0), (4657, 0.0), (4664, 0.0), (4666, 0.0), (4667, 0.0), (4668, 0.0), (4669, 0.0), (4670, 0.0), (4671, 0.0), (4672, 0.0), (4673, 0.0), (4678, 0.0), (4680, 0.0), (4681, 0.0), (4684, 0.0), (4690, 0.0), (4691, 0.0), (4692, 0.0), (4693, 0.0), (4694, 0.0), (4696, 0.0), (4697, 0.0), (4698, 0.0), (4699, 0.0), (4700, 0.0), (4701, 0.0), (4702, 0.0), (4704, 0.0), (4705, 0.0), (4706, 0.0), (4707, 0.0), (4708, 0.0), (4709, 0.0), (4710, 0.0), (4712, 0.0), (4713, 0.0), (4714, 0.0), (4715, 0.0), (4717, 0.0), (4719, 0.0), (4720, 0.0), (4722, 0.0), (4723, 0.0), (4724, 0.0), (4725, 0.0), (4727, 0.0), (4729, 0.0), (4731, 0.0), (4733, 0.0), (4734, 0.0), (4735, 0.0), (4739, 0.0), (4741, 0.0), (4742, 0.0), (4744, 0.0), (4746, 0.0), (4749, 0.0), (4750, 0.0), (4751, 0.0), (4753, 0.0), (4757, 0.0), (4759, 0.0)]\n"
          ]
        }
      ]
    },
    {
      "cell_type": "markdown",
      "source": [
        "##Output"
      ],
      "metadata": {
        "id": "Nq8Mt_aT6pyI"
      }
    },
    {
      "cell_type": "code",
      "source": [
        "print('Top Movies Recommended for You : \\n')\n",
        "i = 1\n",
        "\n",
        "for movie in Sorted_Similar_Movies:\n",
        "   index = movie[0]\n",
        "   title_from_index = df[df.index==index]['Movie_Title'].values[0]\n",
        "   if(i<31):\n",
        "      print(f\"{i}. {title_from_index}\")\n",
        "      i+=1"
      ],
      "metadata": {
        "colab": {
          "base_uri": "https://localhost:8080/"
        },
        "id": "hPFdiFwn153r",
        "outputId": "bd3f185e-211a-4a5b-eb88-f9e4d37b5980"
      },
      "execution_count": 107,
      "outputs": [
        {
          "output_type": "stream",
          "name": "stdout",
          "text": [
            "Top Movies Recommended for You : \n",
            "\n",
            "1. Finding Nemo\n",
            "2. Shark Tale\n",
            "3. WALL·E\n",
            "4. Meet the Deedles\n",
            "5. Big Fish\n",
            "6. Ponyo\n",
            "7. Mallrats\n",
            "8. Jonah: A VeggieTales Movie\n",
            "9. Happy Feet\n",
            "10. Megamind\n",
            "11. When Did You Last See Your Father?\n",
            "12. Treading Water\n",
            "13. El Mariachi\n",
            "14. White Chicks\n",
            "15. John Carter\n",
            "16. A Bug's Life\n",
            "17. Oceans\n",
            "18. Shooting Fish\n",
            "19. Dear Frankie\n",
            "20. He Got Game\n",
            "21. Zoom\n",
            "22. Because of Winn-Dixie\n",
            "23. The Reef\n",
            "24. The Outsiders\n",
            "25. Central Station\n",
            "26. Aquamarine\n",
            "27. My Favorite Martian\n",
            "28. Dark Shadows\n",
            "29. Tora! Tora! Tora!\n",
            "30. Bottle Rocket\n"
          ]
        }
      ]
    },
    {
      "cell_type": "markdown",
      "source": [
        "##Explanation\n",
        "Input: User provides the name of their current favorite movie.  \n",
        "Processing: Find the closest match in the dataset using the difflib.get_close_matches function.  \n",
        "Recommendation: Use cosine similarity to recommend movies similar to the user's favorite.  \n",
        "The code prints the top suggested movies based on similarity scores.This project aims to enhance user experience by providing personalized movie recommendations using content-based filtering. The system considers various movie features to suggest similar movies based on user preferences."
      ],
      "metadata": {
        "id": "rKbHYOtC6WiT"
      }
    }
  ]
}